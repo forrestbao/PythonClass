{
 "cells": [
  {
   "cell_type": "code",
   "execution_count": 5,
   "metadata": {},
   "outputs": [
    {
     "name": "stdout",
     "output_type": "stream",
     "text": [
      "6\n",
      "0\n"
     ]
    }
   ],
   "source": [
    "a = 0\n",
    "def haha(x):\n",
    "    y = a\n",
    "    return x + a\n",
    "\n",
    "print (haha(6))\n",
    "print (a)"
   ]
  },
  {
   "cell_type": "code",
   "execution_count": 7,
   "metadata": {},
   "outputs": [
    {
     "name": "stdout",
     "output_type": "stream",
     "text": [
      "2\n",
      "3\n",
      "4\n"
     ]
    }
   ],
   "source": [
    "a = 0 \n",
    "for i in range(2,5):\n",
    "    a+=1\n",
    "    print (i)"
   ]
  },
  {
   "cell_type": "code",
   "execution_count": null,
   "metadata": {},
   "outputs": [],
   "source": [
    "x = 0 \n",
    "def lala(x):\n",
    "    x += 1 \n",
    "    return x \n",
    "\n",
    "lala(7)\n",
    "\n",
    "print (x)"
   ]
  },
  {
   "cell_type": "code",
   "execution_count": null,
   "metadata": {},
   "outputs": [],
   "source": [
    "A = 10\n",
    "def haha(a):\n",
    "    A = a+3\n",
    "    return A # whatever happens in Vegas (a function call), \n",
    "             # stays in Vegas (inside the function call)\n",
    "print (haha(A))\n",
    "\n",
    "\n",
    "print (A)"
   ]
  },
  {
   "cell_type": "code",
   "execution_count": 5,
   "metadata": {},
   "outputs": [
    {
     "name": "stdout",
     "output_type": "stream",
     "text": [
      "0 1 1 0 False\n",
      "1 7 1 0 True\n",
      "2 4 7 1 False\n",
      "3 8 7 1 True\n",
      "4 3 8 3 False\n",
      "3\n",
      "0 1 1 0 False\n",
      "1 7 1 0 True\n",
      "2 4 7 1 False\n",
      "3 8 7 1 True\n",
      "4 3 8 3 False\n",
      "3\n"
     ]
    }
   ],
   "source": [
    "'''\n",
    "x # temporary largest value\n",
    "y # index of temporary largest value \n",
    "\n",
    "\n",
    "L \n",
    "x = L[0] \n",
    "y = 0 \n",
    "for each element l in L:\n",
    "    compare l with x\n",
    "    if l > x, update x to l, update y to the index of l \n",
    "    \n",
    "return y \n",
    "'''\n",
    "\n",
    "\n",
    "def argmax(L):\n",
    "    x, y  = L[0] , 0\n",
    "    counter  = 0 \n",
    "    for l in L:\n",
    "        print (counter, l, x, y, l> x)\n",
    "    \n",
    "        if l > x:\n",
    "            x = l \n",
    "            y = counter \n",
    "            \n",
    "        counter += 1 \n",
    "    return y \n",
    "\n",
    "print (argmax([1,7,4,8,3]))\n",
    "\n",
    "\n",
    "def argmax2(L):\n",
    "    x, y  = L[0] , 0\n",
    "    for i in range(len(L)):\n",
    "        print (i, L[i], x, y, L[i]> x)\n",
    "    \n",
    "        if L[i] > x:\n",
    "            x = L[i] \n",
    "            y = i\n",
    "    return y \n",
    "\n",
    "print (argmax2([1,7,4,8,3]))"
   ]
  },
  {
   "cell_type": "code",
   "execution_count": 6,
   "metadata": {},
   "outputs": [
    {
     "name": "stdout",
     "output_type": "stream",
     "text": [
      "2 2\n",
      "3 6\n",
      "4 24\n",
      "24\n"
     ]
    }
   ],
   "source": [
    "'''\n",
    "X: argument \n",
    "Product = 1 # \n",
    "for each integer x in [X, X-1, ..., 2]:\n",
    "    Increase Product by x folds \n",
    "return Product \n",
    "'''\n",
    "\n",
    "def Facy(X):\n",
    "    Product = 1\n",
    "    for x in range(2, X+1):\n",
    "        Product *= x\n",
    "        print (x, Product )        \n",
    "    return Product \n",
    "\n",
    "print (Facy(4))\n",
    "\n",
    "\n",
    "\n",
    "\n",
    "\n",
    "\n",
    "\n",
    "\n",
    "\n",
    "\n",
    "\n"
   ]
  },
  {
   "cell_type": "code",
   "execution_count": null,
   "metadata": {},
   "outputs": [],
   "source": [
    "# Constants, 1, 1.1, \"1.1\"\n",
    "# Variables, x_2\n",
    "# Operators, for numbers: +-*, //, %, /, ** , for strings: +, * \n",
    "# Expression: a constant, a variable, a function call\n",
    "            # or an expression connected with operators\n",
    "# facy(6)/5*3**10 is an expression \n",
    "\n",
    "# Functions: map inputs (arguments) to outputs  (returns)\n",
    "# function name, mapping rules\n",
    "# def function_name(argument1, argument2, ...): \n",
    "#     mapping rules (expressions, and if-, and for-statements )\n",
    "#     return something if needed \n",
    "# When calling a function, the arguemnt is substituted with an exp\n",
    "# Facy(10/2)\n",
    "\n",
    "# Conditional execution \n",
    "# if, else, elif \n",
    "# if condition1:\n",
    "#    do something\n",
    "# elif condition2:\n",
    "#    do something different\n",
    "# else: \n",
    "#    do somehting yet different \n",
    "\n",
    "# For-loop: do the same on a sequence of data \n",
    "# for element in sequence:\n",
    "#    do something \n",
    "\n",
    "# List \n",
    "# initialization, e.g., X=[], X=[1,2,3]\n",
    "# index,  e.g, X[2]\n",
    "# append,  X.append(4) => [1,2,3,4]"
   ]
  },
  {
   "cell_type": "code",
   "execution_count": 13,
   "metadata": {},
   "outputs": [
    {
     "name": "stdout",
     "output_type": "stream",
     "text": [
      "['The', 'coke', 'is', 'good']\n"
     ]
    }
   ],
   "source": [
    "'''\n",
    "\"The coke is good \" => [\"The\", \"coke\", \"is\", \"good\"]\n",
    "\n",
    "X = \"\"\n",
    "Y = [The, coke, ]\n",
    "\n",
    "\n",
    "\n",
    "X, Y = \"\", []\n",
    "\n",
    "for each letter l in the sentence:\n",
    "    if l is not space:\n",
    "        append l in to X\n",
    "    else:\n",
    "        append X into Y \n",
    "        clear X back to empty string \n",
    "\n",
    "return Y \n",
    "'''\n",
    "\n",
    "def chunk(S):\n",
    "    X, Y = \"\", []\n",
    "    for l in S:\n",
    "        if l != \" \":\n",
    "            X += l\n",
    "        else:\n",
    "            Y.append(X)\n",
    "            X = \"\"\n",
    "\n",
    "    Y.append(X)\n",
    "    return Y \n",
    "\n",
    "\n",
    "print (chunk(\"The coke is good\"))\n",
    "\n",
    "\n",
    "\n",
    "\n",
    "\n",
    "\n",
    "\n"
   ]
  },
  {
   "cell_type": "code",
   "execution_count": null,
   "metadata": {},
   "outputs": [],
   "source": []
  },
  {
   "cell_type": "code",
   "execution_count": null,
   "metadata": {},
   "outputs": [],
   "source": []
  }
 ],
 "metadata": {
  "kernelspec": {
   "display_name": "Python 3",
   "language": "python",
   "name": "python3"
  },
  "language_info": {
   "codemirror_mode": {
    "name": "ipython",
    "version": 3
   },
   "file_extension": ".py",
   "mimetype": "text/x-python",
   "name": "python",
   "nbconvert_exporter": "python",
   "pygments_lexer": "ipython3",
   "version": "3.6.7"
  }
 },
 "nbformat": 4,
 "nbformat_minor": 2
}
