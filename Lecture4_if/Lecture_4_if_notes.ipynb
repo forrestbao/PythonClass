{
 "cells": [
  {
   "cell_type": "markdown",
   "metadata": {},
   "source": [
    "# Conditional Execution a.k.a. fork\n",
    "\n",
    "\n",
    "Sometimes we want to add a \"gate\" in our program. For example, when the difference between two numebers (e.g., the cost of renting apartments vs. the cost of buying a house) is greater than a threshold, print a warning. In such a case, the warning printing does not always execute but depends. This is called **conditional execution**. It is also called a **fork**.\n",
    "\n",
    "\n",
    "## If-statements\n",
    "The basic block of conditional execution is if-statements. It's semantics is very simple, when a condition is true, execute a block of code. For example, "
   ]
  },
  {
   "cell_type": "code",
   "execution_count": 1,
   "metadata": {},
   "outputs": [
    {
     "name": "stdout",
     "output_type": "stream",
     "text": [
      "3 is greater than 2\n",
      "two strings are the same\n"
     ]
    }
   ],
   "source": [
    "if 3 > 2 :\n",
    "    print (\"3 is greater than 2\")\n",
    "    \n",
    "if \"happy\" == \"hap\" + \"py\":\n",
    "    print (\"two strings are the same\")"
   ]
  },
  {
   "cell_type": "markdown",
   "metadata": {},
   "source": [
    "The syntax of if-statement is as follows:\n",
    "\n",
    "```\n",
    "if expression:\n",
    "    code \n",
    "\n",
    "```\n",
    "The keyword `if` follows an expression, which is the condition. The code to be executed when the condition is true, is listed under and indented. The next that is vertically aligned with `if` also marks the end of the conditionally executed code.\n",
    "\n",
    "## Comparison operators and Boolean type\n",
    "The condition is usually the comparison of two data objects, e.g., two numbers, or two strings as we have seen above. Hence, let's introduce a new kind of operators: comparison operators. \n",
    "\n",
    "There are 6 of them. The value of a comparison expression is either `True` or `False` (case senesitive). They are of a new type: **Boolean**,  which is acutally binary (1 or 0)."
   ]
  },
  {
   "cell_type": "code",
   "execution_count": 3,
   "metadata": {},
   "outputs": [
    {
     "name": "stdout",
     "output_type": "stream",
     "text": [
      "True\n",
      "True\n",
      "False\n",
      "True\n",
      "True\n",
      "True\n",
      "False\n",
      "6\n",
      "2\n"
     ]
    }
   ],
   "source": [
    "print (3>2)\n",
    "print (2>=2)\n",
    "print (3<2)\n",
    "print (2<=2)\n",
    "print (2==2) # note it's not assignment but equality comparison \n",
    "print (2!=5)\n",
    "x = 3 > 2 \n",
    "print ( x * 6  ) \n",
    "print (True + True)"
   ]
  },
  {
   "cell_type": "markdown",
   "metadata": {},
   "source": [
    "## Boolean operators\n",
    "\n",
    "There are several operators defined for Boolean variables. Let's see some examples. "
   ]
  },
  {
   "cell_type": "code",
   "execution_count": 3,
   "metadata": {},
   "outputs": [
    {
     "name": "stdout",
     "output_type": "stream",
     "text": [
      "False\n",
      "True\n",
      "True\n",
      "0\n"
     ]
    }
   ],
   "source": [
    "print (4 > 10 and 6 < 11) # conjunction\n",
    "print (4 > 10 or 6 < 11 ) # disjunction\n",
    "print (not 4 > 10)      # negation \n"
   ]
  },
  {
   "cell_type": "markdown",
   "metadata": {},
   "source": [
    "An expression `a and b` is True when both `a` and `b` are True, and false in all other cases. An expression `a or b` is True when either `a` and `b` is True, and false if none of them is True. An expression `not a` is True only when `a` is False, or if false only when `a` is True. \n",
    "\n",
    "## Another example of if-statements"
   ]
  },
  {
   "cell_type": "code",
   "execution_count": 9,
   "metadata": {},
   "outputs": [
    {
     "name": "stdout",
     "output_type": "stream",
     "text": [
      "6\n",
      "haha\n",
      "7\n"
     ]
    }
   ],
   "source": [
    "def larger(x,y):\n",
    "    \"\"\"Given two numbers x and y, return the larger one. \n",
    "    \"\"\"\n",
    "    # compare x and y \n",
    "    # if x is greater than y, return x\n",
    "    # otherwise, return y \n",
    "    result = x > y # result is True/1 if x is greater than y. \n",
    "                   # is False/0 if not. \n",
    "    if result : # the keyword if, must follow with an expression \n",
    "        print (\"haha\")\n",
    "        return x # what to execute when the expression is True, is indented\n",
    "        \n",
    "    if not result:   # all other cases not visited above (virtically aligned)\n",
    "        return y \n",
    "    \n",
    "print (larger(5, 6))\n",
    "print (larger(7, 4))"
   ]
  },
  {
   "cell_type": "markdown",
   "metadata": {},
   "source": [
    "## Else-statements\n",
    "\n",
    "It is quite often that the conditions of two conditional blocks are **mutually exclusive**, meaning that if one is true, the other must be false, or the other way around. Just like the function `larger` above. The 2nd condition can be expressed as \"otherwise\" of the first case. Hence, Python introduces another statement, the **Else-statement**, to help model such a case. \n",
    "\n",
    "For example, the `larger` function can be rewrite into:"
   ]
  },
  {
   "cell_type": "code",
   "execution_count": 5,
   "metadata": {},
   "outputs": [
    {
     "name": "stdout",
     "output_type": "stream",
     "text": [
      "6\n",
      "7\n"
     ]
    }
   ],
   "source": [
    "def larger2(x,y):\n",
    "    if x>y:\n",
    "        return x\n",
    "    else: # negation of the condition(s) above \n",
    "        return y \n",
    "    \n",
    "print (larger2(5, 6))\n",
    "print (larger2(7, 4))"
   ]
  },
  {
   "cell_type": "markdown",
   "metadata": {},
   "source": [
    "You may view a if-else block as a binary fork. Note that an `else` block cannot be standalone. It must be paired with an `if` block and they must be vertially aligned. \n",
    "\n",
    "Let's see some more examples. In the examples below, explain the line of code that produces each line in the print out. "
   ]
  },
  {
   "cell_type": "code",
   "execution_count": 6,
   "metadata": {},
   "outputs": [
    {
     "name": "stdout",
     "output_type": "stream",
     "text": [
      "x is odd\n",
      "x is odd\n",
      "True\n"
     ]
    }
   ],
   "source": [
    "def is_even(x):\n",
    "    \"\"\"return 10 if x is even. otherwise return -100\n",
    "    \"\"\"\n",
    "    result = ( (x%2) == 0) # result is True is x is even; false otherwise\n",
    "    if result: \n",
    "        print (\"x is even\")\n",
    "        return 10\n",
    "    else:   # otherwise \n",
    "        print (\"x is odd\")\n",
    "        return -100\n",
    "\n",
    "    \n",
    "# This is equivalent to\n",
    "def is_even_v2(x):\n",
    "    \"\"\"return 10 if x is even. otherwise return -100\n",
    "    \"\"\"\n",
    "    if ( (x%2) == 0): \n",
    "        print (\"x is even\")\n",
    "        return 10\n",
    "    else:   # otherwise \n",
    "        print (\"x is odd\")\n",
    "        return -100\n",
    "    \n",
    "print (is_even(5) == is_even_v2(5)) "
   ]
  },
  {
   "cell_type": "markdown",
   "metadata": {},
   "source": [
    "Here is another example where the function `simple_gpa` returns a letter \"F\" if the input is less than 60 and \"P\" otherwise. "
   ]
  },
  {
   "cell_type": "code",
   "execution_count": 7,
   "metadata": {},
   "outputs": [
    {
     "name": "stdout",
     "output_type": "stream",
     "text": [
      "P\n",
      "F\n"
     ]
    }
   ],
   "source": [
    "def simple_gpa(x):\n",
    "    \"\"\"Return a string \"P\" if x >= 60; otherwise, \"F\"\n",
    "    \"\"\"\n",
    "    \n",
    "    if x >= 60  : \n",
    "        return \"P\"    \n",
    "    else: \n",
    "        return \"F\"\n",
    "    \n",
    "\n",
    "print (simple_gpa(73))\n",
    "print (simple_gpa(53))    "
   ]
  },
  {
   "cell_type": "markdown",
   "metadata": {},
   "source": [
    "## `return` also means quit!\n",
    "\n",
    "Here is an interesting question. If we re-implement the function `simple_gpa` using two mutually-exclusive if-statements, will the second be checked ever after the `return` statement of the first if-block executes? The new code is given below. To help determine the answer, a `print` line is added. \n"
   ]
  },
  {
   "cell_type": "code",
   "execution_count": 8,
   "metadata": {},
   "outputs": [
    {
     "name": "stdout",
     "output_type": "stream",
     "text": [
      "P\n"
     ]
    }
   ],
   "source": [
    "def simple_gpa2(x):\n",
    "    \"\"\"Return a string \"P\" if x >= 60; otherwise, \"F\"\n",
    "    \"\"\"\n",
    "    if x >= 60  : # when result is true, do indented below\n",
    "        return \"P\"    \n",
    "    \n",
    "    print (\"I am still here! \")\n",
    "    \n",
    "    if x < 60: \n",
    "        return \"F\"\n",
    "    \n",
    "\n",
    "print (simple_gpa(73))"
   ]
  },
  {
   "cell_type": "markdown",
   "metadata": {},
   "source": [
    "Since you don't see the line \"I am still here\" printed out, it means that the function `simple_gpa2` quits after the `return` of the first if-block. Hence, `return` also means exiting the current function being called, besides meaning the output of a function. "
   ]
  },
  {
   "cell_type": "markdown",
   "metadata": {},
   "source": [
    "## Nested if-else statements\n",
    "\n",
    "Conditional execution can be nested, meaning subconditions under conditions. For example: "
   ]
  },
  {
   "cell_type": "code",
   "execution_count": 9,
   "metadata": {},
   "outputs": [
    {
     "name": "stdout",
     "output_type": "stream",
     "text": [
      "x is between 3 and 5\n",
      "x is between 0 and 3\n",
      "x is negative\n",
      "x is greater than 5\n"
     ]
    }
   ],
   "source": [
    "def nest_if_demo(x):\n",
    "    if x > 3 :\n",
    "        if x > 5 :\n",
    "            print (\"x is greater than 5\")\n",
    "        else :\n",
    "            print (\"x is between 3 and 5\")\n",
    "    else:\n",
    "        if x < 0 :\n",
    "            print (\"x is negative\")\n",
    "        else:\n",
    "            print (\"x is between 0 and 3\")\n",
    "            \n",
    "nest_if_demo(3.4)\n",
    "nest_if_demo(1.4)\n",
    "nest_if_demo(-3.4)\n",
    "nest_if_demo(14)"
   ]
  },
  {
   "cell_type": "markdown",
   "metadata": {},
   "source": [
    "A set of nested conditions is equivalent to using `and` operator to partitioning cases. For example, the function above can be rewritten into: "
   ]
  },
  {
   "cell_type": "code",
   "execution_count": 1,
   "metadata": {},
   "outputs": [
    {
     "name": "stdout",
     "output_type": "stream",
     "text": [
      "x is between 3 and 5\n",
      "x is between 0 and 3\n",
      "x is negative\n",
      "x is greater than 5\n",
      "False\n",
      "False\n"
     ]
    }
   ],
   "source": [
    "def nest_if_demo_2(x):\n",
    "    if x > 3 and x > 5 :\n",
    "        print (\"x is greater than 5\")\n",
    "    if x > 3 and not x > 5 :\n",
    "            print (\"x is between 3 and 5\")\n",
    "    if (not x > 3) and x < 0 :\n",
    "            print (\"x is negative\")\n",
    "    if not x > 3 and not x < 0 :\n",
    "            print (\"x is between 0 and 3\")\n",
    "\n",
    "            \n",
    "nest_if_demo_2(3.4)\n",
    "nest_if_demo_2(1.4)\n",
    "nest_if_demo_2(-3.4)\n",
    "nest_if_demo_2(14)"
   ]
  },
  {
   "cell_type": "markdown",
   "metadata": {},
   "source": [
    "## Elif-statement and switch \n",
    "\n",
    "Quite often, a set of nested if-statements are **mutually exclusive**, meaning that there is no overlap between them. For example, consider the function below that converts number grades to letter grades. "
   ]
  },
  {
   "cell_type": "code",
   "execution_count": 11,
   "metadata": {},
   "outputs": [],
   "source": [
    "def gpa_convert(x):\n",
    "    if x > 90:\n",
    "        return \"A\"\n",
    "    else:\n",
    "        if x> 80:\n",
    "            return \"B\"\n",
    "        else:\n",
    "            if x > 70:\n",
    "                return \"C\"\n",
    "            else:\n",
    "                if x > 60:\n",
    "                    return \"D\"\n",
    "                else:\n",
    "                    return \"F\""
   ]
  },
  {
   "cell_type": "markdown",
   "metadata": {},
   "source": [
    "Python provides the 3rd kind of conditional statement, the `elif` statement, to facilitate this situation. `elif` stands for else if. So the function above can be re-written into:"
   ]
  },
  {
   "cell_type": "code",
   "execution_count": 10,
   "metadata": {},
   "outputs": [
    {
     "name": "stdout",
     "output_type": "stream",
     "text": [
      "marker1\n",
      "None\n"
     ]
    }
   ],
   "source": [
    "def gpa_convert2(x):\n",
    "    if x > 90:\n",
    "#        return \"A\"\n",
    "        1+1 \n",
    "    elif x> 80:\n",
    "        print (\"marker1\")\n",
    "#        return \"B\"\n",
    "    elif x > 70:\n",
    "        print (\"marker2\")\n",
    "#        return \"C\"\n",
    "    elif x > 60:\n",
    "#        return \"D\"\n",
    "        0\n",
    "    else:  # exceptions of all cases above \n",
    "#        return \"F\"\n",
    "        99\n",
    "# print (gpa_convert2(91))\n",
    "# print (gpa_convert2(11))\n",
    "# print (gpa_convert2(71))\n",
    "print (gpa_convert2(81))"
   ]
  },
  {
   "cell_type": "markdown",
   "metadata": {},
   "source": [
    "As you can see, all cases above are mutually exclusive to each other. This forms a block of code commonly known as the **switch** strcuture or **case (selection)** structure. \n",
    "\n",
    "Note the `else` at the end. \n",
    "\n",
    "In Python, the cases are checked sequentially, and the first satisfied one will be executed. Compare the result if we switch the order of the `x>70` case and the `x>80` case. \n",
    "\n"
   ]
  },
  {
   "cell_type": "code",
   "execution_count": 13,
   "metadata": {},
   "outputs": [
    {
     "name": "stdout",
     "output_type": "stream",
     "text": [
      "D\n"
     ]
    }
   ],
   "source": [
    "def gpa_convert_out_of_order(x):\n",
    "    if x > 90:\n",
    "        return \"A\"\n",
    "    elif x> 80:\n",
    "        return \"B\"\n",
    "    elif x > 60:\n",
    "        return \"D\"\n",
    "    elif x > 70:\n",
    "        return \"C\"\n",
    "    else:\n",
    "        return \"F\"\n",
    "    \n",
    "print (gpa_convert_out_of_order(71))"
   ]
  },
  {
   "cell_type": "markdown",
   "metadata": {},
   "source": [
    "## Notes for homework"
   ]
  },
  {
   "cell_type": "code",
   "execution_count": 14,
   "metadata": {},
   "outputs": [
    {
     "ename": "IndentationError",
     "evalue": "expected an indented block (<ipython-input-14-162d760ce5c0>, line 3)",
     "output_type": "error",
     "traceback": [
      "\u001b[0;36m  File \u001b[0;32m\"<ipython-input-14-162d760ce5c0>\"\u001b[0;36m, line \u001b[0;32m3\u001b[0m\n\u001b[0;31m    def caeser_decode_one_letter(x):\u001b[0m\n\u001b[0m      ^\u001b[0m\n\u001b[0;31mIndentationError\u001b[0m\u001b[0;31m:\u001b[0m expected an indented block\n"
     ]
    }
   ],
   "source": [
    "def caeser_encode_one_letter(x):\n",
    "    \n",
    "def caeser_decode_one_letter(x):\n",
    "    \n",
    "def ask_and_encode_msg():\n",
    "    input()\n",
    "    \n",
    "\n",
    "    \n",
    "def caeser_encode_sentence()\n",
    "    caeser_encode_one_letter() \n",
    "\n",
    "def caeser_decode_sentence()\n",
    "\n",
    "    \n",
    "    "
   ]
  },
  {
   "cell_type": "markdown",
   "metadata": {},
   "source": [
    "## Some more examples "
   ]
  },
  {
   "cell_type": "code",
   "execution_count": 13,
   "metadata": {},
   "outputs": [
    {
     "name": "stdout",
     "output_type": "stream",
     "text": [
      "-1\n"
     ]
    }
   ],
   "source": [
    "def between1(x):\n",
    "    \n",
    "    if x > 10:\n",
    "        if x < 30:\n",
    "            return 0 \n",
    "    else:\n",
    "        return -1\n",
    "    \n",
    "    \n",
    "def between2(x):\n",
    "    \n",
    "    if x > 10:\n",
    "        if x < 30:\n",
    "            return 0 \n",
    "        else:\n",
    "            return -1\n",
    "    \n",
    "print (between2(47))"
   ]
  },
  {
   "cell_type": "code",
   "execution_count": null,
   "metadata": {},
   "outputs": [],
   "source": [
    "def between3(x):\n",
    "    condition = x > 10 and x < 30\n",
    "    if  condition:\n",
    "        return 0 \n",
    "    \n",
    "    if not condition : \n",
    "        return -1\n",
    "    \n",
    "between3(25) == between4(25)????\n",
    "    \n",
    "def between4(x):\n",
    "    if x > 10 and x < 30:\n",
    "        return 0 \n",
    "    else: \n",
    "        return -1\n",
    "    \n",
    "def between5(x):\n",
    "    if 30 > x > 10 :\n",
    "        return 0 \n",
    "    else: \n",
    "        return -1\n",
    "    \n",
    "print (between3(24))\n",
    "print (between4(24))\n",
    "print (between5(24))"
   ]
  },
  {
   "cell_type": "code",
   "execution_count": 15,
   "metadata": {},
   "outputs": [
    {
     "name": "stdout",
     "output_type": "stream",
     "text": [
      "True\n"
     ]
    }
   ],
   "source": [
    "print (10 < 11 < 30 < 90 < 100)"
   ]
  },
  {
   "cell_type": "code",
   "execution_count": 18,
   "metadata": {},
   "outputs": [
    {
     "name": "stdout",
     "output_type": "stream",
     "text": [
      "True\n"
     ]
    }
   ],
   "source": [
    "print ( not (3> 10 or 13>12 and not (10<11) )) \n",
    "# false or True and not True\n",
    "# false or True and false \n",
    "# True and false \n",
    "# True  "
   ]
  },
  {
   "cell_type": "code",
   "execution_count": null,
   "metadata": {},
   "outputs": [],
   "source": [
    "\"happy\" == \"happy\""
   ]
  },
  {
   "cell_type": "code",
   "execution_count": null,
   "metadata": {},
   "outputs": [],
   "source": [
    "# optional \n",
    "\"happy\" is \"happy\""
   ]
  },
  {
   "cell_type": "code",
   "execution_count": null,
   "metadata": {},
   "outputs": [],
   "source": [
    "2 is 2 "
   ]
  },
  {
   "cell_type": "code",
   "execution_count": 15,
   "metadata": {},
   "outputs": [
    {
     "name": "stdout",
     "output_type": "stream",
     "text": [
      "11\n"
     ]
    }
   ],
   "source": [
    "def roman2arab(x):\n",
    "    \"\"\"Convert a string in Roman numericals to arabic numbers, \n",
    "    e.g., \"MCMXVI\" to 1916 1000 + (1000-100) + 10 + 5 + 1 \n",
    "    \n",
    "    input:\n",
    "        x: string, consisting of M (1000), C (100), D (500), X (10), V (5) and I (1) only\n",
    "        \n",
    "    output:\n",
    "        y: an integer \n",
    "\n",
    "    6 -> VI (5 + 1 )\n",
    "    4 -> IV (5 - I) \n",
    "    12 -> XII\n",
    "\n",
    "\n",
    "    \"\"\"\n",
    "    if x == \"I\":\n",
    "        return 1\n",
    "    elif x is \"V\":\n",
    "        return 5\n",
    "    elif x is \"X\" :\n",
    "        return 10\n",
    "    \n",
    "print (roman2arab(\"X\") + 1 )"
   ]
  },
  {
   "cell_type": "code",
   "execution_count": null,
   "metadata": {},
   "outputs": [],
   "source": [
    "def find_median(a,b,c):\n",
    "    if a > b:\n",
    "        if c > a :\n",
    "            return a\n",
    "        elif b > c:\n",
    "            return b \n",
    "        else : \n",
    "            return c \n",
    "    else:\n",
    "        if a > c:\n",
    "            return a\n",
    "        elif c > b :\n",
    "            return b\n",
    "        else:\n",
    "            return c\n"
   ]
  },
  {
   "cell_type": "code",
   "execution_count": 8,
   "metadata": {},
   "outputs": [],
   "source": [
    "def caeser_encoder(x):\n",
    "    if x == \"A\":\n",
    "        return \"D\"\n",
    "    else:\n",
    "        if x == \"B\":\n",
    "            return \"E\"\n",
    "        else:\n",
    "            if x == \"C\":\n",
    "                return \"F\"\n",
    "            else:\n",
    "                pass \n",
    "                \n",
    "def get_coefficients():\n",
    "    a = input(\"what's the coefficient for the square term?\")\n",
    "    b = input(\"what's the coefficient for the linear term?\")\n",
    "    c = input(\"what's the coefficient for the constant term?\")\n",
    "\n",
    "    return float(a), float(b), float(c)\n",
    "\n",
    "\n",
    "def is_solvable(a,b,c):\n",
    "    # 1. Condition \n",
    "    if a == 0  or (b*b - 4 * a * c)  < 0:\n",
    "        exit()\n",
    "\n",
    "def print_roots(a,b):\n",
    "    print (\"The first root is: \" + str(a) )\n",
    "    print (\"The first root is: \" + str(b) )\n",
    "\n",
    "\n",
    "def ABS(x):\n",
    "    if x < 0 :\n",
    "        return -x\n",
    "    else: \n",
    "        return x \n",
    "\n",
    "def second_largest_among_4(a,b,c,d):\n",
    "    \n",
    "\n",
    "\n",
    "\n",
    "\n",
    "\n",
    "\n",
    "\n",
    "\n",
    "\n",
    "\n",
    "\n",
    "\n",
    "\n",
    "\n",
    "\n",
    "\n",
    "\n",
    "\n",
    "\n",
    "\n",
    "\n",
    "\n"
   ]
  },
  {
   "cell_type": "code",
   "execution_count": 9,
   "metadata": {},
   "outputs": [
    {
     "data": {
      "text/plain": [
       "1.2"
      ]
     },
     "execution_count": 9,
     "metadata": {},
     "output_type": "execute_result"
    }
   ],
   "source": [
    "ABS(-1.2)"
   ]
  },
  {
   "cell_type": "code",
   "execution_count": null,
   "metadata": {},
   "outputs": [],
   "source": []
  }
 ],
 "metadata": {
  "kernelspec": {
   "display_name": "Python 3",
   "language": "python",
   "name": "python3"
  },
  "language_info": {
   "codemirror_mode": {
    "name": "ipython",
    "version": 3
   },
   "file_extension": ".py",
   "mimetype": "text/x-python",
   "name": "python",
   "nbconvert_exporter": "python",
   "pygments_lexer": "ipython3",
   "version": "3.6.7"
  }
 },
 "nbformat": 4,
 "nbformat_minor": 2
}
