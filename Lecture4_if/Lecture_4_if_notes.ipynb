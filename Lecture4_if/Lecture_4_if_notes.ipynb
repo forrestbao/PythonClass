{
 "cells": [
  {
   "cell_type": "code",
   "execution_count": 25,
   "metadata": {},
   "outputs": [
    {
     "name": "stdout",
     "output_type": "stream",
     "text": [
      "19\n",
      "None\n"
     ]
    }
   ],
   "source": [
    "def roman2arab(x):\n",
    "    \"\"\"Convert a string in Roman numericals to arabic numbers, \n",
    "    e.g., MCMXVI to 1916\n",
    "    \n",
    "    input:\n",
    "        x: string, consisting of M, C, D, X, V and I only\n",
    "        \n",
    "    output:\n",
    "        y: an integer \n",
    "    \"\"\"\n",
    "def caeser(x):\n",
    "    \"\"\"\n",
    "    \"\"\"\n",
    "    pass\n",
    "\n",
    "  \n",
    "def larger(x,y):\n",
    "    \"\"\"Given two numbers x and y, return the larger one. \n",
    "    \"\"\"\n",
    "    # compare x and y \n",
    "    # if x is greater than y, return x\n",
    "    # otherwise, return y \n",
    "    result = x > y # result is True/1 if x is greater than y. \n",
    "                   # is False/0 if not. \n",
    "    if result : # the keyword if, must follow with an expression \n",
    "        return x # what to execute when the expression is True, is indented\n",
    "    else:   # all other cases not visited above (virtically aligned)\n",
    "        return y \n",
    "    \n",
    "    \n",
    "def larger_v2(x,y):\n",
    "    \"\"\"Given two numbers x and y, return the larger one. \n",
    "    \"\"\"\n",
    "    # compare x and y \n",
    "    # if x is greater than y, return x\n",
    "    # otherwise, return y \n",
    "    result = x > y # result is True/1 if x is greater than y. \n",
    "                   # is False/0 if not. \n",
    "    if result : # the keyword if, must follow with an expression \n",
    "        print ( x) # what to execute when the expression is True, is indented\n",
    "    else:   # all other cases not visited above (virtically aligned)\n",
    "        print  (y )\n",
    "    \n",
    "a  = larger_v2(19,9) \n",
    "print (a)\n",
    "\n",
    "\n",
    "\n",
    "\n",
    "\n",
    "\n",
    "\n",
    "\n",
    "\n",
    "\n",
    "\n",
    "\n",
    "\n",
    "\n",
    "\n",
    "\n",
    "\n",
    "    \n",
    "    \n",
    "    \n",
    "    \n",
    "    \n",
    "    \n",
    "    "
   ]
  },
  {
   "cell_type": "markdown",
   "metadata": {},
   "source": [
    "# Comparison operators\n",
    "Six of them below. The value of a comparison expression is either True or False (case senesitive)."
   ]
  },
  {
   "cell_type": "code",
   "execution_count": 7,
   "metadata": {},
   "outputs": [
    {
     "name": "stdout",
     "output_type": "stream",
     "text": [
      "True\n",
      "True\n",
      "False\n",
      "True\n",
      "True\n",
      "True\n",
      "6\n"
     ]
    }
   ],
   "source": [
    "print (3>2)\n",
    "print (2>=2)\n",
    "print (3<2)\n",
    "print (2<=2)\n",
    "print (2==2) # note it's not assignment but equality comparison \n",
    "print (2!=5)\n",
    "x = 3 > 2 \n",
    "print ( x * 6  ) "
   ]
  },
  {
   "cell_type": "code",
   "execution_count": 3,
   "metadata": {},
   "outputs": [
    {
     "data": {
      "text/plain": [
       "2"
      ]
     },
     "execution_count": 3,
     "metadata": {},
     "output_type": "execute_result"
    }
   ],
   "source": [
    "True + True  # because True is 1 and False is 0 "
   ]
  },
  {
   "cell_type": "code",
   "execution_count": 9,
   "metadata": {},
   "outputs": [
    {
     "name": "stdout",
     "output_type": "stream",
     "text": [
      "10\n"
     ]
    }
   ],
   "source": [
    "print (larger(5, 10))"
   ]
  },
  {
   "cell_type": "code",
   "execution_count": 14,
   "metadata": {},
   "outputs": [
    {
     "name": "stdout",
     "output_type": "stream",
     "text": [
      "x is odd\n",
      "-100\n",
      "x is odd\n",
      "-100\n",
      "x is odd\n",
      "x is odd\n",
      "True\n"
     ]
    }
   ],
   "source": [
    "def is_even(x):\n",
    "    \"\"\"return 10 if x is even. otherwise return -100\n",
    "    \"\"\"\n",
    "    result = ( (x%2) == 0) # result is True is x is even; false otherwise\n",
    "    if result: \n",
    "        print (\"x is even\")\n",
    "        return 10\n",
    "    else:   # otherwise \n",
    "        print (\"x is odd\")\n",
    "        return -100\n",
    "\n",
    "    \n",
    "# This is equivalent to\n",
    "def is_even_v2(x):\n",
    "    \"\"\"return 10 if x is even. otherwise return -100\n",
    "    \"\"\"\n",
    "    if ( (x%2) == 0): \n",
    "        print (\"x is even\")\n",
    "        return 10\n",
    "    else:   # otherwise \n",
    "        print (\"x is odd\")\n",
    "        return -100\n",
    "\n",
    "\n",
    "print (is_even(19))\n",
    "print (is_even_v2(19))\n",
    "\n",
    "print (is_even(19) == is_even_v2(19))\n",
    "\n",
    "\n",
    "\n",
    "\n",
    "\n",
    "\n",
    "\n",
    "\n",
    "\n",
    "\n",
    "\n",
    "\n",
    "\n",
    "\n"
   ]
  },
  {
   "cell_type": "markdown",
   "metadata": {},
   "source": [
    "## If-statement\n",
    "\n",
    "The syntax of if-statement is:\n",
    "\n",
    "```if  condition :\n",
    "        do something \n",
    "```\n",
    "\n",
    "The `condition` is an expression.  `do something` is conditionally executed if `condition` is True. Otherwise, Python interpreter will skip `do something` \n"
   ]
  },
  {
   "cell_type": "code",
   "execution_count": 18,
   "metadata": {},
   "outputs": [
    {
     "name": "stdout",
     "output_type": "stream",
     "text": [
      "P\n",
      "your GPA is:53still in the function\n",
      "F\n"
     ]
    }
   ],
   "source": [
    "def simple_gpa(x):\n",
    "    \"\"\"Return a string \"P\" if x >= 60; otherwise, \"F\"\n",
    "    \"\"\"\n",
    "    if x >= 60  : # when result is true, do indented below\n",
    "        return \"P\"\n",
    "    \n",
    "    print (\"your GPA is:\" + str(x) + \"still in the function\")\n",
    "    \n",
    "    if x <  60: \n",
    "        return \"F\"1\n",
    "    \n",
    "\n",
    "print (simple_gpa(73))\n",
    "print (simple_gpa(53))\n",
    "    \n",
    "    \n",
    "    \n",
    "    \n",
    "    \n",
    "    \n",
    "    \n",
    "    \n",
    "    \n",
    "    \n",
    "    \n",
    "    \n",
    "    \n",
    "    \n",
    "    \n",
    "    \n",
    "    \n",
    "    "
   ]
  },
  {
   "cell_type": "code",
   "execution_count": 23,
   "metadata": {},
   "outputs": [
    {
     "name": "stdout",
     "output_type": "stream",
     "text": [
      "B\n",
      "C\n"
     ]
    }
   ],
   "source": [
    "def gpa(x):\n",
    "    \"\"\"number GPA to letter (A-D, F) GPA\n",
    "    \"\"\"\n",
    "    if x < 60 :\n",
    "        return \"F\"\n",
    "    \n",
    "    if x < 70 :\n",
    "        return \"D\"\n",
    "\n",
    "    if x < 90 :\n",
    "        print (\"B\")\n",
    "    \n",
    "    if x < 80 :\n",
    "        return \"C\"\n",
    "    \n",
    "\n",
    "    \n",
    "    if x <= 100 :\n",
    "        return \"A\"\n",
    "  \n",
    "# The key is how many cases, how to partition them, and how to visit them sequentially \n",
    "\n",
    "\n",
    "print (gpa(72))\n",
    "    \n",
    "    \n",
    "    \n",
    "    \n",
    "    \n",
    "    \n",
    "    \n",
    "    \n",
    "    \n",
    "    \n",
    "    \n",
    "    \n",
    "    \n",
    "    \n",
    "    \n",
    "    "
   ]
  },
  {
   "cell_type": "code",
   "execution_count": null,
   "metadata": {},
   "outputs": [],
   "source": []
  }
 ],
 "metadata": {
  "kernelspec": {
   "display_name": "Python 3",
   "language": "python",
   "name": "python3"
  },
  "language_info": {
   "codemirror_mode": {
    "name": "ipython",
    "version": 3
   },
   "file_extension": ".py",
   "mimetype": "text/x-python",
   "name": "python",
   "nbconvert_exporter": "python",
   "pygments_lexer": "ipython3",
   "version": "3.6.7"
  }
 },
 "nbformat": 4,
 "nbformat_minor": 2
}
