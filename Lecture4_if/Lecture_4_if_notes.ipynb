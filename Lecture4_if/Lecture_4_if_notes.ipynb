{
 "cells": [
  {
   "cell_type": "code",
   "execution_count": 21,
   "metadata": {},
   "outputs": [
    {
     "name": "stdout",
     "output_type": "stream",
     "text": [
      "11\n"
     ]
    }
   ],
   "source": [
    "def roman2arab(x):\n",
    "    \"\"\"Convert a string in Roman numericals to arabic numbers, \n",
    "    e.g., \"MCMXVI\" to 1916 1000 + (1000-100) + 10 + 5 + 1 \n",
    "    \n",
    "    input:\n",
    "        x: string, consisting of M (1000), C (100), D (500), X (10), V (5) and I (1) only\n",
    "        \n",
    "    output:\n",
    "        y: an integer \n",
    "\n",
    "    6 -> VI (5 + 1 )\n",
    "    4 -> IV (5 - I) \n",
    "    12 -> XII\n",
    "\n",
    "\n",
    "    \"\"\"\n",
    "    if x == \"I\":\n",
    "        return 1\n",
    "    elif x is \"V\":\n",
    "        return 5\n",
    "    elif x is \"X\" :\n",
    "        return 10\n",
    "    \n",
    "print (roman2arab(\"X\") + 1 )\n",
    "    "
   ]
  },
  {
   "cell_type": "code",
   "execution_count": 25,
   "metadata": {},
   "outputs": [
    {
     "name": "stdout",
     "output_type": "stream",
     "text": [
      "19\n",
      "None\n"
     ]
    }
   ],
   "source": [
    "def caeser(x):\n",
    "    \"\"\"\n",
    "    \"\"\"\n",
    "    pass\n",
    "\n",
    "  \n",
    "def larger(x,y):\n",
    "    \"\"\"Given two numbers x and y, return the larger one. \n",
    "    \"\"\"\n",
    "    # compare x and y \n",
    "    # if x is greater than y, return x\n",
    "    # otherwise, return y \n",
    "    result = x > y # result is True/1 if x is greater than y. \n",
    "                   # is False/0 if not. \n",
    "    if result : # the keyword if, must follow with an expression \n",
    "        return x # what to execute when the expression is True, is indented\n",
    "    else:   # all other cases not visited above (virtically aligned)\n",
    "        return y \n",
    "    \n",
    "    \n",
    "def larger_v2(x,y):\n",
    "    \"\"\"Given two numbers x and y, return the larger one. \n",
    "    \"\"\"\n",
    "    # compare x and y \n",
    "    # if x is greater than y, return x\n",
    "    # otherwise, return y \n",
    "    result = x > y # result is True/1 if x is greater than y. \n",
    "                   # is False/0 if not. \n",
    "    if result : # the keyword if, must follow with an expression \n",
    "        print ( x) # what to execute when the expression is True, is indented\n",
    "    else:   # all other cases not visited above (virtically aligned)\n",
    "        print  (y )\n",
    "    \n",
    "a  = larger_v2(19,9) \n",
    "print (a)\n",
    "\n",
    "\n",
    "\n",
    "\n",
    "\n",
    "\n",
    "\n",
    "\n",
    "\n",
    "\n",
    "\n",
    "\n",
    "\n",
    "\n",
    "\n",
    "\n",
    "\n",
    "    \n",
    "    \n",
    "    \n",
    "    \n",
    "    \n",
    "    \n",
    "    "
   ]
  },
  {
   "cell_type": "markdown",
   "metadata": {},
   "source": [
    "# Comparison operators\n",
    "Six of them below. The value of a comparison expression is either True or False (case senesitive). **Boolean** which is acutally binary. "
   ]
  },
  {
   "cell_type": "code",
   "execution_count": 7,
   "metadata": {},
   "outputs": [
    {
     "name": "stdout",
     "output_type": "stream",
     "text": [
      "True\n",
      "True\n",
      "False\n",
      "True\n",
      "True\n",
      "True\n",
      "6\n"
     ]
    }
   ],
   "source": [
    "print (3>2)\n",
    "print (2>=2)\n",
    "print (3<2)\n",
    "print (2<=2)\n",
    "print (2==2) # note it's not assignment but equality comparison \n",
    "print (2!=5)\n",
    "x = 3 > 2 \n",
    "print ( x * 6  ) "
   ]
  },
  {
   "cell_type": "code",
   "execution_count": 3,
   "metadata": {},
   "outputs": [
    {
     "data": {
      "text/plain": [
       "2"
      ]
     },
     "execution_count": 3,
     "metadata": {},
     "output_type": "execute_result"
    }
   ],
   "source": [
    "True + True  # because True is 1 and False is 0 "
   ]
  },
  {
   "cell_type": "code",
   "execution_count": 9,
   "metadata": {},
   "outputs": [
    {
     "name": "stdout",
     "output_type": "stream",
     "text": [
      "10\n"
     ]
    }
   ],
   "source": [
    "print (larger(5, 10))"
   ]
  },
  {
   "cell_type": "code",
   "execution_count": 14,
   "metadata": {},
   "outputs": [
    {
     "name": "stdout",
     "output_type": "stream",
     "text": [
      "x is odd\n",
      "-100\n",
      "x is odd\n",
      "-100\n",
      "x is odd\n",
      "x is odd\n",
      "True\n"
     ]
    }
   ],
   "source": [
    "def is_even(x):\n",
    "    \"\"\"return 10 if x is even. otherwise return -100\n",
    "    \"\"\"\n",
    "    result = ( (x%2) == 0) # result is True is x is even; false otherwise\n",
    "    if result: \n",
    "        print (\"x is even\")\n",
    "        return 10\n",
    "    else:   # otherwise \n",
    "        print (\"x is odd\")\n",
    "        return -100\n",
    "\n",
    "    \n",
    "# This is equivalent to\n",
    "def is_even_v2(x):\n",
    "    \"\"\"return 10 if x is even. otherwise return -100\n",
    "    \"\"\"\n",
    "    if ( (x%2) == 0): \n",
    "        print (\"x is even\")\n",
    "        return 10\n",
    "    else:   # otherwise \n",
    "        print (\"x is odd\")\n",
    "        return -100\n",
    "\n",
    "\n",
    "print (is_even(19))\n",
    "print (is_even_v2(19))\n",
    "\n",
    "print (is_even(19) == is_even_v2(19))\n",
    "\n",
    "\n",
    "\n",
    "\n",
    "\n",
    "\n",
    "\n",
    "\n",
    "\n",
    "\n",
    "\n",
    "\n",
    "\n",
    "\n"
   ]
  },
  {
   "cell_type": "markdown",
   "metadata": {},
   "source": [
    "## If-statement\n",
    "\n",
    "The syntax of if-statement is:\n",
    "\n",
    "```if  condition :\n",
    "        do something \n",
    "```\n",
    "\n",
    "The `condition` is a Boolean expression.  `do something` is conditionally executed if `condition` is True. Otherwise, Python interpreter will skip `do something` \n"
   ]
  },
  {
   "cell_type": "code",
   "execution_count": 18,
   "metadata": {},
   "outputs": [
    {
     "name": "stdout",
     "output_type": "stream",
     "text": [
      "P\n",
      "your GPA is:53still in the function\n",
      "F\n"
     ]
    }
   ],
   "source": [
    "def simple_gpa(x):\n",
    "    \"\"\"Return a string \"P\" if x >= 60; otherwise, \"F\"\n",
    "    \"\"\"\n",
    "    if x >= 60  : # when result is true, do indented below\n",
    "        return \"P\"\n",
    "    \n",
    "    print (\"your GPA is:\" + str(x) + \"still in the function\")\n",
    "    \n",
    "    if x <  60: \n",
    "        return \"F\"\n",
    "    \n",
    "\n",
    "print (simple_gpa(73))\n",
    "print (simple_gpa(53))\n",
    "    \n",
    "    \n",
    "    \n",
    "    \n",
    "    \n",
    "    \n",
    "    \n",
    "    \n",
    "    \n",
    "    \n",
    "    \n",
    "    \n",
    "    \n",
    "    \n",
    "    \n",
    "    \n",
    "    \n",
    "    "
   ]
  },
  {
   "cell_type": "code",
   "execution_count": 1,
   "metadata": {},
   "outputs": [
    {
     "data": {
      "text/plain": [
       "'B'"
      ]
     },
     "execution_count": 1,
     "metadata": {},
     "output_type": "execute_result"
    }
   ],
   "source": [
    "def gpa(x):\n",
    "    \"\"\"number GPA to letter (A-D, F) GPA\n",
    "    \"\"\"\n",
    "    if x < 60 :\n",
    "        return \"F\"\n",
    "    \n",
    "    if x < 70 :\n",
    "        return \"D\"\n",
    "\n",
    "    if x < 90 :\n",
    "        return (\"B\")\n",
    "    \n",
    "    print (\"Byebye\")\n",
    "    \n",
    "    if x < 80 :\n",
    "        return \"C\"\n",
    "    \n",
    "    if x <= 100 :\n",
    "        return \"A\"\n",
    "\n",
    "gpa(72)\n",
    "# The key is how many cases, how to partition them, and how to visit them sequentially \n",
    "\n",
    "    \n",
    "    \n",
    "    \n",
    "    \n",
    "    \n",
    "    \n",
    "    \n",
    "    \n",
    "    \n",
    "    \n",
    "    \n",
    "    \n",
    "    \n",
    "    "
   ]
  },
  {
   "cell_type": "code",
   "execution_count": 2,
   "metadata": {},
   "outputs": [
    {
     "name": "stdout",
     "output_type": "stream",
     "text": [
      "P\n",
      "F\n"
     ]
    }
   ],
   "source": [
    "# Otherwise\n",
    "\n",
    "\n",
    "def simple_gpa(x):\n",
    "    \"\"\"Return a string \"P\" if x >= 60; otherwise, \"F\"\n",
    "    \"\"\"\n",
    "    if x >= 60  : # when result is true, do indented below\n",
    "        return \"P\"    \n",
    "    else:  # all cases not covered above \n",
    "        return \"F\"\n",
    "    \n",
    "\n",
    "print (simple_gpa(73))\n",
    "print (simple_gpa(53))\n",
    "\n",
    "\n"
   ]
  },
  {
   "cell_type": "code",
   "execution_count": 4,
   "metadata": {},
   "outputs": [
    {
     "name": "stdout",
     "output_type": "stream",
     "text": [
      "B\n"
     ]
    }
   ],
   "source": [
    "# Imaging it as switch to cases sequentially \n",
    "# Mutually exclusive \n",
    "\n",
    "def gpa(x):\n",
    "    \"\"\"number GPA to letter (A-D, F) GPA\n",
    "    \"\"\"\n",
    "    if x < 60 :\n",
    "        return \"F\"\n",
    "    elif x < 70 :\n",
    "        return \"D\"\n",
    "    elif x < 80 :\n",
    "        return (\"B\")\n",
    "    elif x < 90 :\n",
    "        return \"C\"\n",
    "    elif x <= 100 :\n",
    "        return \"A\"\n",
    "    else: # anything not covered above \n",
    "        11\n",
    "\n",
    "print (gpa(72)) "
   ]
  },
  {
   "cell_type": "code",
   "execution_count": 5,
   "metadata": {},
   "outputs": [
    {
     "ename": "SyntaxError",
     "evalue": "invalid syntax (<ipython-input-5-ea973d065694>, line 4)",
     "output_type": "error",
     "traceback": [
      "\u001b[0;36m  File \u001b[0;32m\"<ipython-input-5-ea973d065694>\"\u001b[0;36m, line \u001b[0;32m4\u001b[0m\n\u001b[0;31m    elif x >  80:\u001b[0m\n\u001b[0m       ^\u001b[0m\n\u001b[0;31mSyntaxError\u001b[0m\u001b[0;31m:\u001b[0m invalid syntax\n"
     ]
    }
   ],
   "source": [
    "# standalone elif makes no sense \n",
    "\n",
    "def fault(x):\n",
    "    elif x >  80:\n",
    "        return 0 \n",
    "print (fault(5))"
   ]
  },
  {
   "cell_type": "code",
   "execution_count": null,
   "metadata": {},
   "outputs": [],
   "source": [
    "def caeser_encode_one_letter(x):\n",
    "    if x == \"A\":\n",
    "        return \"C\"\n",
    "    elif x == \"B\":\n",
    "        return \"D\"\n",
    "    \n",
    "def caeser_decode_one_letter(x):\n",
    "    \n",
    "def ask_and_encode_msg():\n",
    "    input()\n",
    "    \n",
    "\n",
    "    \n",
    "def caeser_encode_sentence()\n",
    "    caeser_encode_one_letter() \n",
    "\n",
    "def caeser_decode_sentence()\n",
    "\n",
    "    \n",
    "    "
   ]
  },
  {
   "cell_type": "code",
   "execution_count": 8,
   "metadata": {},
   "outputs": [
    {
     "name": "stdout",
     "output_type": "stream",
     "text": [
      "None\n"
     ]
    }
   ],
   "source": [
    "# Nested condition \n",
    "\n",
    "def between(x):\n",
    "    \"\"\"return 0 if 10<x < 30; return -1 otherwise\n",
    "    \"\"\"\n",
    "    if x > 10:\n",
    "        if x < 30:\n",
    "            return 0 \n",
    "    else:\n",
    "        return -1\n",
    "    \n",
    "    \n",
    "def between2(x):\n",
    "    \"\"\"return 0 if 10<x < 30; return -1 otherwise\n",
    "    \"\"\"\n",
    "    if x > 10:\n",
    "        if x < 30:\n",
    "            return 0 \n",
    "        else:\n",
    "            return -1\n",
    "    \n",
    "print (between(9))"
   ]
  },
  {
   "cell_type": "code",
   "execution_count": 7,
   "metadata": {},
   "outputs": [
    {
     "name": "stdout",
     "output_type": "stream",
     "text": [
      "False\n",
      "True\n",
      "False\n"
     ]
    }
   ],
   "source": [
    "# Boolean operator \n",
    "# just like numerical operators, you can have as many as you can type \n",
    "\n",
    "print (4 > 10 and 6 < 11) \n",
    "print (4 > 10 or 6 < 11 ) \n",
    "print (not 4 > 10)"
   ]
  },
  {
   "cell_type": "code",
   "execution_count": 14,
   "metadata": {},
   "outputs": [
    {
     "name": "stdout",
     "output_type": "stream",
     "text": [
      "0\n",
      "0\n",
      "0\n"
     ]
    }
   ],
   "source": [
    "def between3(x):\n",
    "    condition = x > 10 and x < 30\n",
    "    if  condition:\n",
    "        return 0 \n",
    "    \n",
    "    if not condition : \n",
    "        return -1\n",
    "    \n",
    "def between4(x):\n",
    "    if x > 10 and x < 30:\n",
    "        return 0 \n",
    "    else: \n",
    "        return -1\n",
    "    \n",
    "def between5(x):\n",
    "    if 30 > x > 10 :\n",
    "        return 0 \n",
    "    else: \n",
    "        return -1\n",
    "    \n",
    "print (between3(24))\n",
    "print (between4(24))\n",
    "print (between5(24))"
   ]
  },
  {
   "cell_type": "code",
   "execution_count": 13,
   "metadata": {},
   "outputs": [
    {
     "name": "stdout",
     "output_type": "stream",
     "text": [
      "True\n"
     ]
    }
   ],
   "source": [
    "print (10 < 11 < 30 < 90 < 100)"
   ]
  },
  {
   "cell_type": "code",
   "execution_count": 16,
   "metadata": {},
   "outputs": [
    {
     "name": "stdout",
     "output_type": "stream",
     "text": [
      "False\n"
     ]
    }
   ],
   "source": [
    "print (3> 10 and 3>12 and 10<11)"
   ]
  },
  {
   "cell_type": "code",
   "execution_count": 17,
   "metadata": {},
   "outputs": [
    {
     "data": {
      "text/plain": [
       "True"
      ]
     },
     "execution_count": 17,
     "metadata": {},
     "output_type": "execute_result"
    }
   ],
   "source": [
    "\"happy\" == \"happy\""
   ]
  },
  {
   "cell_type": "code",
   "execution_count": 18,
   "metadata": {},
   "outputs": [
    {
     "data": {
      "text/plain": [
       "True"
      ]
     },
     "execution_count": 18,
     "metadata": {},
     "output_type": "execute_result"
    }
   ],
   "source": [
    "# optional \n",
    "\"happy\" is \"happy\""
   ]
  },
  {
   "cell_type": "code",
   "execution_count": 19,
   "metadata": {},
   "outputs": [
    {
     "data": {
      "text/plain": [
       "True"
      ]
     },
     "execution_count": 19,
     "metadata": {},
     "output_type": "execute_result"
    }
   ],
   "source": [
    "2 is 2 "
   ]
  },
  {
   "cell_type": "code",
   "execution_count": null,
   "metadata": {},
   "outputs": [],
   "source": []
  }
 ],
 "metadata": {
  "kernelspec": {
   "display_name": "Python 3",
   "language": "python",
   "name": "python3"
  },
  "language_info": {
   "codemirror_mode": {
    "name": "ipython",
    "version": 3
   },
   "file_extension": ".py",
   "mimetype": "text/x-python",
   "name": "python",
   "nbconvert_exporter": "python",
   "pygments_lexer": "ipython3",
   "version": "3.6.7"
  }
 },
 "nbformat": 4,
 "nbformat_minor": 2
}
