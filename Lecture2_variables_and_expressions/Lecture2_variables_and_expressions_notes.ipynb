{
 "cells": [
  {
   "cell_type": "markdown",
   "metadata": {},
   "source": [
    "# Expressions\n",
    "Expressions in Python root from the expressions you learned in math classes. \n",
    "\n",
    "## Constants\n",
    "The simplest expression is just one constant, of course, in one line. At this point, let's introduce 3 kinds of constants:\n",
    "1. integers, e.g., 2, 3, 4. \n",
    "2. floating-point numbers, e.g,. 2.0. For now, just interpret them as non-integer numbers. \n",
    "3. strings, e.g., \"2\", \"2.0\" or \"hello, world\". \n",
    "Python strictly differentiates numbers and strings that look like numbers. E.g., \"2\" and \"2.0\" are different. \n",
    "Let's see that one line of Python can be just a single constant. "
   ]
  },
  {
   "cell_type": "markdown",
   "metadata": {},
   "source": [
    "## Operators\n",
    "Constants can be connected with operators to form new expressions. \n",
    "### Operators for numbers\n",
    "For number (integers and floating-point numbers), there are 7 operators. Let's see demos below. "
   ]
  },
  {
   "cell_type": "code",
   "execution_count": 1,
   "metadata": {},
   "outputs": [
    {
     "name": "stdout",
     "output_type": "stream",
     "text": [
      "9\n"
     ]
    }
   ],
   "source": [
    "print (2+7)"
   ]
  },
  {
   "cell_type": "markdown",
   "metadata": {},
   "source": [
    "As you can see from the example above, when printing an expression containing operators, Python first evaluates the expression and then prints its value. "
   ]
  },
  {
   "cell_type": "code",
   "execution_count": 2,
   "metadata": {},
   "outputs": [
    {
     "name": "stdout",
     "output_type": "stream",
     "text": [
      "-5\n",
      "14\n",
      "0.2857142857142857\n"
     ]
    }
   ],
   "source": [
    "print (2-7)\n",
    "print (2*7)\n",
    "print (2/7)"
   ]
  },
  {
   "cell_type": "markdown",
   "metadata": {},
   "source": [
    "Python3 also has 2 kinds of division operators to get the quotient and remainder in an integer division. Although called integer division, the two operations can be on floating-point numbers. "
   ]
  },
  {
   "cell_type": "code",
   "execution_count": 4,
   "metadata": {},
   "outputs": [
    {
     "name": "stdout",
     "output_type": "stream",
     "text": [
      "4\n",
      "2\n"
     ]
    }
   ],
   "source": [
    "print (14//3)\n",
    "print (14%3)"
   ]
  },
  {
   "cell_type": "markdown",
   "metadata": {},
   "source": [
    "Try it out how they work for negative numbers. The 7th type of operator for numbers is power: "
   ]
  },
  {
   "cell_type": "code",
   "execution_count": 5,
   "metadata": {},
   "outputs": [
    {
     "data": {
      "text/plain": [
       "100"
      ]
     },
     "execution_count": 5,
     "metadata": {},
     "output_type": "execute_result"
    }
   ],
   "source": [
    "10**2"
   ]
  },
  {
   "cell_type": "markdown",
   "metadata": {},
   "source": [
    "Let's createa an expression to calculate the total payment for a house of value $100k, with a 30-year motagage of 5% annual interest rate, componded annually."
   ]
  },
  {
   "cell_type": "code",
   "execution_count": 6,
   "metadata": {},
   "outputs": [
    {
     "data": {
      "text/plain": [
       "432194.2375150668"
      ]
     },
     "execution_count": 6,
     "metadata": {},
     "output_type": "execute_result"
    }
   ],
   "source": [
    "100000*(1+0.05)**30"
   ]
  },
  {
   "cell_type": "markdown",
   "metadata": {},
   "source": [
    "### Operators for strings\n",
    "Let's introduce two operators for strings for now: concatenation and repetition:"
   ]
  },
  {
   "cell_type": "code",
   "execution_count": 8,
   "metadata": {},
   "outputs": [
    {
     "name": "stdout",
     "output_type": "stream",
     "text": [
      "hellohellohello\n"
     ]
    }
   ],
   "source": [
    "print (\"hello\" * 3)"
   ]
  },
  {
   "cell_type": "code",
   "execution_count": null,
   "metadata": {},
   "outputs": [],
   "source": []
  },
  {
   "cell_type": "markdown",
   "metadata": {},
   "source": [
    "## Variables and assginment statements \n",
    "In math class, we were introduced to variables. A variable gives us lots of convenience. For example, we don't have to type the same contant again and again in all of its occurences. \n",
    "\n",
    "### Allowed variable names\n",
    "A string consists of alphanumerical (a to z, A to Z, and 0 to 9), begin with underline, or alphabet, e.g., `a0b1`, `_nine5`, `AAA`. Counter examples: `0abc`.  \n",
    "\n",
    "### Assignment statements\n",
    "In order to use a variable, you must first assign a value to it, using an **assignment statement** in the template:\n",
    "\n",
    "```variable_name = an expression\n",
    "```\n",
    "\n",
    "For example, "
   ]
  },
  {
   "cell_type": "code",
   "execution_count": 9,
   "metadata": {},
   "outputs": [],
   "source": [
    "x = 5 \n",
    "# or \n",
    "x = 5 + 1 "
   ]
  },
  {
   "cell_type": "markdown",
   "metadata": {},
   "source": [
    "**Note**: An assignment statement is not an expression. So you print an assignment statement (to be discussed later that a function cannot take non-expression as an argument), you will run into an error. The equal sign does not mean equality. `x=5` shall be read as ``let x be 5``. \n",
    "After executing an assignment statement, the variable x gets the value, and you can use it, e.g., in another expression: "
   ]
  },
  {
   "cell_type": "code",
   "execution_count": 3,
   "metadata": {},
   "outputs": [
    {
     "name": "stdout",
     "output_type": "stream",
     "text": [
      "7\n"
     ]
    }
   ],
   "source": [
    "print (x+1)"
   ]
  },
  {
   "cell_type": "markdown",
   "metadata": {},
   "source": [
    "### Multiple variable assignments in one line\n",
    "\n",
    "Python allows assigning multiple variables in one line in the template below, as long as the number of variables on the left-hand side equal to the number of expressions on the right-hand side. \n",
    "```\n",
    "var1, var2, ... = exp1, exp2, ... \n",
    "```\n",
    "For example, "
   ]
  },
  {
   "cell_type": "code",
   "execution_count": 10,
   "metadata": {},
   "outputs": [
    {
     "name": "stdout",
     "output_type": "stream",
     "text": [
      "4\n"
     ]
    }
   ],
   "source": [
    "x, y = 1, 2+1\n",
    "print (x+y)"
   ]
  },
  {
   "cell_type": "markdown",
   "metadata": {},
   "source": [
    "Now let's see a more complex example. Let's create 3 variables, `house_value`, `interest_rate`, and `years` whose means are as their names show. What is the total payment for a house of value $100k, after 30 years with a 5 per cent annual interest rate? "
   ]
  },
  {
   "cell_type": "code",
   "execution_count": 11,
   "metadata": {},
   "outputs": [
    {
     "name": "stdout",
     "output_type": "stream",
     "text": [
      "432194.2375150668\n"
     ]
    }
   ],
   "source": [
    "house_value = 100000\n",
    "interest_rate = 0.05\n",
    "years = 30\n",
    "print (house_value * (1+interest_rate)**30)"
   ]
  }
 ],
 "metadata": {
  "kernelspec": {
   "display_name": "Python 3",
   "language": "python",
   "name": "python3"
  },
  "language_info": {
   "codemirror_mode": {
    "name": "ipython",
    "version": 3
   },
   "file_extension": ".py",
   "mimetype": "text/x-python",
   "name": "python",
   "nbconvert_exporter": "python",
   "pygments_lexer": "ipython3",
   "version": "3.6.7"
  }
 },
 "nbformat": 4,
 "nbformat_minor": 2
}
