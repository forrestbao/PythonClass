{
 "cells": [
  {
   "cell_type": "markdown",
   "metadata": {},
   "source": [
    "# Computer programs\n",
    "As we will see later in this class, everything a computer does is computing. Things that are not obviously numbers are actually stored as numbers in computers, including the splash of water in a video game, or a font of text. Hence, a computer program is just a sequence of manipulations on numbers. In this sense, a computer program is no different from a sequence of computing steps that you punch into a calculator. \n",
    "\n",
    "For example, if you wanna compute the total payment for a house of $100,000 at a 4.25\\% annual rate for a 30-year mortgage, here is an expression you enter in a calculator or a computer: \n",
    "\n",
    "100000 * (1+0.0425) ** 30\n",
    "\n",
    "which corresponds to the math formula \n",
    "\n",
    "$100000\\times (1+0.0425)^{30}$ \n",
    "\n",
    "Below is a screenshot of doing so in Python's official interpreter (in interactive mode).\n",
    "\n",
    "![exmaple1](example1.png \"example1\")\n",
    "\n"
   ]
  },
  {
   "cell_type": "markdown",
   "metadata": {},
   "source": [
    "However, computing can easily be way more complex and tedious than the example above. Unlike a calculator, a computer does not require you to punch keys for all compuating steps again should you need solve the same computing problem again. Instead, you can store the program and just load and execute it when needed -- this is what happens when you power up your phone or when you launch an app on your phone. This idea is known as the **stored-program computer**. Yes, some calculators allow you to store the program to reuse later.\n",
    "\n",
    "A benefit of the stored-program computer is that you can run the repeat computing tasks with different inputs, from users, sensors, etc. You can load the same program into the computer and the program will behave different depending on the input. If you do not store the program, you'd have to key in every time but tailor with the inputs for each particular case. Just imagine how you would computer different total payments for different houses of different mortgage lengths and rates. If you were running a real estate company, you definitely want a computer rather than a calculator, the latter of which requires you to also hire many human operators to push keys.\n",
    "\n",
    "Therefore, let's begin our journey with the very basic element: expressions. "
   ]
  },
  {
   "cell_type": "markdown",
   "metadata": {},
   "source": []
  },
  {
   "cell_type": "markdown",
   "metadata": {},
   "source": [
    "# Expressions\n",
    "Expressions in Python root from the expressions you learned in math classes.\n",
    "\n",
    "## Constants\n",
    "The simplest expression is just one constant, of course, in one line. At this point, let's introduce 3 kinds of constants:\n",
    "1. *(positive and negative)* integers, e.g., 2, 3, 4, -2, -1. \n",
    "2. *(positive and negative)* floating-point numbers, e.g,. 2.0. For now, just interpret them as non-integer numbers. \n",
    "3. strings, e.g., \"2\", \"2.0\" or \"hello, world\". \n",
    "Python strictly differentiates numbers and strings that look like numbers. E.g., \"2\" and \"2.0\" are different. \n",
    "Let's see that one line of Python can be just a single constant. "
   ]
  },
  {
   "cell_type": "markdown",
   "metadata": {},
   "source": [
    "## Operators\n",
    "Constants can be connected with operators to form new expressions. \n",
    "### Operators for numbers\n",
    "For number (integers and floating-point numbers), there are 7 operators. Let's see demos below. "
   ]
  },
  {
   "cell_type": "code",
   "execution_count": 3,
   "metadata": {},
   "outputs": [
    {
     "data": {
      "text/plain": [
       "0.2857142857142857"
      ]
     },
     "execution_count": 3,
     "metadata": {},
     "output_type": "execute_result"
    }
   ],
   "source": [
    "2+7"
   ]
  },
  {
   "cell_type": "markdown",
   "metadata": {},
   "source": [
    "**Note**:\n",
    "\n",
    "* In interactive mode of a Python interpreter (see the Appendix), an expression's value is **evaluated** automatically and displayed. \n",
    "\n",
    "* In scripting mode (see the Appendix), the display part is NOT done automatically. So you have to explicitly use the `print` function to show it. Like in the example below: "
   ]
  },
  {
   "cell_type": "code",
   "execution_count": 4,
   "metadata": {},
   "outputs": [
    {
     "name": "stdout",
     "output_type": "stream",
     "text": [
      "9\n"
     ]
    }
   ],
   "source": [
    "print (2+7)"
   ]
  },
  {
   "cell_type": "markdown",
   "metadata": {},
   "source": [
    "In a Python notebook, each cell is run in scripting mode. So if you have multiple expressions, only the value of the last one will run. \n",
    "\n",
    "\n",
    "To keep things simple for now, to display anything, just explicitly use the `print` function. \n",
    "\n",
    "Here are some other expression examples: "
   ]
  },
  {
   "cell_type": "code",
   "execution_count": 11,
   "metadata": {},
   "outputs": [
    {
     "name": "stdout",
     "output_type": "stream",
     "text": [
      "-5\n",
      "14\n",
      "0.2857142857142857\n",
      "-0.2857142857142857\n"
     ]
    }
   ],
   "source": [
    "print (2-7)\n",
    "print (2*7)\n",
    "print (2/7)\n",
    "print (2/-7)  # negative number as one operand "
   ]
  },
  {
   "cell_type": "markdown",
   "metadata": {},
   "source": [
    "Python3 also has 2 kinds of division operators to get the quotient and remainder in an integer division. Although called integer division, the two operations can be on floating-point numbers. "
   ]
  },
  {
   "cell_type": "code",
   "execution_count": 3,
   "metadata": {},
   "outputs": [
    {
     "name": "stdout",
     "output_type": "stream",
     "text": [
      "4\n",
      "2\n"
     ]
    }
   ],
   "source": [
    "print (14//3)\n",
    "print (14%3)"
   ]
  },
  {
   "cell_type": "markdown",
   "metadata": {},
   "source": [
    "Try it out how they work for negative numbers. The 7th type of operator for numbers is power: "
   ]
  },
  {
   "cell_type": "code",
   "execution_count": 4,
   "metadata": {},
   "outputs": [
    {
     "data": {
      "text/plain": [
       "100"
      ]
     },
     "execution_count": 4,
     "metadata": {},
     "output_type": "execute_result"
    }
   ],
   "source": [
    "10**2"
   ]
  },
  {
   "cell_type": "markdown",
   "metadata": {},
   "source": [
    "Let's createa an expression to calculate the total payment for a house of value $100k, with a 30-year motagage of 5% annual interest rate, componded annually."
   ]
  },
  {
   "cell_type": "code",
   "execution_count": 5,
   "metadata": {},
   "outputs": [
    {
     "data": {
      "text/plain": [
       "432194.2375150668"
      ]
     },
     "execution_count": 5,
     "metadata": {},
     "output_type": "execute_result"
    }
   ],
   "source": [
    "100000*(1+0.05)**30"
   ]
  },
  {
   "cell_type": "markdown",
   "metadata": {},
   "source": [
    "### Operators for strings\n",
    "Let's introduce two operators for strings for now: concatenation and repetition:"
   ]
  },
  {
   "cell_type": "code",
   "execution_count": 6,
   "metadata": {},
   "outputs": [
    {
     "name": "stdout",
     "output_type": "stream",
     "text": [
      "hellohellohello\n"
     ]
    }
   ],
   "source": [
    "print (\"hello\" * 3)"
   ]
  },
  {
   "cell_type": "code",
   "execution_count": 7,
   "metadata": {},
   "outputs": [
    {
     "name": "stdout",
     "output_type": "stream",
     "text": [
      "hellohello\n"
     ]
    }
   ],
   "source": [
    "print (\"hello\" + \"hello\")"
   ]
  },
  {
   "cell_type": "markdown",
   "metadata": {},
   "source": [
    "# Variables and assginment statements \n",
    "Now think about this task. You are given 5 different houses. How would you compute the total payment for each of them? \n",
    "\n",
    "|house|value ($)|rate (\\%) |period (yrs)|\n",
    "|--|--|--|--|\n",
    "|1|100000|5|30|\n",
    "|2|200000|5|30|\n",
    "|3|110000|5|30|\n",
    "|4| 90000|5|30|\n",
    "|5|120000|5|30|\n",
    "\n",
    "This is an answer. \n",
    "\n",
    "```\n",
    "100000*(1+0.05)**30\n",
    "200000*(1+0.05)**30\n",
    "110000*(1+0.05)**30\n",
    "90000*(1+0.05)**30\n",
    "120000*(1+0.05)**30\n",
    "```\n",
    "\n",
    "But an obviously bad one. What if you have 10, 100 or even 1000 houses? Are you tired of typing `(1+0.05)**30`? What if you have to change the mortgage rate or duration? \n",
    "\n",
    "In math class, we were introduced to variables. A variable gives us lots of convenience. For example, we don't have to type the same contant again and again in all of its occurences. \n",
    "\n",
    "Here is an obviously better solution, allowing you to change the rate or duration only once if you need to:"
   ]
  },
  {
   "cell_type": "code",
   "execution_count": 8,
   "metadata": {},
   "outputs": [
    {
     "name": "stdout",
     "output_type": "stream",
     "text": [
      "207892.81794113686\n",
      "415785.6358822737\n",
      "228682.09973525055\n",
      "187103.5361470232\n",
      "249471.38152936424\n"
     ]
    }
   ],
   "source": [
    "rate = 0.05\n",
    "year = 15\n",
    "print (100000*(1+rate) ** year)\n",
    "print (200000*(1+rate) ** year)\n",
    "print (110000*(1+rate) ** year)\n",
    "print (90000*(1+rate) ** year)\n",
    "print (120000*(1+rate) ** year)"
   ]
  },
  {
   "cell_type": "markdown",
   "metadata": {},
   "source": [
    "\n",
    "**There are two things that one shall pay attention in the example above.**\n",
    "\n",
    "## Allowed variable names\n",
    "A string consisting of alphanumerical (a to z, A to Z, and 0 to 9), begin with underline, or alphabet, e.g., `a0b1`, `_nine5`, `AAA`. Counter examples: `0abc`.  \n",
    "\n",
    "## Assignment statements\n",
    "In order to use a variable, you must first assign a value to it, using an **assignment statement** in the template:\n",
    "\n",
    "```variable_name = an expression\n",
    "```\n",
    "\n",
    "For example, "
   ]
  },
  {
   "cell_type": "code",
   "execution_count": 8,
   "metadata": {},
   "outputs": [],
   "source": [
    "x = 5 \n",
    "# or \n",
    "x = 5 + 1 "
   ]
  },
  {
   "cell_type": "markdown",
   "metadata": {},
   "source": [
    "**Note**: An assignment statement is not an expression. So if you print an assignment statement (to be discussed later that a function cannot take non-expression as an argument), you will run into an error:"
   ]
  },
  {
   "cell_type": "code",
   "execution_count": 9,
   "metadata": {},
   "outputs": [
    {
     "ename": "TypeError",
     "evalue": "'x' is an invalid keyword argument for this function",
     "output_type": "error",
     "traceback": [
      "\u001b[0;31m---------------------------------------------------------------------------\u001b[0m",
      "\u001b[0;31mTypeError\u001b[0m                                 Traceback (most recent call last)",
      "\u001b[0;32m<ipython-input-9-15f315d32569>\u001b[0m in \u001b[0;36m<module>\u001b[0;34m()\u001b[0m\n\u001b[0;32m----> 1\u001b[0;31m \u001b[0mprint\u001b[0m \u001b[0;34m(\u001b[0m\u001b[0mx\u001b[0m \u001b[0;34m=\u001b[0m \u001b[0;36m5\u001b[0m\u001b[0;34m)\u001b[0m\u001b[0;34m\u001b[0m\u001b[0;34m\u001b[0m\u001b[0m\n\u001b[0m",
      "\u001b[0;31mTypeError\u001b[0m: 'x' is an invalid keyword argument for this function"
     ]
    }
   ],
   "source": [
    "print (x = 5)"
   ]
  },
  {
   "cell_type": "markdown",
   "metadata": {},
   "source": [
    "The equal sign does not mean equality. `x=5` shall be read as ``let x be 5``. \n",
    "After executing an assignment statement, the variable x gets the value, and you can use it, e.g., in another expression: "
   ]
  },
  {
   "cell_type": "code",
   "execution_count": 9,
   "metadata": {},
   "outputs": [
    {
     "name": "stdout",
     "output_type": "stream",
     "text": [
      "7\n"
     ]
    }
   ],
   "source": [
    "print (x+1)"
   ]
  },
  {
   "cell_type": "markdown",
   "metadata": {},
   "source": [
    "## Assignments are non-inertial \n",
    "\n",
    "In an assignment statement, the variable on the left gets the **value** of the expression on the right, not the expression itself. So if the expression on the right contains variables (`a` in the example below), changing the value of those variables won't  change the value of the variable on the left (`b` in the example below), unless re-assignment (line 6). Take a look at the example below. "
   ]
  },
  {
   "cell_type": "code",
   "execution_count": 13,
   "metadata": {},
   "outputs": [
    {
     "name": "stdout",
     "output_type": "stream",
     "text": [
      "11\n",
      "11\n",
      "12\n"
     ]
    }
   ],
   "source": [
    "a = 10 \n",
    "b = a + 1\n",
    "print (b)\n",
    "a = 11\n",
    "print (b)\n",
    "b = a + 1\n",
    "print (b)"
   ]
  },
  {
   "cell_type": "markdown",
   "metadata": {},
   "source": [
    "## Multiple variable assignments in one line\n",
    "\n",
    "Python allows assigning multiple variables in one line in the template below, as long as the number of variables on the left-hand side equals to the number of expressions on the right-hand side. \n",
    "```\n",
    "var1, var2, ... = exp1, exp2, ... \n",
    "```\n",
    "For example, "
   ]
  },
  {
   "cell_type": "code",
   "execution_count": 1,
   "metadata": {},
   "outputs": [
    {
     "name": "stdout",
     "output_type": "stream",
     "text": [
      "4\n"
     ]
    }
   ],
   "source": [
    "x, y = 1, 2+1\n",
    "print (x+y)"
   ]
  },
  {
   "cell_type": "markdown",
   "metadata": {},
   "source": [
    "Now let's see a more complex example. Let's create 3 variables, `house_value`, `interest_rate`, and `years` whose means are as their names show. What is the total payment for a house of value $100k, after 30 years with a 5 per cent annual interest rate? "
   ]
  },
  {
   "cell_type": "code",
   "execution_count": 14,
   "metadata": {},
   "outputs": [
    {
     "name": "stdout",
     "output_type": "stream",
     "text": [
      "432194.2375150668\n"
     ]
    }
   ],
   "source": [
    "house_value = 100000\n",
    "interest_rate = 0.05\n",
    "years = 30\n",
    "print (house_value * (1+interest_rate)**30)"
   ]
  },
  {
   "cell_type": "markdown",
   "metadata": {},
   "source": [
    "**However**, is this good enough?\n",
    "\n",
    "Coming next: functions."
   ]
  },
  {
   "cell_type": "markdown",
   "metadata": {},
   "source": [
    "## Undefined variables\n",
    "\n",
    "A variable that was never assigned a value is an **undefined** variable. \"Undefined\" means that the computer doesn't know its **type** -- we will discuss the concept \"type\" later. For example, the standalone Python script below will run into an error when executed, because the variable is unknown. "
   ]
  },
  {
   "cell_type": "code",
   "execution_count": 14,
   "metadata": {},
   "outputs": [
    {
     "ename": "NameError",
     "evalue": "name 'x' is not defined",
     "output_type": "error",
     "traceback": [
      "\u001b[0;31m---------------------------------------------------------------------------\u001b[0m",
      "\u001b[0;31mNameError\u001b[0m                                 Traceback (most recent call last)",
      "\u001b[0;32m<ipython-input-14-651bdd0dbe38>\u001b[0m in \u001b[0;36m<module>\u001b[0;34m()\u001b[0m\n\u001b[0;32m----> 1\u001b[0;31m \u001b[0mprint\u001b[0m \u001b[0;34m(\u001b[0m\u001b[0mx\u001b[0m\u001b[0;34m+\u001b[0m\u001b[0;36m1\u001b[0m\u001b[0;34m)\u001b[0m\u001b[0;34m\u001b[0m\u001b[0;34m\u001b[0m\u001b[0m\n\u001b[0m",
      "\u001b[0;31mNameError\u001b[0m: name 'x' is not defined"
     ]
    }
   ],
   "source": [
    "print (x+1)"
   ]
  },
  {
   "cell_type": "markdown",
   "metadata": {},
   "source": [
    "# Appendix 1: Interactive vs. script modes\n",
    "To achieve a computing task in Python, you often need multiple lines. So there are two ways to get the task done: \n",
    "1. Interactive mode: Enter one line, run it. Then enter the next, run it, and so on. \n",
    "![Interactive mode](interactive.png \"Interactive mode\")\n",
    "Case 1 happens when you enter `python` or `python3` on your Linux or macOS terminal and press the `Enter` or `Return` key. Also called the **Python shell**. \n",
    "\n",
    "2. Script mode: Save all lines into a text file called a **script** and load the script into the Python interpreter. All lines are run sequentially but you don't have to do the typing nor manage their order. (Not to be confused with **compilation** which is another concept. Second image below)\n",
    "\n",
    "![Script mode](script.png \"Script mode\")\n",
    "\n",
    "\n",
    "### So what is a Python notebook? \n",
    "It's a mixture of both. "
   ]
  },
  {
   "cell_type": "code",
   "execution_count": 7,
   "metadata": {},
   "outputs": [],
   "source": [
    "x = 10 "
   ]
  },
  {
   "cell_type": "code",
   "execution_count": 6,
   "metadata": {},
   "outputs": [
    {
     "name": "stdout",
     "output_type": "stream",
     "text": [
      "10\n"
     ]
    }
   ],
   "source": [
    "x = 5 \n",
    "y = 10+ x\n",
    "z = y - x\n",
    "print (z)"
   ]
  },
  {
   "cell_type": "code",
   "execution_count": 8,
   "metadata": {},
   "outputs": [
    {
     "name": "stdout",
     "output_type": "stream",
     "text": [
      "10\n"
     ]
    }
   ],
   "source": [
    "print (x)"
   ]
  },
  {
   "cell_type": "code",
   "execution_count": 9,
   "metadata": {},
   "outputs": [
    {
     "name": "stdout",
     "output_type": "stream",
     "text": [
      "x\t y\t z\t \n"
     ]
    }
   ],
   "source": [
    "who"
   ]
  },
  {
   "cell_type": "code",
   "execution_count": 13,
   "metadata": {},
   "outputs": [
    {
     "name": "stdout",
     "output_type": "stream",
     "text": [
      "forrest\r\n"
     ]
    }
   ],
   "source": [
    "!whoami"
   ]
  },
  {
   "cell_type": "code",
   "execution_count": null,
   "metadata": {},
   "outputs": [],
   "source": []
  }
 ],
 "metadata": {
  "kernelspec": {
   "display_name": "Python 3",
   "language": "python",
   "name": "python3"
  },
  "language_info": {
   "codemirror_mode": {
    "name": "ipython",
    "version": 3
   },
   "file_extension": ".py",
   "mimetype": "text/x-python",
   "name": "python",
   "nbconvert_exporter": "python",
   "pygments_lexer": "ipython3",
   "version": "3.6.7"
  }
 },
 "nbformat": 4,
 "nbformat_minor": 2
}
