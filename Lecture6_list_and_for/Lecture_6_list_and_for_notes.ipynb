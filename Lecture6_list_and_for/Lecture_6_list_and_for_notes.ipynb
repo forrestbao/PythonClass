{
 "cells": [
  {
   "cell_type": "markdown",
   "metadata": {},
   "source": [
    "# For-loops and lists\n",
    "Sometimes we wanna iterate a task over a sequence of data, e.g., converting all letters in a string to upper case. To do so, we need to use a new kind of structure, a for-loop. For example, a string is a sequence of characters and we print each individual character in the example below. "
   ]
  },
  {
   "cell_type": "code",
   "execution_count": 1,
   "metadata": {},
   "outputs": [
    {
     "name": "stdout",
     "output_type": "stream",
     "text": [
      "M\n",
      "C\n",
      "M\n",
      "X\n",
      "V\n",
      "I\n"
     ]
    }
   ],
   "source": [
    "X = \"MCMXVI\"\n",
    "\n",
    "for i in X:  # special assignment statemnt \n",
    "    print (i)"
   ]
  },
  {
   "cell_type": "markdown",
   "metadata": {},
   "source": [
    "## The syntax of a for-loop:\n",
    "\n",
    "```\n",
    "for element in sequence:\n",
    "    do something, usually involving the element \n",
    "```\n",
    "\n",
    "The first line of a for-loop implicitly express an assignment. Between the keywords `for` and `in`, there is a variable that is given the value of an element of the sequence in each **iteration**. In the example above, in each iteration the variable `i` get a new value, which is a character sequentially extracted1 from the string.\n",
    "\n",
    "\n",
    "## The counter \n",
    "Counter is a common technique when using a for-loop. By \"counter\", we mean a variable that has an initial value before the loop starts, and then changes its value in each iteration. For example:"
   ]
  },
  {
   "cell_type": "code",
   "execution_count": 2,
   "metadata": {},
   "outputs": [
    {
     "name": "stdout",
     "output_type": "stream",
     "text": [
      "1-th character is   M\n",
      "2-th character is   C\n",
      "3-th character is   M\n",
      "4-th character is   X\n",
      "5-th character is   V\n",
      "6-th character is   I\n"
     ]
    }
   ],
   "source": [
    "X = \"MCMXVI\"\n",
    "counter = 1 \n",
    "\n",
    "for i in X:  # special assignment statemnt \n",
    "    print (str(counter) + \"-th character is   \" + i ) \n",
    "    counter  += 1 "
   ]
  },
  {
   "cell_type": "markdown",
   "metadata": {},
   "source": [
    "## Index\n",
    "The elements of the sequence can be accessed via index as well. The index starts from 0, for the first element, and increase by a step 1. \n",
    "\n",
    "To use index to access a sequence element, follow a pair of square brackets after the sequence variable and put the integer in the square bracket pair. For example, "
   ]
  },
  {
   "cell_type": "code",
   "execution_count": 3,
   "metadata": {},
   "outputs": [
    {
     "name": "stdout",
     "output_type": "stream",
     "text": [
      "M\n",
      "C\n",
      "M\n",
      "X\n",
      "V\n",
      "I\n"
     ]
    }
   ],
   "source": [
    "print (X[0])\n",
    "print (X[1])\n",
    "print (X[2])\n",
    "print (X[3])\n",
    "print (X[4])\n",
    "print (X[5])"
   ]
  },
  {
   "cell_type": "markdown",
   "metadata": {},
   "source": [
    "The index cannot be blarger the number of elements in the sequenece. "
   ]
  },
  {
   "cell_type": "code",
   "execution_count": 4,
   "metadata": {},
   "outputs": [
    {
     "ename": "IndexError",
     "evalue": "string index out of range",
     "output_type": "error",
     "traceback": [
      "\u001b[0;31m---------------------------------------------------------------------------\u001b[0m",
      "\u001b[0;31mIndexError\u001b[0m                                Traceback (most recent call last)",
      "\u001b[0;32m<ipython-input-4-7fbe4ff43d96>\u001b[0m in \u001b[0;36m<module>\u001b[0;34m()\u001b[0m\n\u001b[0;32m----> 1\u001b[0;31m \u001b[0mprint\u001b[0m \u001b[0;34m(\u001b[0m\u001b[0mX\u001b[0m\u001b[0;34m[\u001b[0m\u001b[0;36m6\u001b[0m\u001b[0;34m]\u001b[0m\u001b[0;34m)\u001b[0m\u001b[0;34m\u001b[0m\u001b[0;34m\u001b[0m\u001b[0m\n\u001b[0m",
      "\u001b[0;31mIndexError\u001b[0m: string index out of range"
     ]
    }
   ],
   "source": [
    "print (X[6])"
   ]
  },
  {
   "cell_type": "markdown",
   "metadata": {},
   "source": [
    "## Lists \n",
    "\n",
    "Strings are just one type of sequence data in Python. A more general one is a list. A list of a sequence of objects, separated by comma and collectively delimited by a pair of square brackets. For example, the `x` in the example below. "
   ]
  },
  {
   "cell_type": "code",
   "execution_count": 5,
   "metadata": {},
   "outputs": [
    {
     "name": "stdout",
     "output_type": "stream",
     "text": [
      "2\n",
      "6\n",
      "3\n",
      "7\n",
      "3\n"
     ]
    }
   ],
   "source": [
    "x = [1,5,2,6,2]\n",
    "for i in x:\n",
    "    print (i + 1) "
   ]
  },
  {
   "cell_type": "markdown",
   "metadata": {},
   "source": [
    "Here is another example printing the squares of a list of integers. "
   ]
  },
  {
   "cell_type": "code",
   "execution_count": 6,
   "metadata": {},
   "outputs": [
    {
     "name": "stdout",
     "output_type": "stream",
     "text": [
      "1\n",
      "16\n",
      "64\n"
     ]
    }
   ],
   "source": [
    "# square the list \n",
    "# for x from y to z, repeat something \n",
    "\n",
    "def sq_list(X):\n",
    "    \"\"\"x is a list of numbers, \n",
    "    print\n",
    "    the square of each elemnet in x\n",
    "    \"\"\"\n",
    "    for x in X :\n",
    "        print (x**2)\n",
    "\n",
    "sq_list([1,4,8])"
   ]
  },
  {
   "cell_type": "markdown",
   "metadata": {},
   "source": [
    "Let's see another example to add all integers from 1 to 10. |"
   ]
  },
  {
   "cell_type": "code",
   "execution_count": 7,
   "metadata": {},
   "outputs": [
    {
     "name": "stdout",
     "output_type": "stream",
     "text": [
      "55\n"
     ]
    }
   ],
   "source": [
    "def add_1_to_10():\n",
    "    total = 0 \n",
    "    numbers = [1, 2, 3, 4, 5, 6, 7, 8, 9, 10 ]  # note we use round brackets again \n",
    "    for xya in numbers:\n",
    "        total += xya \n",
    "    return total \n",
    "        \n",
    "print (add_1_to_10()) "
   ]
  },
  {
   "cell_type": "markdown",
   "metadata": {},
   "source": [
    "Slicing can be used to alter a list. See exmaples below. "
   ]
  },
  {
   "cell_type": "code",
   "execution_count": 8,
   "metadata": {},
   "outputs": [
    {
     "name": "stdout",
     "output_type": "stream",
     "text": [
      "[1, 100, 2000, 50000, 6, 2]\n"
     ]
    }
   ],
   "source": [
    "X = [1,5,2,6,2]\n",
    "X[1:3]= [100,2000,50000]\n",
    "print (X)"
   ]
  },
  {
   "cell_type": "markdown",
   "metadata": {},
   "source": [
    "## List can be of anything\n",
    "\n",
    "In Python, a list can be a mixture of different data. For example, "
   ]
  },
  {
   "cell_type": "code",
   "execution_count": 9,
   "metadata": {},
   "outputs": [
    {
     "name": "stdout",
     "output_type": "stream",
     "text": [
      "[1, 2, 34.4, 'homework']\n"
     ]
    }
   ],
   "source": [
    "print ([1, 2, 34.4, \"homework\"])"
   ]
  },
  {
   "cell_type": "markdown",
   "metadata": {},
   "source": [
    "### Nested list \n",
    "\n",
    "Python also allows lists to be elements of a list:\n"
   ]
  },
  {
   "cell_type": "code",
   "execution_count": 10,
   "metadata": {},
   "outputs": [
    {
     "name": "stdout",
     "output_type": "stream",
     "text": [
      "[1, 2]\n",
      "1\n",
      "2\n",
      "[3, 4]\n",
      "3\n",
      "4\n"
     ]
    }
   ],
   "source": [
    "X = [[1,2], [3, 4]]\n",
    "for x in X:\n",
    "    print (x)\n",
    "    for y in x:\n",
    "        print (y)"
   ]
  },
  {
   "cell_type": "markdown",
   "metadata": {},
   "source": [
    "## The `range` function \n",
    "\n",
    "What if we wannn add from 1 to 100? Typing all numbers from 1 to 100 is very tedious. Because in computer programming, iteration is very often over a sequence of number (mathematically known as **series**), Python provides a function `range` to help. \n",
    "\n",
    "Three ways to call the `range` function:\n",
    "1. `range(x)` where x is an integer, yielding a sequence from 0 to $x-1$\n",
    "2. `range(x,y)` where x and y are both integers, yielding a sequence from x to $y-1$\n",
    "3. `range(x, y, z)` where x, y and z are all integers, yielding a sequence from 1 to at most y with a step z. \n",
    "\n"
   ]
  },
  {
   "cell_type": "code",
   "execution_count": 11,
   "metadata": {},
   "outputs": [
    {
     "name": "stdout",
     "output_type": "stream",
     "text": [
      "0\n",
      "1\n",
      "2\n",
      "3\n",
      "4\n",
      "=======\n",
      "3\n",
      "4\n",
      "5\n",
      "6\n",
      "=======\n",
      "1\n",
      "3\n",
      "5\n",
      "7\n",
      "9\n"
     ]
    }
   ],
   "source": [
    "for i in range(5):\n",
    "    print (i)\n",
    "    \n",
    "print (\"=======\")\n",
    "for i in range(3, 7):\n",
    "    print (i)\n",
    "\n",
    "print (\"=======\")\n",
    "    \n",
    "for i in range(1, 10, 2):\n",
    "    print (i)"
   ]
  },
  {
   "cell_type": "markdown",
   "metadata": {},
   "source": [
    "Therefore, here is a function that adds from 1 to 100:"
   ]
  },
  {
   "cell_type": "code",
   "execution_count": 12,
   "metadata": {},
   "outputs": [
    {
     "name": "stdout",
     "output_type": "stream",
     "text": [
      "5050\n"
     ]
    }
   ],
   "source": [
    "def add_1_to_100():\n",
    "    total = 0 \n",
    "    numbers = range(1, 101) \n",
    "    for number in numbers:\n",
    "        total += number \n",
    "    return total \n",
    "\n",
    "print (add_1_to_100())"
   ]
  },
  {
   "cell_type": "markdown",
   "metadata": {},
   "source": [
    "The `range` function returns a special type of data, the `range` type."
   ]
  },
  {
   "cell_type": "code",
   "execution_count": 13,
   "metadata": {},
   "outputs": [
    {
     "name": "stdout",
     "output_type": "stream",
     "text": [
      "<class 'range'>\n"
     ]
    }
   ],
   "source": [
    "x = range(5, 10)\n",
    "print (type(x))"
   ]
  },
  {
   "cell_type": "markdown",
   "metadata": {},
   "source": [
    "## The `len` function \n",
    "The `len` function introduced earlier can be applied to any lists as well. In a for-loop, the `len` function is often used in combination with the `range` function to iterate a sequence variable using the index. For example, "
   ]
  },
  {
   "cell_type": "code",
   "execution_count": 14,
   "metadata": {},
   "outputs": [
    {
     "name": "stdout",
     "output_type": "stream",
     "text": [
      "3\n",
      "the 0 + 1 -th element is 4\n",
      "the 1 + 1 -th element is 5\n",
      "the 2 + 1 -th element is 6\n"
     ]
    }
   ],
   "source": [
    "l = [4, 5, 6]\n",
    "print (len(l))\n",
    "\n",
    "for i in range(len(l)):\n",
    "    print (\"the \" + str(i) + \" + 1 -th element is \" + str(l[i])) "
   ]
  },
  {
   "cell_type": "markdown",
   "metadata": {},
   "source": [
    "## List construciton \n",
    "\n",
    "Earlier we see a very easy way to construct list in verbatim, e.g., `[1,5,6]`. Or use **type casting** to convert a `range`-type variable to a list. Below is an example. Note that because the for-loop in Python3 can iterate over a range-type variable, such conversion is not always necessary. "
   ]
  },
  {
   "cell_type": "code",
   "execution_count": 15,
   "metadata": {},
   "outputs": [
    {
     "data": {
      "text/plain": [
       "[1, 4, 7]"
      ]
     },
     "execution_count": 15,
     "metadata": {},
     "output_type": "execute_result"
    }
   ],
   "source": [
    "list(range(1,10, 3))"
   ]
  },
  {
   "cell_type": "markdown",
   "metadata": {},
   "source": [
    "## Operations on list\n",
    "\n",
    "1. `append` : Add one element to the end of a list \n",
    "2. `remove` (optiional)\n",
    "3. `insert` (optional): `insert(x,y)` insert y before index x \n",
    "\n",
    "Some examples below."
   ]
  },
  {
   "cell_type": "code",
   "execution_count": 16,
   "metadata": {},
   "outputs": [
    {
     "name": "stdout",
     "output_type": "stream",
     "text": [
      "[1, 2, 3, 5]\n",
      "[1, 3, 5]\n",
      "[1, 10, 3, 5]\n"
     ]
    }
   ],
   "source": [
    "l =[1,2,3]\n",
    "\n",
    "l.append(5)\n",
    "print (l)\n",
    "\n",
    "l.remove(2)\n",
    "print (l)\n",
    "\n",
    "l.insert(1, 10)\n",
    "print (l)"
   ]
  },
  {
   "cell_type": "markdown",
   "metadata": {},
   "source": [
    "Now let's define a function that takes a list of numbers as inputs and return  a list of their squares. "
   ]
  },
  {
   "cell_type": "code",
   "execution_count": 17,
   "metadata": {
    "scrolled": true
   },
   "outputs": [
    {
     "name": "stdout",
     "output_type": "stream",
     "text": [
      "[]\n",
      "[1]\n",
      "[1, 16]\n",
      "[1, 16, 64]\n"
     ]
    }
   ],
   "source": [
    "def sq_list2(X):\n",
    "    \"\"\"x is a list of numbers, \n",
    "    return a list of their squares\n",
    "    \"\"\"\n",
    "    l = [] \n",
    "    for x in X :\n",
    "        print (l)\n",
    "        l.append(x**2)\n",
    "    return l\n",
    "\n",
    "print (sq_list2([1,4,8])) "
   ]
  },
  {
   "cell_type": "markdown",
   "metadata": {},
   "source": [
    "Let's see another example of checking whether a number is a prime number. "
   ]
  },
  {
   "cell_type": "code",
   "execution_count": 18,
   "metadata": {},
   "outputs": [
    {
     "name": "stdout",
     "output_type": "stream",
     "text": [
      "x cannot be evenly divisible by any number between 2 and x-1\n",
      "True\n"
     ]
    }
   ],
   "source": [
    "def is_prime(x):\n",
    "    \"\"\"Given a number x, return True if it is prime, or False otherwise. \n",
    "    \"\"\"\n",
    "    for y in range(2, x // 2+1):\n",
    "        print (\"in this step, y is \" + str(y))\n",
    "        if x % y ==  0: # x is evenly divisible by a number y \n",
    "            return False \n",
    "    print (\"x cannot be evenly divisible by any number between 2 and x-1\")\n",
    "    return True \n",
    "\n",
    "print (is_prime(1))"
   ]
  },
  {
   "cell_type": "code",
   "execution_count": 19,
   "metadata": {},
   "outputs": [
    {
     "name": "stdout",
     "output_type": "stream",
     "text": [
      "None\n"
     ]
    }
   ],
   "source": [
    "def is_common(x):\n",
    "    \"\"\"Given a number x, return True if it is NOT prime, and False if it is. \n",
    "    \"\"\"\n",
    "    \n",
    "    if x == 1:\n",
    "        return  \n",
    "    \n",
    "    for y in range(2, x // 2 + 1 ): \n",
    "        if x % y == 0:\n",
    "            return True\n",
    "        \n",
    "    return False \n",
    "\n",
    "print (is_common(1))"
   ]
  },
  {
   "cell_type": "code",
   "execution_count": 20,
   "metadata": {},
   "outputs": [
    {
     "name": "stdout",
     "output_type": "stream",
     "text": [
      "0\n"
     ]
    }
   ],
   "source": [
    "# dot product \n",
    "# Given to lists, return the sum of element-wise product \n",
    "# The dot produc tof [1,2,3] and [4,5,6] is 1x4 + 2x5 + 3 x6 = 32\n",
    "\n",
    "def dot_product(X, Y):\n",
    "    \"\"\"Given a list of X and a list of Y, return the doc product of them \n",
    "    \"\"\"\n",
    "    \n",
    "    if len(X) != len(Y):\n",
    "        print (\"whoops\")\n",
    "        return -10000 \n",
    "    \n",
    "    result = 0 \n",
    "    for i in range(len(X)):\n",
    "        result += X[i] * Y[i] \n",
    "        \n",
    "    return result \n",
    "        \n",
    "print (dot_product([],[])) \n"
   ]
  },
  {
   "cell_type": "code",
   "execution_count": 7,
   "metadata": {},
   "outputs": [
    {
     "name": "stdout",
     "output_type": "stream",
     "text": [
      "-100\n"
     ]
    }
   ],
   "source": [
    "def letter2number(x):\n",
    "    if x == \"I\":\n",
    "        return 1\n",
    "    elif x is \"V\":\n",
    "        return 5\n",
    "    elif x is \"X\" :\n",
    "        return 10\n",
    "    elif x is \"D\":\n",
    "        return 500\n",
    "    elif x is \"C\" :\n",
    "        return 100\n",
    "    elif x is \"M\":\n",
    "        return 1000 \n",
    "    else:\n",
    "        return 0 \n",
    "\n",
    "def roman2arab(X):\n",
    "    \"\"\"Convert a string in Roman numericals to arabic numbers, \n",
    "    e.g., \"MCMXVI\" to 1916 1000 + (1000-100) + 10 + 5 + 1 \n",
    "    \n",
    "    input:\n",
    "        x: string, consisting of M (1000), C (100), D (500), X (10), V (5) and I (1) only\n",
    "        \n",
    "    output:\n",
    "        y: an integer \n",
    "\n",
    "    6 -> VI (5 + 1 )\n",
    "    4 -> IV (5 - I) \n",
    "    12 -> XII\n",
    "\n",
    "\n",
    "    \"\"\"\n",
    "    total, hold = 0, 0 \n",
    "    for character in X: # scan X, let each position be character \n",
    "        current_number = letter2number(character)\n",
    "        if hold < current_number:\n",
    "            sign = -1 \n",
    "        else:\n",
    "            sign = 1 \n",
    "\n",
    "        total += sign * hold  # \n",
    "        hold = current_number \n",
    "        \n",
    "    return total \n",
    "    \n",
    "print (roman2arab(\"CD\"))"
   ]
  },
  {
   "cell_type": "markdown",
   "metadata": {},
   "source": [
    "## Tuple\n",
    "\n",
    "Unlike list instianated with a pair of square brackets, a tuple is with round brakcets. Accessing elements for a tuple is the same doing so on lists. "
   ]
  },
  {
   "cell_type": "code",
   "execution_count": 22,
   "metadata": {},
   "outputs": [
    {
     "name": "stdout",
     "output_type": "stream",
     "text": [
      "1\n",
      "2\n",
      "3\n",
      "4\n",
      "2\n",
      "4\n"
     ]
    }
   ],
   "source": [
    "X = (1,2)\n",
    "Y = [3,4]\n",
    "\n",
    "def print_list_or_tuple(X):\n",
    "    for x in X: \n",
    "        print (x)\n",
    "        \n",
    "print_list_or_tuple(X)\n",
    "print_list_or_tuple(Y)\n",
    "\n",
    "print (X[1])\n",
    "print (Y[1])"
   ]
  },
  {
   "cell_type": "markdown",
   "metadata": {},
   "source": [
    "However, a list is **mutable** while a tuple is **immutable**. Immutable meanings that no elements cannot be altered nor can elements being appended, deleted, or inserted. "
   ]
  },
  {
   "cell_type": "code",
   "execution_count": 23,
   "metadata": {},
   "outputs": [
    {
     "name": "stdout",
     "output_type": "stream",
     "text": [
      "[3, 10]\n"
     ]
    },
    {
     "ename": "TypeError",
     "evalue": "'tuple' object does not support item assignment",
     "output_type": "error",
     "traceback": [
      "\u001b[0;31m---------------------------------------------------------------------------\u001b[0m",
      "\u001b[0;31mTypeError\u001b[0m                                 Traceback (most recent call last)",
      "\u001b[0;32m<ipython-input-23-afe7e810d2de>\u001b[0m in \u001b[0;36m<module>\u001b[0;34m()\u001b[0m\n\u001b[1;32m      3\u001b[0m \u001b[0mY\u001b[0m\u001b[0;34m[\u001b[0m\u001b[0;36m1\u001b[0m\u001b[0;34m]\u001b[0m \u001b[0;34m=\u001b[0m \u001b[0;36m10\u001b[0m\u001b[0;34m\u001b[0m\u001b[0;34m\u001b[0m\u001b[0m\n\u001b[1;32m      4\u001b[0m \u001b[0mprint\u001b[0m \u001b[0;34m(\u001b[0m\u001b[0mY\u001b[0m\u001b[0;34m)\u001b[0m\u001b[0;34m\u001b[0m\u001b[0;34m\u001b[0m\u001b[0m\n\u001b[0;32m----> 5\u001b[0;31m \u001b[0mX\u001b[0m\u001b[0;34m[\u001b[0m\u001b[0;36m1\u001b[0m\u001b[0;34m]\u001b[0m \u001b[0;34m=\u001b[0m\u001b[0;36m10\u001b[0m\u001b[0;34m\u001b[0m\u001b[0;34m\u001b[0m\u001b[0m\n\u001b[0m\u001b[1;32m      6\u001b[0m \u001b[0mprint\u001b[0m \u001b[0;34m(\u001b[0m\u001b[0mX\u001b[0m\u001b[0;34m)\u001b[0m\u001b[0;34m\u001b[0m\u001b[0;34m\u001b[0m\u001b[0m\n",
      "\u001b[0;31mTypeError\u001b[0m: 'tuple' object does not support item assignment"
     ]
    }
   ],
   "source": [
    "X = (1,2)\n",
    "Y = [3,4]\n",
    "Y[1] = 10\n",
    "print (Y)\n",
    "X[1] =10 \n",
    "print (X)"
   ]
  },
  {
   "cell_type": "markdown",
   "metadata": {},
   "source": [
    "## Tuples and function returns\n",
    "Actually, every function in Python returns a tuple: "
   ]
  },
  {
   "cell_type": "code",
   "execution_count": 24,
   "metadata": {},
   "outputs": [
    {
     "name": "stdout",
     "output_type": "stream",
     "text": [
      "(6, 7)\n",
      "6\n",
      "7\n"
     ]
    }
   ],
   "source": [
    "def foo(X):\n",
    "    return X + 1, X + 2\n",
    "\n",
    "Y = foo(5)\n",
    "print (Y)\n",
    "\n",
    "A, B = foo(5)\n",
    "print (A)\n",
    "print (B)"
   ]
  },
  {
   "cell_type": "markdown",
   "metadata": {},
   "source": [
    "But the number of variables to be assigned from a function must be either 1 or equal to the number of number of returns (i.e., the length of the return tuple)"
   ]
  },
  {
   "cell_type": "code",
   "execution_count": 25,
   "metadata": {},
   "outputs": [
    {
     "ename": "ValueError",
     "evalue": "too many values to unpack (expected 2)",
     "output_type": "error",
     "traceback": [
      "\u001b[0;31m---------------------------------------------------------------------------\u001b[0m",
      "\u001b[0;31mValueError\u001b[0m                                Traceback (most recent call last)",
      "\u001b[0;32m<ipython-input-25-ef8b92d3eee5>\u001b[0m in \u001b[0;36m<module>\u001b[0;34m()\u001b[0m\n\u001b[1;32m      2\u001b[0m     \u001b[0;32mreturn\u001b[0m \u001b[0mX\u001b[0m \u001b[0;34m+\u001b[0m \u001b[0;36m1\u001b[0m\u001b[0;34m,\u001b[0m \u001b[0mX\u001b[0m \u001b[0;34m+\u001b[0m \u001b[0;36m2\u001b[0m\u001b[0;34m,\u001b[0m \u001b[0mX\u001b[0m \u001b[0;34m+\u001b[0m \u001b[0;36m3\u001b[0m\u001b[0;34m\u001b[0m\u001b[0;34m\u001b[0m\u001b[0m\n\u001b[1;32m      3\u001b[0m \u001b[0;34m\u001b[0m\u001b[0m\n\u001b[0;32m----> 4\u001b[0;31m \u001b[0mA\u001b[0m\u001b[0;34m,\u001b[0m \u001b[0mB\u001b[0m \u001b[0;34m=\u001b[0m \u001b[0mfoo3\u001b[0m\u001b[0;34m(\u001b[0m\u001b[0;36m5\u001b[0m\u001b[0;34m)\u001b[0m\u001b[0;34m\u001b[0m\u001b[0;34m\u001b[0m\u001b[0m\n\u001b[0m\u001b[1;32m      5\u001b[0m \u001b[0mprint\u001b[0m \u001b[0;34m(\u001b[0m\u001b[0mA\u001b[0m\u001b[0;34m)\u001b[0m\u001b[0;34m\u001b[0m\u001b[0;34m\u001b[0m\u001b[0m\n\u001b[1;32m      6\u001b[0m \u001b[0mprint\u001b[0m \u001b[0;34m(\u001b[0m\u001b[0mB\u001b[0m\u001b[0;34m)\u001b[0m\u001b[0;34m\u001b[0m\u001b[0;34m\u001b[0m\u001b[0m\n",
      "\u001b[0;31mValueError\u001b[0m: too many values to unpack (expected 2)"
     ]
    }
   ],
   "source": [
    "def foo3(X):\n",
    "    return X + 1, X + 2, X + 3 \n",
    "\n",
    "A, B = foo3(5)\n",
    "print (A)\n",
    "print (B)"
   ]
  },
  {
   "cell_type": "markdown",
   "metadata": {},
   "source": [
    "## `zip` "
   ]
  },
  {
   "cell_type": "code",
   "execution_count": 26,
   "metadata": {},
   "outputs": [
    {
     "name": "stdout",
     "output_type": "stream",
     "text": [
      "[(1, 4), (2, 5), (3, 6)]\n"
     ]
    }
   ],
   "source": [
    "print (list(zip([1,2,3],[4,5,6])))"
   ]
  },
  {
   "cell_type": "code",
   "execution_count": 27,
   "metadata": {},
   "outputs": [
    {
     "name": "stdout",
     "output_type": "stream",
     "text": [
      "(1, 4)\n",
      "(2, 5)\n",
      "(3, 6)\n",
      "32\n"
     ]
    }
   ],
   "source": [
    "# [1,2,3] and [4,5,6]\n",
    "Z = [(1,4),(2,5),(3,6)] # Z is a list of 2-tuples \n",
    "\n",
    "for z in Z:\n",
    "    print (z)\n",
    "\n",
    "def paired_dot_product(X, Y ):\n",
    "    Z = zip(X,Y)\n",
    "    result = 0 \n",
    "    for (x,y) in Z:\n",
    "        result += x*y\n",
    "        \n",
    "    return result\n",
    "\n",
    "print (paired_dot_product([1,2,3], [4,5,6]))\n"
   ]
  },
  {
   "cell_type": "markdown",
   "metadata": {},
   "source": [
    "## A lab problem for Friday: Tensor_product \n",
    "Given 3 lists of length $n$, X, Y, and Z, return $\\sum_{i=1}^n  X[i] Y[i] Z[i] $\n",
    "For example, X= [1,2,3], Y= [4,5,6], and Z = [7,8,9], return $1\\times 4 \\times 7 + 2\\times 5 \\times 8 + 3\\times 6 \\times 9$\n",
    "\n",
    "\n",
    "Three subtasks:\n",
    "1. Do it with index. \n",
    "2. Do it without index but only one for-loop and one zip \n",
    "3. Do it calling paired_dot_product only\n",
    "\n",
    "Get the dot product between X and Y first. Then compute the dot product between ( the dot product ) and Z. "
   ]
  },
  {
   "cell_type": "markdown",
   "metadata": {},
   "source": [
    "## Functional programming in Python\n",
    "\n",
    "### Map and reduce \n",
    "Python supports MapReduce to apply a function interatively onto sequence data. Some examples are given below. Because map and reduce returns variables of their own types, the examples below use typecasting to convert the results into lists.  For details, see https://docs.python.org/3/howto/functional.html"
   ]
  },
  {
   "cell_type": "code",
   "execution_count": 28,
   "metadata": {},
   "outputs": [
    {
     "name": "stdout",
     "output_type": "stream",
     "text": [
      "[2, 3, 5, 6, 7]\n",
      "18\n"
     ]
    }
   ],
   "source": [
    "import functools\n",
    "\n",
    "def plus1(X):\n",
    "    return X + 1 \n",
    "\n",
    "P = [1,2,4,5,6]\n",
    "\n",
    "print (list(map(plus1, P)))\n",
    "\n",
    "def addme(a,b):\n",
    "    return a+b \n",
    "\n",
    "print (functools.reduce(addme, P))\n",
    "\n",
    "# Bonus point for lab: do tensor-product with map and reduce "
   ]
  },
  {
   "cell_type": "markdown",
   "metadata": {},
   "source": [
    "### List comprehension\n",
    "Python also supports list comprehension. See the example below. "
   ]
  },
  {
   "cell_type": "code",
   "execution_count": 29,
   "metadata": {},
   "outputs": [
    {
     "name": "stdout",
     "output_type": "stream",
     "text": [
      "[2, 3]\n"
     ]
    }
   ],
   "source": [
    "# list comprehension \n",
    "P = [1,2,4,5,6]\n",
    "Q = [p + 1 for p in P if p < 4]\n",
    "\n",
    "print (Q)"
   ]
  },
  {
   "cell_type": "code",
   "execution_count": null,
   "metadata": {},
   "outputs": [],
   "source": [
    "def roman2arab(S):\n",
    "    #input: a string S  from the alphabet {M,D,C,X,V,I}\n",
    "    # output: an integer N\n",
    "    hold, total = 0, 0\n",
    "\n",
    "    # define what to do in each iteration\n",
    "    # Then define the initial condition\n",
    "    # Populate the loop\n",
    "    # any final touch needed\n",
    "\n",
    "\n",
    "    foreach current_letter in S:\n",
    "        current_magnitude  =  letter2int(current_letter)  \n",
    "        if current_magnitude > hold :\n",
    "            sign = -1 \n",
    "        else:\n",
    "            sign = 1 \n",
    "        total += sign * hold \n",
    "        hold = current_magnitude \n",
    "\n",
    "    total += current_magnitude \n",
    "\n",
    "    return totalb"
   ]
  },
  {
   "cell_type": "code",
   "execution_count": null,
   "metadata": {},
   "outputs": [],
   "source": [
    "def tensor_product_index(X, Y, Z):\n",
    "    '''\n",
    "    total = 0  # 3\n",
    "    for i from 0 to length of X or Y or Z: # 2 \n",
    "        total += X[i] * Y[i] * Z[i] # 1 \n",
    "    # 4 \n",
    "    return total \n",
    "    '''\n",
    "    \n",
    "    total = 0 \n",
    "    for i in range(len(X)):\n",
    "        total += X[i] * Y[i] * Z[i]\n",
    "    return total \n",
    "\n",
    "def tensor_product_index_paired(X,Y,Z):\n",
    "    '''\n",
    "    \n",
    "    A = X dotproduct Y\n",
    "    A dotproduct Z \n",
    "    [1x4, 2x5, 3x6] * [7, 8, 9]\n",
    "    \n",
    "    '''\n",
    "    A = paired_dot_product(X, Y)\n",
    "    return paired_dot_product(A, Z)\n",
    "    \n",
    "def tensor_product_zip(X,Y, Z):\n",
    "    '''\n",
    "    total=0\n",
    "    Create a new list A = [(X0, Y0, Z0), (X1, Y1, Z1),...]\n",
    "    for each pair of (x,y,z) in A:\n",
    "        total += x*y*z\n",
    "    '''\n",
    "    total = 0\n",
    "    A = zip(X,Y,Z)\n",
    "    for (x,y,z) in A:\n",
    "        total += x*y*z\n",
    "    return total \n",
    "    \n",
    "    \n",
    "    \n",
    "    \n",
    "    \n",
    "    \n",
    "    \n",
    "    "
   ]
  },
  {
   "cell_type": "code",
   "execution_count": 4,
   "metadata": {},
   "outputs": [
    {
     "name": "stdout",
     "output_type": "stream",
     "text": [
      "[('H', 'B'), ('a', 'i'), ('p', 'r'), ('p', 't'), ('y', 'h')]\n",
      "[(1, 4), (2, 5), (3, 6)]\n",
      "<zip object at 0x7fad9c3b0c48>\n"
     ]
    }
   ],
   "source": [
    "print (list(zip(\"Happy\", \"Birth\")))\n",
    "print (list(zip([1,2,3], [4,5,6])))\n",
    "print (zip([1,2,3], [4,5,6]))\n",
    "\n",
    "\n",
    "\n",
    "\n"
   ]
  },
  {
   "cell_type": "code",
   "execution_count": 5,
   "metadata": {},
   "outputs": [
    {
     "name": "stdout",
     "output_type": "stream",
     "text": [
      "[2, 3, 4]\n"
     ]
    }
   ],
   "source": [
    "print (list(map(lambda x: x+1, [1,2,3])))\n"
   ]
  },
  {
   "cell_type": "code",
   "execution_count": 11,
   "metadata": {},
   "outputs": [
    {
     "name": "stdout",
     "output_type": "stream",
     "text": [
      "[1, 1, -1, 1, 1]\n"
     ]
    }
   ],
   "source": [
    "map(letter2number, \"MCDVI\")\n",
    "\n",
    "def nums2signs(X):\n",
    "    \"\"\"Given a list of numbers, return corresponding signs. \n",
    "    -1 if a number is less than the next number\n",
    "    +1 otherwise. \n",
    "    +1 always for the first number in the list \n",
    "    \n",
    "    input: a list X of numbers\n",
    "    output: a list Y of {+1, -1}, initially empty \n",
    "\n",
    "    current_number, previous_number \n",
    "    \n",
    "    let previous_number be 1000000000000\n",
    "    Let Y be an empty list \n",
    "    for current_number in X:\n",
    "        if current_number > previous_number:\n",
    "            sign = -1\n",
    "        else:\n",
    "            sign = 1 \n",
    "        previous_number = current_number \n",
    "        Append sign into Y \n",
    "        \n",
    "\n",
    "    \"\"\"\n",
    "    \n",
    "    Y, previous_number = [], 10000000000000000000\n",
    "    for current_number in X:\n",
    "        if current_number > previous_number:\n",
    "            sign = -1\n",
    "        else:\n",
    "            sign = 1 \n",
    "        previous_number = current_number \n",
    "        Y.append(sign)\n",
    "    return Y \n",
    "\n",
    "print (nums2signs(map(letter2number, \"MCDVI\")))\n",
    "\n",
    "\n",
    "\n",
    "\n",
    "\n",
    "\n",
    "\n",
    "\n",
    "\n",
    "\n",
    "\n",
    "\n"
   ]
  },
  {
   "cell_type": "markdown",
   "metadata": {},
   "source": [
    "# Insertion sort "
   ]
  },
  {
   "cell_type": "code",
   "execution_count": 3,
   "metadata": {},
   "outputs": [
    {
     "name": "stdout",
     "output_type": "stream",
     "text": [
      "[3, 5, 6, 7, 9]\n"
     ]
    }
   ],
   "source": [
    "def sort1(L):\n",
    "    temp = []\n",
    "    for i in range(len(L)):\n",
    "        m = min(L)\n",
    "        temp.append(m)\n",
    "        L.remove(m)\n",
    "    \n",
    "    return temp\n",
    "\n",
    "print (sort1([6,5,7,3,9]))"
   ]
  },
  {
   "cell_type": "code",
   "execution_count": 11,
   "metadata": {},
   "outputs": [
    {
     "data": {
      "text/plain": [
       "[3, 5, 6, 7, 9]"
      ]
     },
     "execution_count": 11,
     "metadata": {},
     "output_type": "execute_result"
    }
   ],
   "source": [
    "def insertright(Temp, E):\n",
    "    \"\"\"Insert E into the list Temp such that the \n",
    "    resulting list is still in ascending order \n",
    "    \n",
    "    something_larger_than_E = False  \n",
    "    \n",
    "    for each element P in Temp:\n",
    "        if P > E:\n",
    "            insert E before P \n",
    "            something_larger_than_E = True \n",
    "        \n",
    "    if nothing in Temp is greater than E\n",
    "        append E to the end of Temp \n",
    "    \"\"\"\n",
    "    something_larger_than_E = False \n",
    "    # True if some element in Temp is greater than E \n",
    "    # False, if such element is never encountered/scanned\n",
    "    \n",
    "    for i in range(len(Temp)):\n",
    "#        print (i)\n",
    "        if Temp[i] > E:\n",
    "            Temp.insert(i, E)\n",
    "            something_larger_than_E = True \n",
    "            break # quit the loop, not the funtion \n",
    "    \n",
    "    if something_larger_than_E == False: \n",
    "        Temp.append(E)\n",
    "    \n",
    "    return Temp \n",
    "    \n",
    "def insertionsort(L):\n",
    "    Temp = []\n",
    "    # scan each element E in L \n",
    "    #    insert E to the right place in Temp  \n",
    "    for E in L:\n",
    "        Temp = insertright(Temp, E)\n",
    "        \n",
    "    return Temp \n",
    "\n",
    "insertionsort([6,5,7,3,9])"
   ]
  },
  {
   "cell_type": "code",
   "execution_count": 6,
   "metadata": {},
   "outputs": [
    {
     "name": "stdout",
     "output_type": "stream",
     "text": [
      "[5, 6, 7, 8]\n"
     ]
    }
   ],
   "source": [
    "L = [5,6, 8]\n",
    "L.insert(2, 7)\n",
    "print (L)"
   ]
  },
  {
   "cell_type": "code",
   "execution_count": null,
   "metadata": {},
   "outputs": [],
   "source": []
  }
 ],
 "metadata": {
  "kernelspec": {
   "display_name": "Python 3",
   "language": "python",
   "name": "python3"
  },
  "language_info": {
   "codemirror_mode": {
    "name": "ipython",
    "version": 3
   },
   "file_extension": ".py",
   "mimetype": "text/x-python",
   "name": "python",
   "nbconvert_exporter": "python",
   "pygments_lexer": "ipython3",
   "version": "3.6.7"
  }
 },
 "nbformat": 4,
 "nbformat_minor": 2
}
