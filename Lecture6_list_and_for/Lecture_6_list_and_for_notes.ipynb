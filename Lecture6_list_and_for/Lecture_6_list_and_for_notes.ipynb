{
 "cells": [
  {
   "cell_type": "markdown",
   "metadata": {},
   "source": [
    "# For-loops and lists\n",
    "Sometimes we wanna iterate a task over a sequence of data, e.g., converting all letters in a string to upper case. To do so, we need to use a new kind of structure, a for-loop. For example, a string is a sequence of characters and we print each individual character in the example below. "
   ]
  },
  {
   "cell_type": "code",
   "execution_count": 1,
   "metadata": {},
   "outputs": [
    {
     "name": "stdout",
     "output_type": "stream",
     "text": [
      "M\n",
      "C\n",
      "M\n",
      "X\n",
      "V\n",
      "I\n"
     ]
    }
   ],
   "source": [
    "X = \"MCMXVI\"\n",
    "\n",
    "for i in X:  # special assignment statemnt \n",
    "    print (i)"
   ]
  },
  {
   "cell_type": "markdown",
   "metadata": {},
   "source": [
    "## The syntax of a for-loop:\n",
    "\n",
    "```\n",
    "for element in sequence:\n",
    "    do something, usually involving the element \n",
    "```\n",
    "\n",
    "The first line of a for-loop implicitly express an assignment. Between the keywords `for` and `in`, there is a variable that is given the value of an element of the sequence in each **iteration**. In the example above, in each iteration the variable `i` get a new value, which is a character sequentially extracted1 from the string.\n",
    "\n",
    "\n",
    "## The counter \n",
    "Counter is a common technique when using a for-loop. By \"counter\", we mean a variable that has an initial value before the loop starts, and then changes its value in each iteration. For example:"
   ]
  },
  {
   "cell_type": "code",
   "execution_count": 3,
   "metadata": {},
   "outputs": [
    {
     "name": "stdout",
     "output_type": "stream",
     "text": [
      "1-th character is   M\n",
      "2-th character is   C\n",
      "3-th character is   M\n",
      "4-th character is   X\n",
      "5-th character is   V\n",
      "6-th character is   I\n"
     ]
    }
   ],
   "source": [
    "X = \"MCMXVI\"\n",
    "counter = 1 \n",
    "\n",
    "for i in X:  # special assignment statemnt \n",
    "    print (str(counter) + \"-th character is   \" + i ) \n",
    "    counter  += 1 "
   ]
  },
  {
   "cell_type": "markdown",
   "metadata": {},
   "source": [
    "## Index\n",
    "The elements of the sequence can be accessed via index as well. The index starts from 0, for the first element, and increase by a step 1. \n",
    "\n",
    "To use index to access a sequence element, follow a pair of square brackets after the sequence variable and put the integer in the square bracket pair. For example, "
   ]
  },
  {
   "cell_type": "code",
   "execution_count": 5,
   "metadata": {},
   "outputs": [
    {
     "name": "stdout",
     "output_type": "stream",
     "text": [
      "M\n",
      "C\n",
      "M\n",
      "X\n",
      "V\n",
      "I\n"
     ]
    }
   ],
   "source": [
    "print (X[0])\n",
    "print (X[1])\n",
    "print (X[2])\n",
    "print (X[3])\n",
    "print (X[4])\n",
    "print (X[5])"
   ]
  },
  {
   "cell_type": "markdown",
   "metadata": {},
   "source": [
    "The index cannot be blarger the number of elements in the sequenece. "
   ]
  },
  {
   "cell_type": "code",
   "execution_count": 6,
   "metadata": {},
   "outputs": [
    {
     "ename": "IndexError",
     "evalue": "string index out of range",
     "output_type": "error",
     "traceback": [
      "\u001b[0;31m---------------------------------------------------------------------------\u001b[0m",
      "\u001b[0;31mIndexError\u001b[0m                                Traceback (most recent call last)",
      "\u001b[0;32m<ipython-input-6-7eb3c0c7ce92>\u001b[0m in \u001b[0;36m<module>\u001b[0;34m()\u001b[0m\n\u001b[1;32m      2\u001b[0m \u001b[0;34m\u001b[0m\u001b[0m\n\u001b[1;32m      3\u001b[0m \u001b[0;34m\u001b[0m\u001b[0m\n\u001b[0;32m----> 4\u001b[0;31m \u001b[0mprint\u001b[0m \u001b[0;34m(\u001b[0m\u001b[0mX\u001b[0m\u001b[0;34m[\u001b[0m\u001b[0;36m6\u001b[0m\u001b[0;34m]\u001b[0m\u001b[0;34m)\u001b[0m\u001b[0;34m\u001b[0m\u001b[0;34m\u001b[0m\u001b[0m\n\u001b[0m",
      "\u001b[0;31mIndexError\u001b[0m: string index out of range"
     ]
    }
   ],
   "source": [
    "print (X[6])"
   ]
  },
  {
   "cell_type": "markdown",
   "metadata": {},
   "source": [
    "## Lists \n",
    "\n",
    "Strings are just one type of sequence data in Python. A more general one is a list. A list of a sequence of objects, separated by comma and collectively delimited by a pair of square brackets. For example, the `x` in the example below. "
   ]
  },
  {
   "cell_type": "code",
   "execution_count": 6,
   "metadata": {},
   "outputs": [
    {
     "name": "stdout",
     "output_type": "stream",
     "text": [
      "2\n",
      "6\n",
      "3\n",
      "7\n",
      "3\n"
     ]
    }
   ],
   "source": [
    "x = [1,5,2,6,2]\n",
    "for i in x:\n",
    "    print (i + 1) "
   ]
  },
  {
   "cell_type": "markdown",
   "metadata": {},
   "source": [
    "Here is another example printing the squares of a list of integers. "
   ]
  },
  {
   "cell_type": "code",
   "execution_count": 11,
   "metadata": {},
   "outputs": [
    {
     "name": "stdout",
     "output_type": "stream",
     "text": [
      "1\n",
      "16\n",
      "64\n"
     ]
    }
   ],
   "source": [
    "# square the list \n",
    "# for x from y to z, repeat something \n",
    "\n",
    "def sq_list(X):\n",
    "    \"\"\"x is a list of numbers, \n",
    "    print\n",
    "    the square of each elemnet in x\n",
    "    \"\"\"\n",
    "    for x in X :\n",
    "        print (x**2)\n",
    "\n",
    "sq_list([1,4,8])"
   ]
  },
  {
   "cell_type": "markdown",
   "metadata": {},
   "source": [
    "Let's see another example to add all integers from 1 to 10. |"
   ]
  },
  {
   "cell_type": "code",
   "execution_count": 7,
   "metadata": {},
   "outputs": [
    {
     "name": "stdout",
     "output_type": "stream",
     "text": [
      "55\n"
     ]
    }
   ],
   "source": [
    "def add_1_to_10():\n",
    "    total = 0 \n",
    "    numbers = [1, 2, 3, 4, 5, 6, 7, 8, 9, 10 ]  # note we use round brackets again \n",
    "    for xya in numbers:\n",
    "        total += xya \n",
    "    return total \n",
    "        \n",
    "print (add_1_to_10()) "
   ]
  },
  {
   "cell_type": "markdown",
   "metadata": {},
   "source": [
    "## The `range` function \n",
    "\n",
    "What if we wannn add from 1 to 100? Typing all numbers from 1 to 100 is very tedious. Because in computer programming, iteration is very often over a sequence of number (mathematically known as **series**), Python provides a function `range` to help. \n",
    "\n",
    "Three ways to call the `range` function:\n",
    "1. `range(x)` where x is an integer, yielding a sequence from 0 to $x-1$\n",
    "2. `range(x,y)` where x and y are both integers, yielding a sequence from x to $y-1$\n",
    "3. `range(x, y, z)` where x, y and z are all integers, yielding a sequence from 1 to at most y with a step z. \n",
    "\n"
   ]
  },
  {
   "cell_type": "code",
   "execution_count": 8,
   "metadata": {},
   "outputs": [
    {
     "name": "stdout",
     "output_type": "stream",
     "text": [
      "0\n",
      "1\n",
      "2\n",
      "3\n",
      "4\n",
      "=======\n",
      "3\n",
      "4\n",
      "5\n",
      "6\n",
      "=======\n",
      "1\n",
      "3\n",
      "5\n",
      "7\n",
      "9\n"
     ]
    }
   ],
   "source": [
    "for i in range(5):\n",
    "    print (i)\n",
    "    \n",
    "print (\"=======\")\n",
    "for i in range(3, 7):\n",
    "    print (i)\n",
    "\n",
    "print (\"=======\")\n",
    "    \n",
    "for i in range(1, 10, 2):\n",
    "    print (i)"
   ]
  },
  {
   "cell_type": "markdown",
   "metadata": {},
   "source": [
    "Therefore, here is a function that adds from 1 to 100:"
   ]
  },
  {
   "cell_type": "code",
   "execution_count": 9,
   "metadata": {},
   "outputs": [
    {
     "name": "stdout",
     "output_type": "stream",
     "text": [
      "5050\n"
     ]
    }
   ],
   "source": [
    "def add_1_to_100():\n",
    "    total = 0 \n",
    "    numbers = range(1, 101) \n",
    "    for number in numbers:\n",
    "        total += number \n",
    "    return total \n",
    "\n",
    "print (add_1_to_100())"
   ]
  },
  {
   "cell_type": "markdown",
   "metadata": {},
   "source": [
    "The `range` function returns a special type of data, the `range` type."
   ]
  },
  {
   "cell_type": "code",
   "execution_count": 12,
   "metadata": {},
   "outputs": [
    {
     "name": "stdout",
     "output_type": "stream",
     "text": [
      "<class 'range'>\n"
     ]
    }
   ],
   "source": [
    "x = range(5, 10)\n",
    "print (type(x))"
   ]
  },
  {
   "cell_type": "markdown",
   "metadata": {},
   "source": [
    "## The `len` function \n",
    "The `len` function introduced earlier can be applied to any lists as well. In a for-loop, the `len` function is often used in combination with the `range` function to iterate a sequence variable using the index. For example, "
   ]
  },
  {
   "cell_type": "code",
   "execution_count": 10,
   "metadata": {},
   "outputs": [
    {
     "name": "stdout",
     "output_type": "stream",
     "text": [
      "3\n",
      "the 0 + 1 -th element is 4\n",
      "the 1 + 1 -th element is 5\n",
      "the 2 + 1 -th element is 6\n"
     ]
    }
   ],
   "source": [
    "l = [4, 5, 6]\n",
    "print (len(l))\n",
    "\n",
    "for i in range(len(l)):\n",
    "    print (\"the \" + str(i) + \" + 1 -th element is \" + str(l[i])) "
   ]
  },
  {
   "cell_type": "markdown",
   "metadata": {},
   "source": [
    "## List construciton \n",
    "\n",
    "Earlier we see a very easy way to construct list in verbatim, e.g., `[1,5,6]`. Or use **type casting** to convert a `range`-type variable to a list. Below is an example. Note that because the for-loop in Python3 can iterate over a range-type variable, such conversion is not always necessary. "
   ]
  },
  {
   "cell_type": "code",
   "execution_count": 13,
   "metadata": {},
   "outputs": [
    {
     "data": {
      "text/plain": [
       "[1, 4, 7]"
      ]
     },
     "execution_count": 13,
     "metadata": {},
     "output_type": "execute_result"
    }
   ],
   "source": [
    "list(range(1,10, 3))"
   ]
  },
  {
   "cell_type": "markdown",
   "metadata": {},
   "source": [
    "## Operations on list\n",
    "\n",
    "1. `append` : Add one element to the end of a list \n",
    "2. `remove` (optiional)\n",
    "3. `insert` (optional): `insert(x,y)` insert y before index x \n",
    "\n",
    "Some examples below."
   ]
  },
  {
   "cell_type": "code",
   "execution_count": 29,
   "metadata": {},
   "outputs": [
    {
     "name": "stdout",
     "output_type": "stream",
     "text": [
      "[1, 2, 3, 5]\n",
      "[1, 3, 5]\n",
      "[1, 10, 3, 5]\n"
     ]
    }
   ],
   "source": [
    "l =[1,2,3]\n",
    "\n",
    "l.append(5)\n",
    "print (l)\n",
    "\n",
    "l.remove(2)\n",
    "print (l)\n",
    "\n",
    "l.insert(1, 10)\n",
    "print (l)"
   ]
  },
  {
   "cell_type": "markdown",
   "metadata": {},
   "source": [
    "Now let's define a function that takes a list of numbers as inputs and return  a list of their squares. "
   ]
  },
  {
   "cell_type": "code",
   "execution_count": 15,
   "metadata": {
    "scrolled": true
   },
   "outputs": [
    {
     "name": "stdout",
     "output_type": "stream",
     "text": [
      "[]\n",
      "[1]\n",
      "[1, 16]\n",
      "[1, 16, 64]\n"
     ]
    }
   ],
   "source": [
    "def sq_list2(X):\n",
    "    \"\"\"x is a list of numbers, \n",
    "    return a list of their squares\n",
    "    \"\"\"\n",
    "    l = [] \n",
    "    for x in X :\n",
    "        print (l)\n",
    "        l.append(x**2)\n",
    "    return l\n",
    "\n",
    "print (sq_list2([1,4,8])) "
   ]
  },
  {
   "cell_type": "markdown",
   "metadata": {},
   "source": [
    "Let's see another example of checking whether a number is a prime number. "
   ]
  },
  {
   "cell_type": "code",
   "execution_count": 35,
   "metadata": {},
   "outputs": [
    {
     "name": "stdout",
     "output_type": "stream",
     "text": [
      "x cannot be evenly divisible by any number between 2 and x-1\n",
      "True\n"
     ]
    }
   ],
   "source": [
    "def is_prime(x):\n",
    "    \"\"\"Given a number x, return True if it is prime, or False otherwise. \n",
    "    \"\"\"\n",
    "    for y in range(2, x // 2+1):\n",
    "        print (\"in this step, y is \" + str(y))\n",
    "        if x % y ==  0: # x is evenly divisible by a number y \n",
    "            return False \n",
    "    print (\"x cannot be evenly divisible by any number between 2 and x-1\")\n",
    "    return True \n",
    "\n",
    "print (is_prime(1))"
   ]
  },
  {
   "cell_type": "code",
   "execution_count": 34,
   "metadata": {},
   "outputs": [
    {
     "name": "stdout",
     "output_type": "stream",
     "text": [
      "False\n"
     ]
    }
   ],
   "source": [
    "def is_common(x):\n",
    "    \"\"\"Given a number x, return True if it is NOT prime, and False if it is. \n",
    "    \"\"\"\n",
    "    \n",
    "    if x == 1:\n",
    "        return  \n",
    "    \n",
    "    for y in range(2, x // 2 + 1 ): \n",
    "        if x % y == 0:\n",
    "            return True\n",
    "        \n",
    "    return False \n",
    "\n",
    "print (is_common(1))"
   ]
  },
  {
   "cell_type": "code",
   "execution_count": 21,
   "metadata": {},
   "outputs": [
    {
     "name": "stdout",
     "output_type": "stream",
     "text": [
      "the 0 + 1 -th element is 4\n",
      "the 1 + 1 -th element is 5\n",
      "the 2 + 1 -th element is 6\n"
     ]
    }
   ],
   "source": [
    "# dot product \n",
    "# Given to lists, return the sum of element-wise product \n",
    "# The dot produc tof [1,2,3] and [4,5, 6] is 1x2 + 2x5 + 3 x6 = 30"
   ]
  },
  {
   "cell_type": "code",
   "execution_count": 38,
   "metadata": {},
   "outputs": [
    {
     "name": "stdout",
     "output_type": "stream",
     "text": [
      "-100\n"
     ]
    }
   ],
   "source": [
    "def letter2number(x):\n",
    "    if x == \"I\":\n",
    "        return 1\n",
    "    elif x is \"V\":\n",
    "        return 5\n",
    "    elif x is \"X\" :\n",
    "        return 10\n",
    "    elif x is \"D\":\n",
    "        return 500\n",
    "    elif x is \"C\" :\n",
    "        return 100\n",
    "    elif x is \"M\":\n",
    "        return 1000 \n",
    "    else:\n",
    "        return 0 \n",
    "\n",
    "def roman2arab(X):\n",
    "    \"\"\"Convert a string in Roman numericals to arabic numbers, \n",
    "    e.g., \"MCMXVI\" to 1916 1000 + (1000-100) + 10 + 5 + 1 \n",
    "    \n",
    "    input:\n",
    "        x: string, consisting of M (1000), C (100), D (500), X (10), V (5) and I (1) only\n",
    "        \n",
    "    output:\n",
    "        y: an integer \n",
    "\n",
    "    6 -> VI (5 + 1 )\n",
    "    4 -> IV (5 - I) \n",
    "    12 -> XII\n",
    "\n",
    "\n",
    "    \"\"\"\n",
    "    total, hold = 0, 0 \n",
    "    for character in X: # scan X, let each position be character \n",
    "        current_number = letter2number(character)\n",
    "        if hold < current_number:\n",
    "            sign = -1 \n",
    "        else:\n",
    "            sign = 1 \n",
    "\n",
    "        total += sign * hold  # \n",
    "        hold = current_number \n",
    "        \n",
    "    return total \n",
    "    \n",
    "print (roman2arab(\"CD\"))"
   ]
  },
  {
   "cell_type": "code",
   "execution_count": null,
   "metadata": {},
   "outputs": [],
   "source": []
  }
 ],
 "metadata": {
  "kernelspec": {
   "display_name": "Python 3",
   "language": "python",
   "name": "python3"
  },
  "language_info": {
   "codemirror_mode": {
    "name": "ipython",
    "version": 3
   },
   "file_extension": ".py",
   "mimetype": "text/x-python",
   "name": "python",
   "nbconvert_exporter": "python",
   "pygments_lexer": "ipython3",
   "version": "3.6.7"
  }
 },
 "nbformat": 4,
 "nbformat_minor": 2
}
