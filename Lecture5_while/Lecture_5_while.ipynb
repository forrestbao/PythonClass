{
 "cells": [
  {
   "cell_type": "markdown",
   "metadata": {},
   "source": [
    "# While-loops\n",
    "\n",
    "Until the day when God will deign to\n",
    "reveal the future to man, all human\n",
    "wisdom is contained in these two words,\n",
    "\n",
    "        –“Wait and hope.”\n",
    "\n",
    "– The Count of Monte Cristo\n",
    "\n",
    "Structures we have seen so far:\n",
    "1. Linear/sequential: all expressions, assignment statement, function definitions\n",
    "2. Conditional/branch: if-statements, else-statements, elif-statements. \n",
    "3. For-loops: repeat over a sequence of data\n",
    "\n",
    "Now we will see a new kind of structure: while-loops. Together with for-loops, they form the **loop structures**. \n",
    "\n",
    "# 1. For-loops are not sufficient \n",
    "For-loops allow us to repeat over a sequence data, or a finite number of iterations. But many times, we cannot control how many times to repeat, or over what sequence to repeat. Some examples:\n",
    "\n",
    "1. Keep asking the user for password until the entry is correct\n",
    "2. Keep applying the brake until the car stops (in an autonomous driving setting)\n",
    "3. Keep transmitting the signal until an acknowledgement (in a computer networking setting). \n",
    "4. A credit card holder owes the bank 500 dollars. The interest rate is 5 percent per month. If s/he pays 50 dollars to the bank each month, how long will it for him/her to pay it off? \n",
    "\n",
    "Therefore, we need another structure to help us do more with programming. \n",
    "\n",
    "# 2. The While-loops\n",
    "\n",
    "A while-loop expresses a simple idea: repeating something as long as a condition holds. In other words, the repetition ends when the condition is first violated. Let's see a simple example: "
   ]
  },
  {
   "cell_type": "code",
   "execution_count": 2,
   "metadata": {},
   "outputs": [
    {
     "name": "stdout",
     "output_type": "stream",
     "text": [
      "5\n"
     ]
    }
   ],
   "source": [
    "x = 1 \n",
    "while x<5:\n",
    "    x = x + 1 \n",
    "print (x)"
   ]
  },
  {
   "cell_type": "markdown",
   "metadata": {},
   "source": [
    "The code above, if translated into English, says: \n",
    "As long as (while) x is less than 5, increase it by 1, again and again. \n",
    "\n",
    "The syntax of a while-loop is as follows: \n",
    "\n",
    "```\n",
    "while CONDITION:\n",
    "  BODY_TO_REPEAT\n",
    "```\n",
    "\n",
    "1. The CONDITION must be a Boolean expression, including the Boolean return of a function call. \n",
    "2. Like in for-loops, the code to repeat of a while-loop needs to be indented to clearly tell the computer. The next line that restores the indentation level, is the end of the while-loop. \n",
    "\n",
    "\n",
    "\n",
    "Below is another example (no need to understand the implementation of the `wakeup_call` function, line 28, nor line 31) that the computer will keep beeping until the `Enter`/`Return` key is pressed. (Run it as a standalone script not inside a Jyputer/iPython Notebook. ) "
   ]
  },
  {
   "cell_type": "code",
   "execution_count": null,
   "metadata": {
    "scrolled": true
   },
   "outputs": [],
   "source": [
    "def wakeup_call(x):\n",
    "    import numpy as np\n",
    "    import simpleaudio as sa\n",
    "\n",
    "    frequency = 440  # Our played note will be 440 Hz\n",
    "    fs = 44100  # 44100 samples per second\n",
    "    seconds = x\n",
    "\n",
    "    # Generate array with seconds*sample_rate steps, ranging between 0 and seconds\n",
    "    t = np.linspace(0, seconds, seconds * fs, False)\n",
    "\n",
    "    # Generate a 440 Hz sine wave\n",
    "    note = np.sin(frequency * t * 2 * np.pi)\n",
    "\n",
    "    # Ensure that highest value is in 16-bit range\n",
    "    audio = note * (2**15 - 1) / np.max(np.abs(note))\n",
    "    # Convert to 16-bit data\n",
    "    audio = audio.astype(np.int16)\n",
    "\n",
    "    # Start playback\n",
    "    play_obj = sa.play_buffer(audio, 1, 2, fs)\n",
    "\n",
    "    # Wait for playback to finish before exiting\n",
    "    play_obj.wait_done()\n",
    "\n",
    "# The code below is from \n",
    "# https://stackoverflow.com/questions/22391134/exiting-while-loop-by-pressing-enter-without-blocking-how-can-i-improve-this-me/22391379#22391379\n",
    "import os, select, sys\n",
    "while True:\n",
    "    wakeup_call(0.1) # short beep of 0.1 second \n",
    "    if sys.stdin in select.select([sys.stdin], [], [], 0)[0]:\n",
    "    # if Enter key is pressed         \n",
    "        break\n"
   ]
  },
  {
   "cell_type": "markdown",
   "metadata": {},
   "source": [
    "Discussion about the code above: \n",
    "1. What does `while True` mean? The while loop will repeat forever! \n",
    "2. What is the `break`? It quits the while-loop. (does not necessarily mean a return of a function -- the while-loop may not be in any function). \n",
    "\n",
    "Let's think about a more complicated problem. A credit card holder owes the bank 500 dollars. The interest rate is 5 percent per month. If s/he pays 50 dollars to the bank each month, how many months will it take to pay off? Assume that interest is on the part after monthly payment -- month 1 has no interest and month 2's interest is on the 450 dollars. "
   ]
  },
  {
   "cell_type": "code",
   "execution_count": 25,
   "metadata": {},
   "outputs": [
    {
     "name": "stdout",
     "output_type": "stream",
     "text": [
      "6\n"
     ]
    }
   ],
   "source": [
    "def payoff(principal, interest_rate, monthly_payment):\n",
    "    months = 0 \n",
    "    total = 0 \n",
    "    while principal > 0:\n",
    "        principal = principal - monthly_payment \n",
    "        principal = principal * (1+interest_rate)\n",
    "        months = months + 1 \n",
    "    return months\n",
    "\n",
    "m = payoff(500, 0.01, 100)\n",
    "print (m)"
   ]
  },
  {
   "cell_type": "markdown",
   "metadata": {},
   "source": [
    "Explanation: \n",
    "\n",
    "As long as the principal is positive, repeat the following:\n",
    "1. deduct monthly payment (line 4)\n",
    "2. add interest onto principal (line 5)\n",
    "3. increase month counter by 1 (line 6)\n",
    "\n",
    "\n",
    "Extension: \n",
    "1. Can we print the principal by the end of each month? \n",
    "2. And print it beautifully? \n",
    "3. How much does s/he end up paying to the bank? \n",
    "\n",
    "\n",
    "# 3. The worksheet for while-loops\n",
    "\n",
    "1. What do you wanna repeat? \n",
    "2. What's the condition to repeat? \n",
    "\n",
    "**Example 1**: Solving an equation using the [Newton's method](https://en.wikipedia.org/wiki/Newton's_method). \n",
    "\n",
    "In short, Newton's method to solve an equation $f(x)=0$ is repeating the process below until $\\frac{f(x)}{g(x)}$ is small enough: \n",
    "$$x = x - \\frac{f(x)}{g(x)}$$\n",
    "where $g(x)$ is the first derivative (commonly denoted as $f'(x)$ in calculus) of a function. If you don't know what a derivative is, just treat it as another function. \n",
    "\n",
    "For example, given $f(x) = x^2 - 612$ and its derivative $g(x) = 2x$,  find its root(s). \n",
    "\n",
    "**Note** that you need to manually enter $g(x)$ as an expression because Python doesn't do derivative automatically for you. \n",
    "\n",
    "**Note** In this class, the derivative will be provided. Calculus knowledge is not required. \n",
    "\n",
    "\n"
   ]
  },
  {
   "cell_type": "code",
   "execution_count": 2,
   "metadata": {},
   "outputs": [
    {
     "name": "stdout",
     "output_type": "stream",
     "text": [
      "53.06\n",
      "32.29705616283453\n",
      "25.623075806671743\n",
      "24.75389807542433\n",
      "24.738638460025687\n"
     ]
    }
   ],
   "source": [
    "def f(x):\n",
    "    return x**2 - 612\n",
    "\n",
    "def g(x):\n",
    "    return 2*x \n",
    "\n",
    "e = 0.001\n",
    "x = 100 # a abbitrarily picked starting point\n",
    "def abs(x):\n",
    "    if x < 0:\n",
    "        return -x\n",
    "    return x\n",
    "while abs ( f(x)/g(x) ) > e: \n",
    "    x  = x - f(x)/g(x)\n",
    "    print (x)"
   ]
  },
  {
   "cell_type": "markdown",
   "metadata": {},
   "source": [
    "**Example 2** Define a function that asks the user to enter a integer. Suppose the function has a hard-coded answer. If the user entry is exactly the answer, print \"Bingo\". Otherwise, keep asking but provide hint on whether the next guess should go higher or lower.  To collect user input, use `input` function."
   ]
  },
  {
   "cell_type": "code",
   "execution_count": 12,
   "metadata": {},
   "outputs": [
    {
     "name": "stdout",
     "output_type": "stream",
     "text": [
      "please enter a number1\n",
      "go higher\n",
      "please enter a number9\n",
      "go higher\n",
      "please enter a number10\n",
      "Bingo\n"
     ]
    }
   ],
   "source": [
    "def bingo():\n",
    "    ans = 10 \n",
    "    x = input(\"please enter a number\")\n",
    "    x = int(x)\n",
    "    while ans != x:\n",
    "        if x < ans:\n",
    "            print  (\"go higher\")\n",
    "        else: # note that ans == x case is already excluded in the loop\n",
    "            print (\"go lower\")\n",
    "        x = input(\"please enter a number\")\n",
    "        x = int(x)\n",
    "        \n",
    "        \n",
    "    print (\"Bingo\")\n",
    "\n",
    "bingo()"
   ]
  },
  {
   "cell_type": "markdown",
   "metadata": {},
   "source": [
    "**Example 4** How long it will take to half a 16-inch rod to 1 inch? "
   ]
  },
  {
   "cell_type": "code",
   "execution_count": 11,
   "metadata": {},
   "outputs": [
    {
     "name": "stdout",
     "output_type": "stream",
     "text": [
      "after the  1 th cut, the length is 8.0\n",
      "after the  2 th cut, the length is 4.0\n",
      "after the  3 th cut, the length is 2.0\n",
      "after the  4 th cut, the length is 1.0\n",
      "4\n"
     ]
    }
   ],
   "source": [
    "# variables \n",
    "# \n",
    "# h: the length of the rod \n",
    "# c: how many times the rod has been halved. \n",
    "#\n",
    "# idea: \n",
    "# as long as h is longer than 1 inch\n",
    "#      half the rod\n",
    "#      increase c by 1 \n",
    "# return c \n",
    "def atom(h):\n",
    "    h = 16\n",
    "    c = 0\n",
    "\n",
    "    while h> 1:\n",
    "        h = h/2\n",
    "        c = c+1 \n",
    "        print (\"after the \", c, \"th cut, the length is\", h)\n",
    "    return c \n",
    "\n",
    "print (atom(16))\n",
    "\n"
   ]
  },
  {
   "cell_type": "markdown",
   "metadata": {},
   "source": [
    "The Tic-tac-toe game \n",
    "\n",
    "\n"
   ]
  },
  {
   "cell_type": "markdown",
   "metadata": {},
   "source": [
    "**Example 5** # check whether a number is a common (not prime) number using a while-loop. Return True if the number is common. Return false, otherwise.\n"
   ]
  },
  {
   "cell_type": "code",
   "execution_count": 12,
   "metadata": {},
   "outputs": [
    {
     "name": "stdout",
     "output_type": "stream",
     "text": [
      "2\n",
      "3\n",
      "4\n",
      "5\n",
      "6\n",
      "7\n",
      "8\n",
      "False\n"
     ]
    }
   ],
   "source": [
    "def iscommon(x):\n",
    "#     for i in range(2, x-1):\n",
    "#         if x%i == 0 :\n",
    "#             return False\n",
    "#     return True \n",
    "    \n",
    "    i = 2 \n",
    "    while (i<x/2): \n",
    "        print (i)    \n",
    "        if x%i == 0 :\n",
    "            return True \n",
    "\n",
    "        i = i + 1\n",
    "    return False\n",
    "print (iscommon(17))"
   ]
  },
  {
   "cell_type": "markdown",
   "metadata": {},
   "source": [
    "**Example 6** Turn an integer into a string, i.e., implement the typtcasting function `str` in your own way. "
   ]
  },
  {
   "cell_type": "code",
   "execution_count": 4,
   "metadata": {},
   "outputs": [
    {
     "name": "stdout",
     "output_type": "stream",
     "text": [
      "True\n"
     ]
    }
   ],
   "source": [
    "# Turn an integer into a string \n",
    "# 12 =--> \"12\"\n",
    "\n",
    "def digit2char(a):\n",
    "    if a==1:\n",
    "        return '1'\n",
    "    elif a==2:\n",
    "        return '2'\n",
    "    elif a==3:\n",
    "        return '3'\n",
    "    elif a==4:\n",
    "        return '4'\n",
    "    elif a==5:\n",
    "        return '5'\n",
    "    elif a==6:\n",
    "        return '6'\n",
    "    elif a==7:\n",
    "        return '7'\n",
    "    elif a==8:\n",
    "        return '8'\n",
    "    elif a==9:\n",
    "        return '9'\n",
    "    elif a==0:\n",
    "        return '0'\n",
    "    \n",
    "\n",
    "def myint2str(a):\n",
    "    y = \"\"\n",
    "    while a > 0 :\n",
    "        b = a % 10\n",
    "        a = a // 10\n",
    "        y = digit2char(b) + y \n",
    "    return y\n",
    "\n",
    "# a = 637, y =\"\"\n",
    "# b   a   y \n",
    "# 7 63    \"7\"\n",
    "# 3   6    \"37\"\n",
    "# 6   0    \"637\"\n",
    "\n",
    "print(myint2str(278338) == \"278338\")"
   ]
  },
  {
   "cell_type": "markdown",
   "metadata": {},
   "source": [
    "**Example 7** Given an integer, return a list consists of all digits of it"
   ]
  },
  {
   "cell_type": "code",
   "execution_count": 4,
   "metadata": {},
   "outputs": [],
   "source": [
    "# 39 --> [3,9]\n",
    "# 642839 --> [6,4,2,8,3,9]\n",
    "# 642839 % 10 == 9 \n",
    "#    642839 // 10  --> 64283\n",
    "# 64283 % 10 == 3 \n",
    "# 6428 % 10 == 8 \n",
    "# ...\n",
    "def integer2list(a): \n",
    "    x = []\n",
    "    while a > 0 :\n",
    "        b = a % 10\n",
    "        a = a // 10\n",
    "        x.append(b)\n",
    "    return x[::-1]\n",
    "\n",
    "# a=637, x= [] \n",
    "# b   a   x\n",
    "# 7   63  [7]\n",
    "# 3   6   [7,3]\n",
    "# 6   0   [7,3,6]\n"
   ]
  },
  {
   "cell_type": "markdown",
   "metadata": {},
   "source": [
    "**Example 8** Turn a floating-point number into a list of all digits. Study the example below with and without the line `L=approxfloat(L)` and compare the different results. "
   ]
  },
  {
   "cell_type": "code",
   "execution_count": 57,
   "metadata": {},
   "outputs": [
    {
     "name": "stdout",
     "output_type": "stream",
     "text": [
      "6371549999999999\n",
      "1\n",
      "9354943238328002\n",
      "31415000000000004\n",
      "31415926\n",
      "31415926500000004\n",
      "31415926519999996\n",
      "8593546899999999\n"
     ]
    }
   ],
   "source": [
    "def float2list(a):\n",
    "    while a % 1 != 0:\n",
    "        a = a*10\n",
    "#         print (a)\n",
    "    return integer2list(a)\n",
    "\n",
    "def approxfloat(L):\n",
    "    \"\"\"Given a list of digits of the fraction part of a floating point number, find an approximation of it\n",
    "    \"\"\"\n",
    "    zerocount, ninecount = 0, 0 \n",
    "    for i in range(len(L)):\n",
    "        if L[-i] == 0 :\n",
    "            zerocount += 1 \n",
    "        elif L[-i] == 9:\n",
    "            ninecount += 1\n",
    "        else:\n",
    "            if i>zerocount>ninecount and zerocount>1:\n",
    "#                 print (i)\n",
    "                if L[-(i-1)] == 9:\n",
    "                    L = L[:-(i-2)]                    \n",
    "                else:\n",
    "                    L = L[:-(i-1)]\n",
    "                break \n",
    "            elif i>ninecount>zerocount and ninecount>1:\n",
    "#                 print (i, L)\n",
    "                L[-i]+=1\n",
    "                L = L[:-(i-1)]\n",
    "#                 print (L)\n",
    "                break \n",
    "                \n",
    "    return L        \n",
    "\n",
    "def float2str(a):\n",
    "    L = float2list(a)\n",
    "#     print (L)\n",
    "#    L = approxfloat(L)\n",
    "    S = \"\"\n",
    "    for l in L:\n",
    "        S += digit2char(l)\n",
    "    return S\n",
    "\n",
    "print (float2str(637.155))\n",
    "print (float2str(0.01))\n",
    "print (float2str(9354943.238328000))\n",
    "print (float2str(3.1415))\n",
    "print (float2str(3.14159265))\n",
    "print (float2str(3.141592652))\n",
    "print (float2str(85935.469))\n",
    "\n",
    "# Last thing: add the decimal point "
   ]
  },
  {
   "cell_type": "code",
   "execution_count": null,
   "metadata": {},
   "outputs": [],
   "source": []
  },
  {
   "cell_type": "code",
   "execution_count": 36,
   "metadata": {},
   "outputs": [
    {
     "name": "stdout",
     "output_type": "stream",
     "text": [
      "0 6\n",
      "1 5\n",
      "2 4\n",
      "3 3\n",
      "4 2\n",
      "5 1\n",
      "6 0\n",
      "None\n"
     ]
    }
   ],
   "source": [
    "def cut9(L):\n",
    "# L is a list of integers between 0 and 9. \n",
    "# We want to truncate all consecutive 9's at the end\n",
    "# L = [6,7,8,9,9,9,9,9]\n",
    "# new L = [6,7,9]\n",
    "# L = [6,7,8,9,9,4,9,9,9]\n",
    "# new L = [6,7,9,9,5]\n",
    "\n",
    "    for i in range(len(L)):\n",
    "        j = len(L)-1 -i \n",
    "#         print (i, j)\n",
    "        if L[j] != 9:\n",
    "            L[j] = L[j]+1\n",
    "            break\n",
    "    return L[:j+1]\n",
    "# 6 6 6 6 6 6 6\n",
    "# 0 1 2 3 4 5 6 \n",
    "# 6 5 4 3 2 1 0\n",
    "print (cut9([6,7,8,9,9,9,9]))"
   ]
  },
  {
   "cell_type": "markdown",
   "metadata": {},
   "source": [
    "For more details on floating-point approximation in the computer, see [https://docs.python.org/3/tutorial/floatingpoint.html]\n",
    "\n",
    "# 4. `break` and `continue`\n",
    "\n",
    "* `break` means to terminate the loop \n",
    "* `continue` means to terminate the current iteration of the loop\n",
    "\n",
    "In the example below, try to comment out the lines containing `break` and `continue`, execute and compare the change. "
   ]
  },
  {
   "cell_type": "code",
   "execution_count": null,
   "metadata": {},
   "outputs": [],
   "source": [
    "def isprime(x):\n",
    "    for i in range(2,x):\n",
    "        if x%i ==0:\n",
    "            return False\n",
    "    return True \n",
    "\n",
    "def primesunder1(b):\n",
    "# Find the first prime number under b, \n",
    "# and stop the loop.\n",
    "    for i in range(2, b):\n",
    "        if isprime(i):\n",
    "            print (i)\n",
    "            break\n",
    "\n",
    "def primesunder2(b):\n",
    "#     L = []\n",
    "    for i in range(2, b):\n",
    "        if isprime(i):\n",
    "#             L.append(i)\n",
    "            print (i)\n",
    "            continue \n",
    "            print (i)\n",
    "            \n",
    "primesunder1(20)\n",
    "print(\"=====\")\n",
    "primesunder2(20)"
   ]
  },
  {
   "cell_type": "markdown",
   "metadata": {},
   "source": [
    "**example** define a function `ishappy` that checks whether a given integer is a [happy number](https://leetcode.com/problems/happy-number/). "
   ]
  },
  {
   "cell_type": "code",
   "execution_count": 6,
   "metadata": {},
   "outputs": [
    {
     "name": "stdout",
     "output_type": "stream",
     "text": [
      "4\n",
      "16\n",
      "37\n",
      "58\n",
      "89\n",
      "145\n",
      "42\n",
      "20\n",
      "False\n"
     ]
    }
   ],
   "source": [
    "# What functions/modules/components are needed?\n",
    "# integer4list, e.g., 19 --> [1,9]\n",
    "# sq4list, e.g., [1,9] --> 82\n",
    "# dejavu(visited, x), \n",
    "#         e.g.,dejavu([1,2], 3)  --> F, [1,2,3]\n",
    "#              dejavu([1,2,3], 1)  --> T, [1,2,3]               \n",
    "def sq4list(L):\n",
    "    total = 0 \n",
    "    for i in L:\n",
    "        total = total + i**2 \n",
    "    return total \n",
    "\n",
    "def ishappy(X):\n",
    "    visited = []\n",
    "    while True:\n",
    "        Y = integer2list(X)\n",
    "        X = sq4list(Y)\n",
    "        if X == 1 :\n",
    "            return True \n",
    "        else:\n",
    "            isvisited, visited = dejavu(visited, X)\n",
    "            if isvisited:\n",
    "                return False \n",
    "            print (X)\n",
    "\n",
    "def dejavu(L,x):\n",
    "    for i in L:\n",
    "        if i == x :\n",
    "            return True, L\n",
    "    L.append(x)\n",
    "    return False, L\n",
    "            \n",
    "# print (dejavu([1,2], 3))\n",
    "print (ishappy(20))"
   ]
  },
  {
   "cell_type": "code",
   "execution_count": 47,
   "metadata": {},
   "outputs": [
    {
     "name": "stdout",
     "output_type": "stream",
     "text": [
      "2\n",
      "=====\n",
      "2\n",
      "3\n",
      "5\n",
      "7\n",
      "11\n",
      "13\n",
      "17\n",
      "19\n"
     ]
    }
   ],
   "source": []
  }
 ],
 "metadata": {
  "kernelspec": {
   "display_name": "Python 3",
   "language": "python",
   "name": "python3"
  },
  "language_info": {
   "codemirror_mode": {
    "name": "ipython",
    "version": 3
   },
   "file_extension": ".py",
   "mimetype": "text/x-python",
   "name": "python",
   "nbconvert_exporter": "python",
   "pygments_lexer": "ipython3",
   "version": "3.6.8"
  }
 },
 "nbformat": 4,
 "nbformat_minor": 2
}
