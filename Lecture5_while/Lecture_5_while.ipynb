{
 "cells": [
  {
   "cell_type": "markdown",
   "metadata": {},
   "source": [
    "# While-loops\n",
    "\n",
    "Until the day when God will deign to\n",
    "reveal the future to man, all human\n",
    "wisdom is contained in these two words,\n",
    "\n",
    "        –“Wait and hope.”\n",
    "\n",
    "– The Count of Monte Cristo\n",
    "\n",
    "Structures we have seen so far:\n",
    "1. Linear/sequential: all expressions, assignment statement, function definitions\n",
    "2. Conditional/branch: if-statements, else-statements, elif-statements. \n",
    "3. For-loops: repeat over a sequence of data\n",
    "\n",
    "Now we will see a new kind of structure: while-loops. Together with for-loops, they form the **loop structures**. \n",
    "\n",
    "# 1. For-loops are not sufficient \n",
    "For-loops allow us to repeat over a sequence data, or a finite number of iterations. But many times, we cannot control how many times to repeat, or over what sequence to repeat. Some examples:\n",
    "\n",
    "1. Keep asking the user for password until the entry is correct\n",
    "2. Keep applying the brake until the car stops (in an autonomous driving setting)\n",
    "3. Keep transmitting the signal until an acknowledgement (in a computer networking setting). \n",
    "4. A credit card holder owes the bank 500 dollars. The interest rate is 5 percent per month. If s/he pays 50 dollars to the bank each month, how long will it for him/her to pay it off? \n",
    "\n",
    "Therefore, we need another structure to help us do more with programming. \n",
    "\n",
    "# 2. The While-loops\n",
    "\n",
    "A while-loop expresses a simple idea: repeating something as long as a condition holds. In other words, the repetition ends when the condition is first violated. Let's see a simple example: "
   ]
  },
  {
   "cell_type": "code",
   "execution_count": 2,
   "metadata": {},
   "outputs": [
    {
     "name": "stdout",
     "output_type": "stream",
     "text": [
      "5\n"
     ]
    }
   ],
   "source": [
    "x = 1 \n",
    "while x<5:\n",
    "    x = x + 1 \n",
    "print (x)"
   ]
  },
  {
   "cell_type": "markdown",
   "metadata": {},
   "source": [
    "The code above, if translated into English, says: \n",
    "As long as (while) x is less than 5, increase it by 1, again and again. \n",
    "\n",
    "The syntax of a while-loop is as follows: \n",
    "\n",
    "```\n",
    "while CONDITION:\n",
    "  BODY_TO_REPEAT\n",
    "```\n",
    "\n",
    "1. The CONDITION must be a Boolean expression, including the Boolean return of a function call. \n",
    "2. Like in for-loops, the code to repeat of a while-loop needs to be indented to clearly tell the computer. The next line that restores the indentation level, is the end of the while-loop. \n",
    "\n",
    "\n",
    "\n",
    "Below is another example (no need to understand the implementation of the `wakeup_call` function, line 28, nor line 31) that the computer will keep beeping until the `Enter`/`Return` key is pressed. (Run it as a standalone script not inside a Jyputer/iPython Notebook. ) "
   ]
  },
  {
   "cell_type": "code",
   "execution_count": null,
   "metadata": {
    "scrolled": true
   },
   "outputs": [],
   "source": [
    "def wakeup_call(x):\n",
    "    import numpy as np\n",
    "    import simpleaudio as sa\n",
    "\n",
    "    frequency = 440  # Our played note will be 440 Hz\n",
    "    fs = 44100  # 44100 samples per second\n",
    "    seconds = x\n",
    "\n",
    "    # Generate array with seconds*sample_rate steps, ranging between 0 and seconds\n",
    "    t = np.linspace(0, seconds, seconds * fs, False)\n",
    "\n",
    "    # Generate a 440 Hz sine wave\n",
    "    note = np.sin(frequency * t * 2 * np.pi)\n",
    "\n",
    "    # Ensure that highest value is in 16-bit range\n",
    "    audio = note * (2**15 - 1) / np.max(np.abs(note))\n",
    "    # Convert to 16-bit data\n",
    "    audio = audio.astype(np.int16)\n",
    "\n",
    "    # Start playback\n",
    "    play_obj = sa.play_buffer(audio, 1, 2, fs)\n",
    "\n",
    "    # Wait for playback to finish before exiting\n",
    "    play_obj.wait_done()\n",
    "\n",
    "# The code below is from \n",
    "# https://stackoverflow.com/questions/22391134/exiting-while-loop-by-pressing-enter-without-blocking-how-can-i-improve-this-me/22391379#22391379\n",
    "import os, select, sys\n",
    "while True:\n",
    "    wakeup_call(0.1) # short beep of 0.1 second \n",
    "    if sys.stdin in select.select([sys.stdin], [], [], 0)[0]:\n",
    "    # if Enter key is pressed         \n",
    "        break\n"
   ]
  },
  {
   "cell_type": "markdown",
   "metadata": {},
   "source": [
    "Discussion about the code above: \n",
    "1. What does `while True` mean? The while loop will repeat forever! \n",
    "2. What is the `break`? It quits the while-loop. (does not necessarily mean a return of a function -- the while-loop may not be in any function). \n",
    "\n",
    "Let's think about a more complicated problem. A credit card holder owes the bank 500 dollars. The interest rate is 5 percent per month. If s/he pays 50 dollars to the bank each month, how many months will it take to pay off? Assume that interest is on the part after monthly payment -- month 1 has no interest and month 2's interest is on the 450 dollars. "
   ]
  },
  {
   "cell_type": "code",
   "execution_count": 25,
   "metadata": {},
   "outputs": [
    {
     "name": "stdout",
     "output_type": "stream",
     "text": [
      "6\n"
     ]
    }
   ],
   "source": [
    "def payoff(principal, interest_rate, monthly_payment):\n",
    "    months = 0 \n",
    "    total = 0 \n",
    "    while principal > 0:\n",
    "        principal = principal - monthly_payment \n",
    "        principal = principal * (1+interest_rate)\n",
    "        months = months + 1 \n",
    "    return months\n",
    "\n",
    "m = payoff(500, 0.01, 100)\n",
    "print (m)"
   ]
  },
  {
   "cell_type": "markdown",
   "metadata": {},
   "source": [
    "Explanation: \n",
    "\n",
    "As long as the principal is positive, repeat the following:\n",
    "1. deduct monthly payment (line 4)\n",
    "2. add interest onto principal (line 5)\n",
    "3. increase month counter by 1 (line 6)\n",
    "\n",
    "\n",
    "Extension: \n",
    "1. Can we print the principal by the end of each month? \n",
    "2. And print it beautifully? \n",
    "3. How much does s/he end up paying to the bank? \n",
    "\n",
    "\n",
    "# 3. The worksheet for while-loops\n",
    "\n",
    "1. What do you wanna repeat? \n",
    "2. What's the condition to repeat? \n",
    "\n",
    "Try another example: Solving an equation using the [Newton's method](https://en.wikipedia.org/wiki/Newton's_method). \n",
    "\n",
    "In short, Newton's method to solve an equation $f(x)=0$ is repeating the process below until $\\frac{f(x)}{f'(x)}$ is small enough: \n",
    "$$x = x - \\frac{f(x)}{f'(x)}$$\n",
    "where $f'(x)$ means the first derivative of a function. \n",
    "\n",
    "For example, let $f(x) = x^2 - 612$, it is known that $f'(x) = 2x$ find it's root(s). \n",
    "**Note** that you need to manually enter $f'(x)$ as an expression because Python doesn't do derivative automatically for you. \n",
    "\n",
    "\n"
   ]
  },
  {
   "cell_type": "code",
   "execution_count": 32,
   "metadata": {},
   "outputs": [
    {
     "name": "stdout",
     "output_type": "stream",
     "text": [
      "306.5\n",
      "154.2483686786297\n",
      "79.10799786435472\n",
      "43.42212868215148\n",
      "28.758162428779126\n",
      "25.019538536995714\n",
      "24.74021067122501\n",
      "24.738633803961573\n",
      "24.738633753705965\n"
     ]
    }
   ],
   "source": [
    "epsilon = 0.00000000000001\n",
    "x=1 # a abbitrarily picked starting point\n",
    "def abs(x):\n",
    "    if x < 0:\n",
    "        return -x\n",
    "    return x\n",
    "while abs ( (x**2-612)/(2*x) ) > epsilon: \n",
    "    x  = x - (x**2-612)/(2*x)\n",
    "    print (x)"
   ]
  },
  {
   "cell_type": "code",
   "execution_count": null,
   "metadata": {},
   "outputs": [],
   "source": []
  },
  {
   "cell_type": "code",
   "execution_count": null,
   "metadata": {},
   "outputs": [],
   "source": []
  }
 ],
 "metadata": {
  "kernelspec": {
   "display_name": "Python 3",
   "language": "python",
   "name": "python3"
  },
  "language_info": {
   "codemirror_mode": {
    "name": "ipython",
    "version": 3
   },
   "file_extension": ".py",
   "mimetype": "text/x-python",
   "name": "python",
   "nbconvert_exporter": "python",
   "pygments_lexer": "ipython3",
   "version": "3.6.7"
  }
 },
 "nbformat": 4,
 "nbformat_minor": 2
}
