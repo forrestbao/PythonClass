{
 "cells": [
  {
   "cell_type": "markdown",
   "metadata": {},
   "source": [
    "# Recursion \n",
    "\n",
    "What will happen when executing the code below? \n",
    "\n"
   ]
  },
  {
   "cell_type": "code",
   "execution_count": null,
   "metadata": {},
   "outputs": [],
   "source": [
    "def r():\n",
    "    print (\"recursion \")\n",
    "    r()\n",
    "    \n",
    "r() "
   ]
  },
  {
   "cell_type": "code",
   "execution_count": null,
   "metadata": {},
   "outputs": [],
   "source": [
    "def q(n):\n",
    "    \"\"\"n is  a positve integer\n",
    "    \"\"\"\n",
    "    print (n)\n",
    "    q(n-1)\n",
    "    \n",
    "q(10)"
   ]
  },
  {
   "cell_type": "code",
   "execution_count": 10,
   "metadata": {},
   "outputs": [
    {
     "name": "stdout",
     "output_type": "stream",
     "text": [
      "[1, 2, 3, 4, 5, 6]\n",
      "[2, 3, 4, 5, 6]\n",
      "[3, 4, 5, 6]\n",
      "[4, 5, 6]\n",
      "[5, 6]\n",
      "[6]\n",
      "[]\n",
      "21\n"
     ]
    }
   ],
   "source": [
    "def q(L):\n",
    "    \"\"\"L is a list of numbers\n",
    "    q(L) returns the sum of all elements in L \n",
    "    \"\"\"\n",
    "    print (L)\n",
    "    if L== []: # base \n",
    "        return 0 \n",
    "    return L[0] + q(L[1:])\n",
    "print (q([1,2,3,4,5,6]))"
   ]
  },
  {
   "cell_type": "code",
   "execution_count": 8,
   "metadata": {},
   "outputs": [
    {
     "name": "stdout",
     "output_type": "stream",
     "text": [
      "[1, 2]\n",
      "[2]\n",
      "[]\n",
      "[]\n",
      "[2]\n",
      "[]\n",
      "[]\n",
      "0\n"
     ]
    }
   ],
   "source": [
    "def q2(L):\n",
    "    \"\"\"L is a list of numbers    \"\"\"\n",
    "    print (L)\n",
    "    if L== []:\n",
    "        return 0 \n",
    "    return q2(L[1:]) + q2(L[1:])\n",
    "print (q2([1,2]))"
   ]
  },
  {
   "cell_type": "code",
   "execution_count": 16,
   "metadata": {},
   "outputs": [
    {
     "name": "stdout",
     "output_type": "stream",
     "text": [
      "144\n"
     ]
    },
    {
     "data": {
      "text/plain": [
       "'\\nf(4) = f(3) +f(2)\\n     = f(2) +f(1)    + f(2)\\n     = f(1) + f(0)  +f(1)  + f(2)\\n     = 1 + f(0) +f(1)    + f(2)\\n     = 1 + 0  +f(1)  + f(2)\\n     = 1 + 0  + 1  + f(1)   + f (0)     \\n     = 1 + 0  + 1  + 1   + f (0)     \\n     = 1 + 0  + 1  + 1 + 0 \\n     = 3\\n\\n\\n'"
      ]
     },
     "execution_count": 16,
     "metadata": {},
     "output_type": "execute_result"
    }
   ],
   "source": [
    "\"\"\"\n",
    "1st Fibonacci number is 0 \n",
    "2nd Fibonacci number is 1\n",
    "i-th Fibonacci number is (i-1)-th Fibonacci number + (i-2)-th Fibonacci number\n",
    "\n",
    "fibonacci(i) = fibonacci(i-1) + fibonacci(i-2)\n",
    "\n",
    "3rd: 1\n",
    "4th: 2\n",
    "5th: 3\n",
    "6th: 5\n",
    "7th: 8\n",
    "\n",
    "\"\"\"\n",
    "\n",
    "\n",
    "def fibonacci(n):\n",
    "    \"\"\"Return the n-th fibonacci number\n",
    "    \"\"\"\n",
    "    if n == 0:\n",
    "        return 0\n",
    "    if n == 1:\n",
    "        return 1\n",
    "    return  fibonacci(n-1) + fibonacci(n-2)\n",
    "\n",
    "print (fibonacci(12))\n",
    "\n",
    "\"\"\"\n",
    "f(4) = f(3)  + f(2)\n",
    "     = f(2)   + f(1)    + f(2)\n",
    "     = f(1) + f(0)  +f(1)  + f(2)\n",
    "     = 1 + f(0) +f(1)    + f(2)\n",
    "     = 1 + 0  +f(1)  + f(2)\n",
    "     = 1 + 0  + 1  + f(1)   + f (0)     \n",
    "     = 1 + 0  + 1  + 1   + f (0)     \n",
    "     = 1 + 0  + 1  + 1 + 0 \n",
    "     = 3\n",
    "\n",
    "\n",
    "\"\"\""
   ]
  },
  {
   "cell_type": "code",
   "execution_count": 12,
   "metadata": {},
   "outputs": [
    {
     "name": "stdout",
     "output_type": "stream",
     "text": [
      "[4, 5, 6]\n"
     ]
    },
    {
     "data": {
      "text/plain": [
       "True"
      ]
     },
     "execution_count": 12,
     "metadata": {},
     "output_type": "execute_result"
    }
   ],
   "source": [
    "# check whether a list contains a number. if so return True. O/w, false\n",
    "\n",
    "# [1,7,32,7,2,5,6,43] , 10  -> false \n",
    "# [1,7,32,7,2,5,6,43] , 7  -> True \n",
    "# is 7 in [43] ?  7 == L[0] --> false \n",
    "# is 7 in [6, 43] ? 7 == 6 or (whether 7 is in [43])? \n",
    "# is 7 in [5, 6, 43] ? 7 == 5 or (whether 7 is in [6, 43])? \n",
    "\n",
    "\n",
    "def membercheck(L, n):\n",
    "    for l in L:\n",
    "        if l == n :\n",
    "            return True \n",
    "    return False \n",
    "\n",
    "\n",
    "def membercheck2(L, n):\n",
    "    \"\"\"\n",
    "    the existence of n in L depends on whether\n",
    "    n is the same as L[0] or n is in the rest of L (i.e., L[1:]) \n",
    "    \"\"\"\n",
    "    if len(L) == 0 :\n",
    "         return False \n",
    "    print (L)  # why do we have this line here? \n",
    "    return  n == L[0] or membercheck2(L[1:], n)\n",
    "\n",
    "membercheck2([4,5,6], 4)\n",
    "# 60 == 4 or 60 in [5,6]\n",
    "# 60 == 5 or 60 in [6]\n",
    "# 60 == 6 or 60 in []"
   ]
  },
  {
   "cell_type": "code",
   "execution_count": null,
   "metadata": {},
   "outputs": [],
   "source": []
  },
  {
   "cell_type": "code",
   "execution_count": 15,
   "metadata": {},
   "outputs": [
    {
     "name": "stdout",
     "output_type": "stream",
     "text": [
      "110\n"
     ]
    }
   ],
   "source": [
    "# Find the maxinum number in a given list, in the recursive way \n",
    "\n",
    "\n",
    "def cymax(L):\n",
    "    tmp = L[0]\n",
    "    for l in L:\n",
    "        if l > tmp:\n",
    "            tmp = l\n",
    "    return tmp \n",
    "\n",
    "\n",
    "def cymax2(L):\n",
    "    \"\"\"\n",
    "    Inductive step: \n",
    "    The max of L is the larger among L[0] and the maxinum of L[1:]\n",
    "    \n",
    "    max of [6,7,8,9] -> the larger between 6 and the maxinum of [7,8,9]\n",
    "    max of [7,8,9] -> the larger between 7 and the maxinum of [8,9]\n",
    "    max of [8,9] -> the larger between 8 and the maxinum of [9]\n",
    "    max of [9] -> just the sole element \n",
    "    \n",
    "    \"\"\"\n",
    "    if len(L) == 1 :\n",
    "         return L[0]\n",
    "    tmp = cymax2(L[1:])\n",
    "    if L[0] > tmp:\n",
    "        return L[0]\n",
    "    else:\n",
    "        return tmp \n",
    "\n",
    "def findmax(L):\n",
    "    if len(L) == 0:\n",
    "        return 0 \n",
    "    \n",
    "    \n",
    "print(cymax2([10,7,110,9]))"
   ]
  },
  {
   "cell_type": "code",
   "execution_count": 17,
   "metadata": {},
   "outputs": [
    {
     "name": "stdout",
     "output_type": "stream",
     "text": [
      "what is your password? swetyu\n",
      "what is your password? dfghj\n",
      "what is your password? frhj\n",
      "what is your password? 123456\n"
     ]
    }
   ],
   "source": [
    "# ask the user for a string (password),\n",
    "# if correct, print \"cool\" in the screen \n",
    "# o/w, keep asking, forever. \n",
    "\n",
    "def askpswd():\n",
    "    tmp = input(\"what is your password? \")\n",
    "    pswd = \"123456\"\n",
    "    while tmp!= pswd:\n",
    "            tmp = input(\"what is your password? \")\n",
    "            \n",
    "def askpswd2():\n",
    "    \"\"\"\n",
    "    inductive step: if pswd incorrect, call askpswd2() again\n",
    "                    else: return with anything \n",
    "    \n",
    "    \"\"\"\n",
    "    pswd = \"123456\"\n",
    "    tmp = input(\"what is your password? \")\n",
    "    if pswd != tmp:\n",
    "        askpswd2()\n",
    "\n",
    "askpswd2()"
   ]
  },
  {
   "cell_type": "code",
   "execution_count": null,
   "metadata": {},
   "outputs": [],
   "source": [
    "# Check whether a list is in order "
   ]
  },
  {
   "cell_type": "code",
   "execution_count": null,
   "metadata": {},
   "outputs": [],
   "source": []
  },
  {
   "cell_type": "code",
   "execution_count": null,
   "metadata": {},
   "outputs": [],
   "source": []
  }
 ],
 "metadata": {
  "kernelspec": {
   "display_name": "Python 3",
   "language": "python",
   "name": "python3"
  },
  "language_info": {
   "codemirror_mode": {
    "name": "ipython",
    "version": 3
   },
   "file_extension": ".py",
   "mimetype": "text/x-python",
   "name": "python",
   "nbconvert_exporter": "python",
   "pygments_lexer": "ipython3",
   "version": "3.6.8"
  }
 },
 "nbformat": 4,
 "nbformat_minor": 2
}
