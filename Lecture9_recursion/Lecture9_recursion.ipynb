{
 "cells": [
  {
   "cell_type": "markdown",
   "metadata": {},
   "source": [
    "# Recursion \n",
    "\n",
    "What will happen when executing the code below? \n",
    "\n"
   ]
  },
  {
   "cell_type": "code",
   "execution_count": null,
   "metadata": {},
   "outputs": [],
   "source": [
    "def r():\n",
    "    print (\"recursion \")\n",
    "    r()\n",
    "    \n",
    "r() "
   ]
  },
  {
   "cell_type": "code",
   "execution_count": null,
   "metadata": {},
   "outputs": [],
   "source": [
    "def q(n):\n",
    "    \"\"\"n is  a positve integer\n",
    "    \"\"\"\n",
    "    print (n)\n",
    "    q(n-1)\n",
    "    \n",
    "q(10)"
   ]
  },
  {
   "cell_type": "code",
   "execution_count": 10,
   "metadata": {},
   "outputs": [
    {
     "name": "stdout",
     "output_type": "stream",
     "text": [
      "[1, 2, 3, 4, 5, 6]\n",
      "[2, 3, 4, 5, 6]\n",
      "[3, 4, 5, 6]\n",
      "[4, 5, 6]\n",
      "[5, 6]\n",
      "[6]\n",
      "[]\n",
      "21\n"
     ]
    }
   ],
   "source": [
    "def q(L):\n",
    "    \"\"\"L is a list of numbers\n",
    "    q(L) returns the sum of all elements in L \n",
    "    \"\"\"\n",
    "    print (L)\n",
    "    if L== []:\n",
    "        return 0 \n",
    "    return L[0] + q(L[1:])\n",
    "print (q([1,2,3,4,5,6]))"
   ]
  },
  {
   "cell_type": "code",
   "execution_count": 8,
   "metadata": {},
   "outputs": [
    {
     "name": "stdout",
     "output_type": "stream",
     "text": [
      "[1, 2]\n",
      "[2]\n",
      "[]\n",
      "[]\n",
      "[2]\n",
      "[]\n",
      "[]\n",
      "0\n"
     ]
    }
   ],
   "source": [
    "def q2(L):\n",
    "    \"\"\"L is a list of numbers    \"\"\"\n",
    "    print (L)\n",
    "    if L== []:\n",
    "        return 0 \n",
    "    return q2(L[1:]) + q2(L[1:])\n",
    "print (q2([1,2]))"
   ]
  },
  {
   "cell_type": "code",
   "execution_count": 16,
   "metadata": {},
   "outputs": [
    {
     "name": "stdout",
     "output_type": "stream",
     "text": [
      "144\n"
     ]
    },
    {
     "data": {
      "text/plain": [
       "'\\nf(4) = f(3) +f(2)\\n     = f(2) +f(1)    + f(2)\\n     = f(1) + f(0)  +f(1)  + f(2)\\n     = 1 + f(0) +f(1)    + f(2)\\n     = 1 + 0  +f(1)  + f(2)\\n     = 1 + 0  + 1  + f(1)   + f (0)     \\n     = 1 + 0  + 1  + 1   + f (0)     \\n     = 1 + 0  + 1  + 1 + 0 \\n     = 3\\n\\n\\n'"
      ]
     },
     "execution_count": 16,
     "metadata": {},
     "output_type": "execute_result"
    }
   ],
   "source": [
    "\"\"\"\n",
    "1st Fibonacci number is 0 \n",
    "2nd Fibonacci number is 1\n",
    "i-th Fibonacci number is (i-1)-th Fibonacci number + (i-2)-th Fibonacci number\n",
    "\n",
    "fibonacci(i) = fibonacci(i-1) + fibonacci(i-2)\n",
    "\n",
    "3rd: 1\n",
    "4th: 2\n",
    "5th: 3\n",
    "6th: 5\n",
    "7th: 8\n",
    "\n",
    "\"\"\"\n",
    "\n",
    "\n",
    "def fibonacci(n):\n",
    "    \"\"\"Return the n-th fibonacci number\n",
    "    \"\"\"\n",
    "    if n == 0:\n",
    "        return 0\n",
    "    if n == 1:\n",
    "        return 1\n",
    "    return  fibonacci(n-1) + fibonacci(n-2)\n",
    "\n",
    "print (fibonacci(12))\n",
    "\n",
    "\"\"\"\n",
    "f(4) = f(3)  + f(2)\n",
    "     = f(2)   + f(1)    + f(2)\n",
    "     = f(1) + f(0)  +f(1)  + f(2)\n",
    "     = 1 + f(0) +f(1)    + f(2)\n",
    "     = 1 + 0  +f(1)  + f(2)\n",
    "     = 1 + 0  + 1  + f(1)   + f (0)     \n",
    "     = 1 + 0  + 1  + 1   + f (0)     \n",
    "     = 1 + 0  + 1  + 1 + 0 \n",
    "     = 3\n",
    "\n",
    "\n",
    "\"\"\""
   ]
  },
  {
   "cell_type": "code",
   "execution_count": null,
   "metadata": {},
   "outputs": [],
   "source": []
  }
 ],
 "metadata": {
  "kernelspec": {
   "display_name": "Python 3",
   "language": "python",
   "name": "python3"
  },
  "language_info": {
   "codemirror_mode": {
    "name": "ipython",
    "version": 3
   },
   "file_extension": ".py",
   "mimetype": "text/x-python",
   "name": "python",
   "nbconvert_exporter": "python",
   "pygments_lexer": "ipython3",
   "version": "3.6.8"
  }
 },
 "nbformat": 4,
 "nbformat_minor": 2
}
