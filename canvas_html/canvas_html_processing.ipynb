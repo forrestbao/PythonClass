{
 "cells": [
  {
   "cell_type": "code",
   "execution_count": 1,
   "metadata": {},
   "outputs": [],
   "source": [
    "import bs4, glob"
   ]
  },
  {
   "cell_type": "code",
   "execution_count": 30,
   "metadata": {},
   "outputs": [],
   "source": [
    "def deidentify_html(filename):\n",
    "    \"\"\"Remove personal information from an HTML file\n",
    "    \n",
    "    input: str\n",
    "        path to a file\n",
    "        \n",
    "    return: soup\n",
    "        a BS4 parse tree\n",
    "    \"\"\"\n",
    "    \n",
    "    with open(filename, 'r') as html_file:\n",
    "        html = html_file.read()\n",
    "        \n",
    "    soup = bs4.BeautifulSoup(html, 'html.parser')\n",
    "    h = soup.find('h1')\n",
    "    t = soup.find('title')\n",
    "    h.string = \"no body\"\n",
    "    t.string = \"no body\"\n",
    "    return soup \n",
    "\n",
    "# print (soup)\n",
    "# soup = deidentify(soup)\n",
    "# print (soup)"
   ]
  },
  {
   "cell_type": "code",
   "execution_count": 31,
   "metadata": {},
   "outputs": [],
   "source": [
    "def deidentify_filename(filename):\n",
    "    \"\"\"rename filenames\n",
    "    \n",
    "    names like forrestbao_108330_text.html\n",
    "    \n",
    "    \"\"\"\n",
    "    import re\n",
    "    x =re.search(r'(\\w+)_(\\d+)_text.html', filename)\n",
    "    new_name = \"deidentified_{}.html\".format(x.group(2))\n",
    "    return new_name\n",
    "\n",
    "# deidentify_filename(\"adsfas_13434_text.html\")"
   ]
  },
  {
   "cell_type": "code",
   "execution_count": 32,
   "metadata": {},
   "outputs": [],
   "source": [
    "def deidentify_html_page(filename, tgt_prefix):\n",
    "    \"\"\"Replace the content of a file and rename it\n",
    "    \"\"\"\n",
    "\n",
    "    new_soup = deidentify_html(filename)\n",
    "    new_filename = deidentify_filename(filename)\n",
    "    \n",
    "    new_file_path = tgt_prefix + \"/\" + new_filename\n",
    "    with open(new_file_path, 'w') as new_file:\n",
    "        new_file.write(str(new_soup))\n",
    "        \n",
    "    print (\"{} written\".format(new_filename))\n",
    "    \n",
    "# process_one_file(\"me_999_text.html\")"
   ]
  },
  {
   "cell_type": "code",
   "execution_count": null,
   "metadata": {},
   "outputs": [],
   "source": [
    "def batch(src_folder, tgt_folder):\n",
    "    \"\"\"Run deidentification over all files in the same directory \n",
    "    \"\"\"\n",
    "    import os\n",
    "    for file in os.listdir(src_folder):\n",
    "        if file.endswith(\".html\"):\n",
    "            print (file)\n",
    "            process_one_file(file, tgt_folder)\n",
    "\n",
    "batch(\"./\", \"./done\")"
   ]
  },
  {
   "cell_type": "code",
   "execution_count": 2,
   "metadata": {},
   "outputs": [
    {
     "name": "stdout",
     "output_type": "stream",
     "text": [
      "no\n",
      "no\n",
      "yes\n",
      "yes\n",
      "no\n",
      "no\n",
      "nope;(\n",
      "no\n",
      "no\n",
      "no\n",
      "yes\n",
      "no\n",
      "yes\n",
      "yes\n",
      "yes\n",
      "yes\n",
      "yes\n",
      "yes\n",
      "yes\n",
      "yes\n",
      "no\n",
      "yes\n",
      "yes\n",
      "yes\n",
      "no\n",
      "no\n",
      "yes\n",
      "no\n",
      "no\n",
      "no\n",
      "yes,ido.\n",
      "yes\n",
      "yes\n",
      "yes\n",
      "no\n",
      "yes\n",
      "yes\n",
      "no\n",
      "yes\n",
      "yes\n",
      "yes\n",
      "yes\n",
      "sadlyno\n",
      "yes\n",
      "no\n",
      "no\n",
      "yes\n"
     ]
    },
    {
     "data": {
      "text/plain": [
       "(27, 19, 1)"
      ]
     },
     "execution_count": 2,
     "metadata": {},
     "output_type": "execute_result"
    }
   ],
   "source": [
    "def vote_count_one_html(htmlfile):\n",
    "    import bs4\n",
    "    with open(htmlfile, 'r') as f:\n",
    "        html = f.read()\n",
    "        \n",
    "    soup = bs4.BeautifulSoup(html, 'html.parser')\n",
    "    h = soup.find('div')\n",
    "#     print (h.text)\n",
    "    return h.text\n",
    "\n",
    "# vote_count_one_html(\"submissions/basartmorsejack_106783_text.html\")\n",
    "\n",
    "def poll(folder):\n",
    "    \"\"\"open all HTMl files and count how many yays and nays \n",
    "    \"\"\"\n",
    "    import glob\n",
    "    yes, no, Else = 0, 0, 0\n",
    "    for file in glob.glob(folder + \"/*.html\"):\n",
    "        vote = vote_count_one_html(file)\n",
    "        vote = vote.lower()\n",
    "        vote = \"\".join(vote.split())\n",
    "        print (vote)\n",
    "            \n",
    "        if vote[0] == \"y\":\n",
    "            yes += 1\n",
    "        elif vote[0] == \"n\":\n",
    "            no += 1\n",
    "        else:\n",
    "            Else += 1\n",
    "            \n",
    "    return yes, no, Else\n",
    "\n",
    "poll(\"submissions\")"
   ]
  },
  {
   "cell_type": "code",
   "execution_count": 10,
   "metadata": {},
   "outputs": [
    {
     "name": "stdout",
     "output_type": "stream",
     "text": [
      "['submissions/leebo_112860_text.html', 'submissions/clemmonswilliam_65538_text.html', 'submissions/stwalleyhunter_98862_text.html', 'submissions/eltoumnazar_113620_text.html', 'submissions/nepalgyam_112564_text.html', 'submissions/diepphi_110977_text.html', 'submissions/husemanjacob_100107_text.html', 'submissions/lazochavezroxana_100294_text.html', 'submissions/chavezadolfo_100774_text.html', 'submissions/kennedymichael_96277_text.html', 'submissions/motemia_100206_text.html', 'submissions/beckerluke_93441_text.html', 'submissions/groathousemegan_100012_text.html', 'submissions/probascokeagan_99172_text.html', 'submissions/gladesarah_100425_text.html', 'submissions/schubbejames_98435_text.html', 'submissions/schwickerathmaxwell_98259_text.html', 'submissions/gonzalezjon_98381_text.html', 'submissions/agherahetik_108081_text.html', 'submissions/wangyen_109033_text.html', 'submissions/pazemmanuel_89074_text.html', 'submissions/scavotyler_112325_text.html', 'submissions/payneelyse_111371_text.html', 'submissions/lambdrew_98386_text.html', 'submissions/lindseyethan_100362_text.html', 'submissions/stilesjordan_96225_text.html', 'submissions/pagekody_101053_text.html', 'submissions/venengaaaron_111766_text.html', 'submissions/basartmorsejack_106783_text.html', 'submissions/akbarmisbah_109382_text.html', 'submissions/vanemanmakenzie_48392_text.html', 'submissions/naablouis_97104_text.html', 'submissions/raimeghana_108093_text.html', 'submissions/ornesschristian_92986_text.html']\n"
     ]
    },
    {
     "data": {
      "text/plain": [
       "'123'"
      ]
     },
     "execution_count": 10,
     "metadata": {},
     "output_type": "execute_result"
    }
   ],
   "source": [
    "print (glob.glob(\"submissions/*.html\"))\n",
    "\"123\".lower()"
   ]
  }
 ],
 "metadata": {
  "kernelspec": {
   "display_name": "Python 3",
   "language": "python",
   "name": "python3"
  },
  "language_info": {
   "codemirror_mode": {
    "name": "ipython",
    "version": 3
   },
   "file_extension": ".py",
   "mimetype": "text/x-python",
   "name": "python",
   "nbconvert_exporter": "python",
   "pygments_lexer": "ipython3",
   "version": "3.6.7"
  }
 },
 "nbformat": 4,
 "nbformat_minor": 2
}
