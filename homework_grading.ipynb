{
 "cells": [
  {
   "cell_type": "code",
   "execution_count": 29,
   "metadata": {},
   "outputs": [],
   "source": [
    "import bs4\n"
   ]
  },
  {
   "cell_type": "code",
   "execution_count": 30,
   "metadata": {},
   "outputs": [],
   "source": [
    "def deidentify_html(filename):\n",
    "    \"\"\"Remove personal information from an HTML file\n",
    "    \n",
    "    input: str\n",
    "        path to a file\n",
    "        \n",
    "    return: soup\n",
    "        a BS4 parse tree\n",
    "    \"\"\"\n",
    "    \n",
    "    with open(filename, 'r') as html_file:\n",
    "        html = html_file.read()\n",
    "        \n",
    "    soup = bs4.BeautifulSoup(html, 'html.parser')\n",
    "    h = soup.find('h1')\n",
    "    t = soup.find('title')\n",
    "    h.string = \"no body\"\n",
    "    t.string = \"no body\"\n",
    "    return soup \n",
    "\n",
    "# print (soup)\n",
    "# soup = deidentify(soup)\n",
    "# print (soup)"
   ]
  },
  {
   "cell_type": "code",
   "execution_count": 31,
   "metadata": {},
   "outputs": [],
   "source": [
    "def deidentify_filename(filename):\n",
    "    \"\"\"rename filenames\n",
    "    \n",
    "    names like forrestbao_108330_text.html\n",
    "    \n",
    "    \"\"\"\n",
    "    import re\n",
    "    x =re.search(r'(\\w+)_(\\d+)_text.html', filename)\n",
    "    new_name = \"deidentified_{}.html\".format(x.group(2))\n",
    "    return new_name\n",
    "\n",
    "# deidentify_filename(\"adsfas_13434_text.html\")"
   ]
  },
  {
   "cell_type": "code",
   "execution_count": 32,
   "metadata": {},
   "outputs": [],
   "source": [
    "def process_one_file(filename, tgt_prefix):\n",
    "    \"\"\"Replace the content of a file and rename it\n",
    "    \"\"\"\n",
    "\n",
    "    new_soup = deidentify_html(filename)\n",
    "    new_filename = deidentify_filename(filename)\n",
    "    \n",
    "    new_file_path = tgt_prefix + \"/\" + new_filename\n",
    "    with open(new_file_path, 'w') as new_file:\n",
    "        new_file.write(str(new_soup))\n",
    "        \n",
    "    print (\"{} written\".format(new_filename))\n",
    "    \n",
    "# process_one_file(\"me_999_text.html\")"
   ]
  },
  {
   "cell_type": "code",
   "execution_count": null,
   "metadata": {},
   "outputs": [],
   "source": [
    "def batch(src_folder, tgt_folder):\n",
    "    \"\"\"Run deidentification over all files in the same directory \n",
    "    \"\"\"\n",
    "    import os\n",
    "    for file in os.listdir(src_folder):\n",
    "        if file.endswith(\".html\"):\n",
    "            print (file)\n",
    "            process_one_file(file, tgt_folder)\n",
    "\n",
    "batch(\"./\", \"./done\")"
   ]
  },
  {
   "cell_type": "code",
   "execution_count": null,
   "metadata": {},
   "outputs": [],
   "source": []
  }
 ],
 "metadata": {
  "kernelspec": {
   "display_name": "Python 3",
   "language": "python",
   "name": "python3"
  },
  "language_info": {
   "codemirror_mode": {
    "name": "ipython",
    "version": 3
   },
   "file_extension": ".py",
   "mimetype": "text/x-python",
   "name": "python",
   "nbconvert_exporter": "python",
   "pygments_lexer": "ipython3",
   "version": "3.6.7"
  }
 },
 "nbformat": 4,
 "nbformat_minor": 2
}
