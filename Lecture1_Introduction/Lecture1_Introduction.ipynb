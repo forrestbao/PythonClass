{
 "cells": [
  {
   "cell_type": "markdown",
   "metadata": {},
   "source": [
    "A Python program consists of lines of characters. Let's begin with a simple one. \n",
    "\n",
    "# Hello, world! \n",
    "If you wanna see something, just use a function `print` in the template:\n",
    "```\n",
    "print (THINGS_YOU_WANNA_PRINT_ON_THE_SCREEN)\n",
    "```\n",
    "Just like these two lines below (note the quotation marks if you mean to print a character string): "
   ]
  },
  {
   "cell_type": "code",
   "execution_count": 1,
   "metadata": {},
   "outputs": [
    {
     "name": "stdout",
     "output_type": "stream",
     "text": [
      "hello, world!\n"
     ]
    }
   ],
   "source": [
    "print (\"hello, world!\")"
   ]
  },
  {
   "cell_type": "markdown",
   "metadata": {},
   "source": [
    "# How to run Python code\n",
    "\n",
    "Your code needs to be executed by the computer. But some translation is needed before the computer can run your code -- to be discussed later. Luckily, this translation is done by a computer program automatically. In the context of Python, this program is called an **interpreter**. The Python interpreter itself is just a program that runs on the command line (or technically, the standard input and output, to be discussed later). \n",
    "\n",
    "On Linux/MacOS/Windows, just type the `python` from your Terminal (called so for historic reasons), Shell (called so for historic reasons), or Command Prompt, to launch the Python interpreter. Of course, you need to have the `PATH` environment variable set properly. This is usually something you shouldn't worry about if using Linux, MacOS, or other UNIX-like operating systems.  \n",
    "\n",
    "![](figs/python_interactive_mode.png)\n",
    "\n",
    "Once launched, the official Python interpreter is an interactive environment. You type one line of code, press Enter, then the interpreter translates your code, the computer runs it, and if applicable, displays the results. We call this mode the **interactive mode**. Let's see another example: "
   ]
  },
  {
   "cell_type": "code",
   "execution_count": 2,
   "metadata": {},
   "outputs": [
    {
     "name": "stdout",
     "output_type": "stream",
     "text": [
      "4\n"
     ]
    }
   ],
   "source": [
    "print (2+2)"
   ]
  },
  {
   "cell_type": "markdown",
   "metadata": {},
   "source": [
    "However, this can be inconvenient sometimes. To alleviate, you can also save several lines in a text file, and then pass the text file to the Python interpreter, which will execute one line in the text file each time, as if they were entered sequantially in the interactive mode. This mode is called the **script mode**. To leverage the script mode, simply do \n",
    "```python your_script.py \n",
    "```\n",
    "\n",
    "![](figs/python_script_mode.png)\n"
   ]
  },
  {
   "cell_type": "code",
   "execution_count": null,
   "metadata": {},
   "outputs": [],
   "source": []
  }
 ],
 "metadata": {
  "kernelspec": {
   "display_name": "Python 3",
   "language": "python",
   "name": "python3"
  },
  "language_info": {
   "codemirror_mode": {
    "name": "ipython",
    "version": 3
   },
   "file_extension": ".py",
   "mimetype": "text/x-python",
   "name": "python",
   "nbconvert_exporter": "python",
   "pygments_lexer": "ipython3",
   "version": "3.6.7"
  }
 },
 "nbformat": 4,
 "nbformat_minor": 2
}
