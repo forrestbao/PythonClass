{
 "cells": [
  {
   "cell_type": "markdown",
   "metadata": {},
   "source": [
    "# Advanced Topics in Python\n",
    "## Read from text files "
   ]
  },
  {
   "cell_type": "code",
   "execution_count": 4,
   "metadata": {},
   "outputs": [
    {
     "name": "stdout",
     "output_type": "stream",
     "text": [
      "the\n",
      "of\n",
      "and\n"
     ]
    }
   ],
   "source": [
    "# file handler\n",
    "fh = open('google-10000-english.txt', 'r') #'w'\n",
    "content = fh.read() # load the text file as a string \n",
    "fh.close() \n",
    "print (content[:10])"
   ]
  },
  {
   "cell_type": "code",
   "execution_count": 10,
   "metadata": {},
   "outputs": [
    {
     "name": "stdout",
     "output_type": "stream",
     "text": [
      "['the\\n', 'of\\n', 'and\\n', 'to\\n', 'a\\n', 'in\\n', 'for\\n', 'is\\n', 'on\\n', 'that\\n']\n"
     ]
    }
   ],
   "source": [
    "fh = open('google-10000-english.txt', 'r') #'w'\n",
    "content = fh.readlines() # load the text file as a list of strings,\n",
    "# one line per element \n",
    "fh.close() \n",
    "print (content[:10])"
   ]
  },
  {
   "cell_type": "code",
   "execution_count": 6,
   "metadata": {},
   "outputs": [
    {
     "name": "stdout",
     "output_type": "stream",
     "text": [
      "['the', 'of', 'and', 'to', 'a', 'in', 'for', 'is', 'on', 'that']\n"
     ]
    }
   ],
   "source": [
    "new_content = []\n",
    "for dirty_word in content:\n",
    "    new_content.append(dirty_word.strip() ) \n",
    "    # get rid of special \\n, \\t, etc. \n",
    "    \n",
    "print (new_content[:10])"
   ]
  },
  {
   "cell_type": "code",
   "execution_count": 11,
   "metadata": {},
   "outputs": [
    {
     "name": "stdout",
     "output_type": "stream",
     "text": [
      "['the', 'of', 'and', 'to', 'a', 'in', 'for', 'is', 'on', 'that']\n"
     ]
    }
   ],
   "source": [
    "with open('google-10000-english.txt', 'r') as f:\n",
    "    new_content = [i.strip() for i in f.readlines()]\n",
    "print (new_content[:10])"
   ]
  },
  {
   "cell_type": "markdown",
   "metadata": {},
   "source": [
    "## Random numbers"
   ]
  },
  {
   "cell_type": "code",
   "execution_count": 15,
   "metadata": {},
   "outputs": [
    {
     "name": "stdout",
     "output_type": "stream",
     "text": [
      "0\n",
      "1\n",
      "2\n",
      "2\n",
      "0\n",
      "2\n",
      "3\n",
      "2\n",
      "2\n",
      "2\n"
     ]
    }
   ],
   "source": [
    "import random  ## Import only once at the beginning of a script \n",
    "\n",
    "for i in range(10):\n",
    "    print (random.randint(0,3))"
   ]
  },
  {
   "cell_type": "markdown",
   "metadata": {},
   "source": [
    "## `pass`"
   ]
  },
  {
   "cell_type": "code",
   "execution_count": 1,
   "metadata": {},
   "outputs": [],
   "source": [
    "if 1 >2 :\n",
    "    pass # do nothing "
   ]
  },
  {
   "cell_type": "markdown",
   "metadata": {},
   "source": [
    "## 2-D list"
   ]
  },
  {
   "cell_type": "code",
   "execution_count": 5,
   "metadata": {},
   "outputs": [
    {
     "name": "stdout",
     "output_type": "stream",
     "text": [
      "[1, 2]\n",
      "6\n",
      "hello\n"
     ]
    }
   ],
   "source": [
    "L2 = [[1,2], [4,5,6], \"hello\", 1 ]\n",
    "print (L2[0])\n",
    "print (L2[1][2])\n",
    "print (L2[-2])"
   ]
  },
  {
   "cell_type": "code",
   "execution_count": 6,
   "metadata": {},
   "outputs": [
    {
     "name": "stdout",
     "output_type": "stream",
     "text": [
      "[1, 'hello', [4, 5, 6], [1, 2]]\n"
     ]
    }
   ],
   "source": [
    "print (L2[::-1])"
   ]
  },
  {
   "cell_type": "markdown",
   "metadata": {},
   "source": [
    "## Modules "
   ]
  },
  {
   "cell_type": "code",
   "execution_count": 7,
   "metadata": {},
   "outputs": [
    {
     "name": "stdout",
     "output_type": "stream",
     "text": [
      "3\n",
      "[2, 4]\n"
     ]
    }
   ],
   "source": [
    "import numop, listop\n",
    "\n",
    "print (numop.larger(2,3))\n",
    "print (listop.larger([2,4],[0,0,1]))"
   ]
  },
  {
   "cell_type": "code",
   "execution_count": 8,
   "metadata": {},
   "outputs": [
    {
     "name": "stdout",
     "output_type": "stream",
     "text": [
      "['', '/mnt/nsecure/Apps/stanford-corenlp', '/mnt/insecure/Apps/opencv_install/lib/python3.6/dist-packages', '/usr/lib/python36.zip', '/usr/lib/python3.6', '/usr/lib/python3.6/lib-dynload', '/home/forrest/.local/lib/python3.6/site-packages', '/home/forrest/.local/lib/python3.6/site-packages/pyeeg-0.4.4-py3.6.egg', '/usr/local/lib/python3.6/dist-packages', '/usr/lib/python3/dist-packages', '/usr/lib/python3/dist-packages/IPython/extensions', '/home/forrest/.ipython']\n"
     ]
    }
   ],
   "source": []
  },
  {
   "cell_type": "markdown",
   "metadata": {},
   "source": [
    "## Palindrome \n",
    "\n",
    "Given an integer, check whether it is a palindorme, i.e., the reverse of it is the same as itself. \n",
    "\n",
    "`is_palindorme (s)`:\n",
    "*    Step 1: Flip the number \n",
    "*    Step 2: Check whether the reverse is the same as the input \n",
    "\n",
    "Solution 1 (number to string, and then back to number) for step 1:\n",
    "* 1.1 Turn the integer into a string \n",
    "* 1.2 Break the string into a list of characters \n",
    "* 1.3 Flip the list obtained in step 1.2\n",
    "* 1.4 Convert the flipped list back to a string, and further back to an integer \n",
    "Implemented in the function `flip_a_number` \n",
    "\n",
    "Solution 2 (stay as number, get every digit and flip) for step 1:\n",
    "Implemented in the function `flip_a_number_v2`\n",
    "\n"
   ]
  },
  {
   "cell_type": "code",
   "execution_count": 5,
   "metadata": {},
   "outputs": [
    {
     "name": "stdout",
     "output_type": "stream",
     "text": [
      "4331\n"
     ]
    }
   ],
   "source": [
    "def flip_a_number(n):\n",
    "    \"\"\"\n",
    "    \"\"\"\n",
    "    s = str(n) # typecasting\n",
    "    length_of_string = len(s)\n",
    "    list_of_characters = []\n",
    "    for i in range(length_of_string):\n",
    "        list_of_characters.append(s[i])\n",
    "    \n",
    "    # 1.3 \n",
    "    flipped_list = flip_a_list(list_of_characters) \n",
    "    \n",
    "    # 1.4 \n",
    "    # [\"1\", \"2\", \"1\"]  --> \"121\"\n",
    "    combined_string = combine_string_list(flipped_list)\n",
    "    \n",
    "    return int(combined_string)\n",
    "\n",
    "def flip_a_list(L):\n",
    "    \"\"\"\n",
    "    \n",
    "    \n",
    "    Let L =[a,c,d,e,f], lenght of the list is 5 \n",
    "    \n",
    "    Step  i  index   L[index]   F\n",
    "    1     0  4       f          [f]\n",
    "    2     1  3       e          [f, e]\n",
    "     \n",
    "    \"\"\"\n",
    "    F = []\n",
    "    for i in range(1, len(L)+1):\n",
    "        index = len(L) - i\n",
    "        F.append(L[index])\n",
    "#         print (index, L[index], F)\n",
    "        \n",
    "    return F \n",
    "\n",
    "def combine_string_list(L):\n",
    "#   [\"1\", \"2\", \"1\"]  --> \"121\"\n",
    "    \"\"\"\n",
    "    \n",
    "    1. Initialize an empty string S \n",
    "    2. for each element of the list, concatenate it with S \n",
    "    3. return S \n",
    "    \n",
    "    \"\"\"\n",
    "    S = \"\"\n",
    "    for c in L:\n",
    "        S += c\n",
    "        \n",
    "    return S \n",
    "\n",
    "# print (combine_string_list([\"1\", \"2\", \"1\"])) \n",
    "print (flip_a_number(1334))"
   ]
  },
  {
   "cell_type": "code",
   "execution_count": null,
   "metadata": {},
   "outputs": [],
   "source": [
    "def flip_a_list_while(L):\n",
    "    \"\"\"\n",
    "    \n",
    "    1. F = []\n",
    "    2. i = len(L)-1\n",
    "    3. while i >= 0: \n",
    "       3.1 append L[i] into F\n",
    "       3.2 decrease i by 1\n",
    "       \n",
    "    Example: L = [7,8,9]\n",
    "    Step  i  L[i]   F\n",
    "    1     2  9      [9]\n",
    "    2     1  8      [9, 8]\n",
    "    3     0  7      [9, 8, 7]\n",
    "    \"\"\""
   ]
  },
  {
   "cell_type": "code",
   "execution_count": 7,
   "metadata": {},
   "outputs": [
    {
     "name": "stdout",
     "output_type": "stream",
     "text": [
      "[6, 5, 4]\n"
     ]
    }
   ],
   "source": [
    "def flip_a_number_v2(n):\n",
    "    \"\"\"\n",
    "    \n",
    "    1. Break n into a list by digitis, flipped, e.g, 654 --> [4,5,6]\n",
    "    2. Put the list back into a number, e.g, [4,5,6] --> 456 \n",
    "    \n",
    "    \"\"\"\n",
    "    \n",
    "\n",
    "def turn_number_to_flip_list(N):\n",
    "    \"\"\"\n",
    "    \n",
    "    654 --> [4,5,6]\n",
    "    Step   X    Q   R  L \n",
    "    1      654  65  4  [4]\n",
    "    2      65   6   5  [4, 5]\n",
    "    3      6 \n",
    "\n",
    "    \n",
    "    1. L = []\n",
    "    2. X = N\n",
    "    3. while X > 0:\n",
    "        3.1 Q, R = X // 10, X % 10 \n",
    "        3.2 append R into L \n",
    "        3.3 X = Q\n",
    "    4. Flip L \n",
    "    \n",
    "    \"\"\"\n",
    "    L, X = [], N\n",
    "    while X > 0:\n",
    "        Q, R = X // 10, X % 10\n",
    "        L.append(R)\n",
    "        X = Q \n",
    "    \n",
    "    return L                  \n",
    "    \n",
    "    \n",
    "print (turn_number_to_flip_list(654))\n",
    "\n",
    "\n",
    "def turn_number_list_to_number(L):\n",
    "#   [1,2,1] --> 121 \n",
    "# see your picture or your notes \n"
   ]
  },
  {
   "cell_type": "markdown",
   "metadata": {},
   "source": [
    "## Tic-tac-toe\n",
    "\n",
    "\n",
    "\n",
    "\n",
    "\n"
   ]
  }
 ],
 "metadata": {
  "kernelspec": {
   "display_name": "Python 3",
   "language": "python",
   "name": "python3"
  },
  "language_info": {
   "codemirror_mode": {
    "name": "ipython",
    "version": 3
   },
   "file_extension": ".py",
   "mimetype": "text/x-python",
   "name": "python",
   "nbconvert_exporter": "python",
   "pygments_lexer": "ipython3",
   "version": "3.6.7"
  }
 },
 "nbformat": 4,
 "nbformat_minor": 2
}
