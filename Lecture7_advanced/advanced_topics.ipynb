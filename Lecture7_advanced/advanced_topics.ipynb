{
 "cells": [
  {
   "cell_type": "markdown",
   "metadata": {},
   "source": [
    "# Advanced Topics in Python\n",
    "\n",
    "# Dictionary "
   ]
  },
  {
   "cell_type": "code",
   "execution_count": 8,
   "metadata": {},
   "outputs": [
    {
     "name": "stdout",
     "output_type": "stream",
     "text": [
      "False\n",
      "True\n",
      "80\n"
     ]
    }
   ],
   "source": [
    "GPA = {'X': 75, 'Y': 85} # key1:value1, key2:value2\n",
    "\n",
    "# print (GPA['X']) # dict_name[key] --> value of the key \n",
    "\n",
    "letter_shift = {'a':'c', 'b':'d', 'c':'e', 'd':'f'}\n",
    "\n",
    "# print (letter_shift['Y'])\n",
    "\n",
    "\n",
    "print ('Y' in letter_shift)\n",
    "print ('b' in letter_shift)\n",
    "\n",
    "\n",
    "# one key maps to only one value \n",
    "\n",
    "x = {'X':90, 'X':80}\n",
    "print (x['X'])"
   ]
  },
  {
   "cell_type": "code",
   "execution_count": 15,
   "metadata": {},
   "outputs": [
    {
     "name": "stdout",
     "output_type": "stream",
     "text": [
      "cdedfdfdfY\n"
     ]
    }
   ],
   "source": [
    "def caeser_encode(x, letter_shift):\n",
    "    return letter_shift[x]\n",
    "\n",
    "X = 'abcbdbdbdY'\n",
    "Y = ''\n",
    "for x in X:\n",
    "    if x in letter_shift:\n",
    "        Y += caeser_encode(x,letter_shift)\n",
    "    else:\n",
    "        Y += x \n",
    "    \n",
    "print (Y)"
   ]
  },
  {
   "cell_type": "code",
   "execution_count": 28,
   "metadata": {},
   "outputs": [
    {
     "name": "stdout",
     "output_type": "stream",
     "text": [
      "90.0\n"
     ]
    }
   ],
   "source": [
    "# Given a dicitonary of student names and grades, find the average grade \n",
    "\n",
    "GPA = {'X':80, 'Y':90, 'Z':100}\n",
    "\n",
    "# for g in GPA.values():\n",
    "#     print (g)\n",
    "    \n",
    "# for n in GPA.keys():\n",
    "#     print (n)\n",
    "    \n",
    "for n,g in GPA.items():\n",
    "    print (\"student\", n, \"'s grade is\", g)\n",
    "    \n",
    "def ave_dict(GPA):\n",
    "    total = 0\n",
    "    num = 0\n",
    "    for grade in GPA.values():\n",
    "        total += grade\n",
    "        num += 1\n",
    "    return total/num\n",
    "\n",
    "print (ave_dict(GPA))"
   ]
  },
  {
   "cell_type": "code",
   "execution_count": 31,
   "metadata": {},
   "outputs": [
    {
     "name": "stdout",
     "output_type": "stream",
     "text": [
      "you sold 2 lbs of  tomato  at  1 /lb\n",
      "you sold 5 lbs of  bean  at  0.5 /lb\n",
      "you sold 10 lbs of  pork  at  2 /lb\n",
      "24.5\n"
     ]
    }
   ],
   "source": [
    "# you operate a small grocery store\n",
    "# tomato, bean, pork \n",
    "price ={'tomato':1, 'bean':0.5, 'pork':2}\n",
    "sales = {'tomato':2, 'bean':5, 'pork': 10}\n",
    "# how much do you make today? \n",
    "\n",
    "def book(price, sales):\n",
    "    total = 0\n",
    "    for name in price.keys():\n",
    "        total += price[name]*sales[name]\n",
    "        print (\"you sold\", sales[name], \"lbs of \", name, \" at \", price[name], \"/lb\")\n",
    "    return total\n",
    "print (book(price, sales))"
   ]
  },
  {
   "cell_type": "markdown",
   "metadata": {},
   "source": [
    "## Tuple"
   ]
  },
  {
   "cell_type": "code",
   "execution_count": null,
   "metadata": {},
   "outputs": [],
   "source": [
    "x = (1,2,3)\n",
    "\n",
    "for e in x:\n",
    "    print (e) \n",
    "    \n",
    "for i in range(len(x)):\n",
    "    x[i]\n",
    "\n",
    "def foo(x):\n",
    "    return x+1, x+2 \n",
    "\n",
    "Y = foo(3)\n",
    "print (Y)\n",
    "\n",
    "\n",
    "a=[3,4,5]\n",
    "a.append(6)\n",
    "a[1] = 100\n",
    "print(a)\n",
    "\n",
    "x[1] = 100\n",
    "\n",
    "\n",
    "\n"
   ]
  },
  {
   "cell_type": "code",
   "execution_count": 19,
   "metadata": {},
   "outputs": [
    {
     "ename": "SyntaxError",
     "evalue": "invalid syntax (<ipython-input-19-474875a4d9b3>, line 14)",
     "output_type": "error",
     "traceback": [
      "\u001b[0;36m  File \u001b[0;32m\"<ipython-input-19-474875a4d9b3>\"\u001b[0;36m, line \u001b[0;32m14\u001b[0m\n\u001b[0;31m    print sheet[(row, column)]\u001b[0m\n\u001b[0m              ^\u001b[0m\n\u001b[0;31mSyntaxError\u001b[0m\u001b[0;31m:\u001b[0m invalid syntax\n"
     ]
    }
   ],
   "source": [
    "sheet={(1,1):\"A\", (1,2):90, (2,1):(1,1), (2,2):(1,1)}\n",
    "\n",
    "sheet[(2,1)]\n",
    "\n",
    "# insert\n",
    "def insert(row, column, value):\n",
    "    sheet[(row, column)] = value\n",
    "    return sheet\n",
    "\n",
    "# print\n",
    "def print(sheet):\n",
    "    for row in range():\n",
    "        for column in range():\n",
    "            print sheet[(row, column)] \n",
    "         \n",
    "# dump\n",
    "def dump(sheet, file):\n",
    "    # save the sheet into a CSV file \n",
    "    # 'A', 80\n",
    "    # 'B', 90\n",
    "    \n",
    "    \n"
   ]
  },
  {
   "cell_type": "markdown",
   "metadata": {},
   "source": [
    "## Read from text files "
   ]
  },
  {
   "cell_type": "code",
   "execution_count": 10,
   "metadata": {},
   "outputs": [
    {
     "name": "stdout",
     "output_type": "stream",
     "text": [
      "the\n",
      "of\n",
      "and\n"
     ]
    }
   ],
   "source": [
    "# file handler\n",
    "fh = open('google-10000-english-usa.txt', 'r') #'w'\n",
    "content = fh.read() # load the text file as a  string \n",
    "fh.close() \n",
    "print (content[:10])"
   ]
  },
  {
   "cell_type": "code",
   "execution_count": 10,
   "metadata": {},
   "outputs": [
    {
     "name": "stdout",
     "output_type": "stream",
     "text": [
      "['the\\n', 'of\\n', 'and\\n', 'to\\n', 'a\\n', 'in\\n', 'for\\n', 'is\\n', 'on\\n', 'that\\n']\n"
     ]
    }
   ],
   "source": [
    "fh = open('google-10000-english-usa.txt', 'r') #'w'\n",
    "content = fh.readlines() # load the text file as a list of strings,\n",
    "# one line per element \n",
    "fh.close() \n",
    "print (content[:10])"
   ]
  },
  {
   "cell_type": "code",
   "execution_count": 6,
   "metadata": {},
   "outputs": [
    {
     "name": "stdout",
     "output_type": "stream",
     "text": [
      "['the', 'of', 'and', 'to', 'a', 'in', 'for', 'is', 'on', 'that']\n"
     ]
    }
   ],
   "source": [
    "new_content = []\n",
    "for dirty_word in content:\n",
    "    new_content.append(dirty_word.strip() ) \n",
    "    # get rid of special \\n, \\t, etc. \n",
    "    \n",
    "print (new_content[:10])"
   ]
  },
  {
   "cell_type": "code",
   "execution_count": 11,
   "metadata": {},
   "outputs": [
    {
     "name": "stdout",
     "output_type": "stream",
     "text": [
      "['the', 'of', 'and', 'to', 'a', 'in', 'for', 'is', 'on', 'that']\n"
     ]
    }
   ],
   "source": [
    "with open('google-10000-english.txt', 'r') as f:\n",
    "    new_content = [i.strip() for i in f.readlines()]\n",
    "print (new_content[:10])"
   ]
  },
  {
   "cell_type": "code",
   "execution_count": 18,
   "metadata": {},
   "outputs": [],
   "source": [
    "fh = open('/home/forrest/3.txt', 'w')\n",
    "fh.write(\"wednesday\\n\")\n",
    "fh.write(\"thursday\")\n",
    "fh.close()"
   ]
  },
  {
   "cell_type": "markdown",
   "metadata": {},
   "source": [
    "## Random numbers"
   ]
  },
  {
   "cell_type": "code",
   "execution_count": 15,
   "metadata": {},
   "outputs": [
    {
     "name": "stdout",
     "output_type": "stream",
     "text": [
      "0\n",
      "1\n",
      "2\n",
      "2\n",
      "0\n",
      "2\n",
      "3\n",
      "2\n",
      "2\n",
      "2\n"
     ]
    }
   ],
   "source": [
    "import random  ## Import only once at the beginning of a script \n",
    "\n",
    "for i in range(10):\n",
    "    print (random.randint(0,3))"
   ]
  },
  {
   "cell_type": "markdown",
   "metadata": {},
   "source": [
    "## `pass`"
   ]
  },
  {
   "cell_type": "code",
   "execution_count": 1,
   "metadata": {},
   "outputs": [],
   "source": [
    "if 1 >2 :\n",
    "    pass # do nothing "
   ]
  },
  {
   "cell_type": "markdown",
   "metadata": {},
   "source": [
    "## 2-D list"
   ]
  },
  {
   "cell_type": "code",
   "execution_count": 5,
   "metadata": {},
   "outputs": [
    {
     "name": "stdout",
     "output_type": "stream",
     "text": [
      "[1, 2]\n",
      "6\n",
      "hello\n"
     ]
    }
   ],
   "source": [
    "L2 = [[1,2], [4,5,6], \"hello\", 1 ]\n",
    "print (L2[0])\n",
    "print (L2[1][2])\n",
    "print (L2[-2])"
   ]
  },
  {
   "cell_type": "code",
   "execution_count": 6,
   "metadata": {},
   "outputs": [
    {
     "name": "stdout",
     "output_type": "stream",
     "text": [
      "[1, 'hello', [4, 5, 6], [1, 2]]\n"
     ]
    }
   ],
   "source": [
    "print (L2[::-1])"
   ]
  },
  {
   "cell_type": "markdown",
   "metadata": {},
   "source": [
    "## Modules "
   ]
  },
  {
   "cell_type": "code",
   "execution_count": 7,
   "metadata": {},
   "outputs": [
    {
     "name": "stdout",
     "output_type": "stream",
     "text": [
      "3\n",
      "[2, 4]\n"
     ]
    }
   ],
   "source": [
    "import numop, listop\n",
    "\n",
    "print (numop.larger(2,3))\n",
    "print (listop.larger([2,4],[0,0,1]))"
   ]
  },
  {
   "cell_type": "code",
   "execution_count": 8,
   "metadata": {},
   "outputs": [
    {
     "name": "stdout",
     "output_type": "stream",
     "text": [
      "['', '/mnt/nsecure/Apps/stanford-corenlp', '/mnt/insecure/Apps/opencv_install/lib/python3.6/dist-packages', '/usr/lib/python36.zip', '/usr/lib/python3.6', '/usr/lib/python3.6/lib-dynload', '/home/forrest/.local/lib/python3.6/site-packages', '/home/forrest/.local/lib/python3.6/site-packages/pyeeg-0.4.4-py3.6.egg', '/usr/local/lib/python3.6/dist-packages', '/usr/lib/python3/dist-packages', '/usr/lib/python3/dist-packages/IPython/extensions', '/home/forrest/.ipython']\n"
     ]
    }
   ],
   "source": []
  },
  {
   "cell_type": "markdown",
   "metadata": {},
   "source": [
    "## String operations "
   ]
  },
  {
   "cell_type": "code",
   "execution_count": 6,
   "metadata": {},
   "outputs": [
    {
     "name": "stdout",
     "output_type": "stream",
     "text": [
      "['abc', 'abc']\n",
      "['abc\\nabc,abc', 'abc']\n"
     ]
    }
   ],
   "source": [
    "print (\"abc\\nabc\".split())\n",
    "print (\"abc\\nabc,abc;abc\".split(\";\"))"
   ]
  },
  {
   "cell_type": "code",
   "execution_count": 14,
   "metadata": {},
   "outputs": [
    {
     "name": "stdout",
     "output_type": "stream",
     "text": [
      "abcabc,abc;abc\n"
     ]
    }
   ],
   "source": [
    "x = \"abcabc,abc;abc   \\n  \"\n",
    "x = x.strip()\n",
    "print (x)"
   ]
  },
  {
   "cell_type": "code",
   "execution_count": 18,
   "metadata": {},
   "outputs": [
    {
     "name": "stdout",
     "output_type": "stream",
     "text": [
      "abcdefpqr\n",
      "abc--def--pqr\n"
     ]
    }
   ],
   "source": [
    "x=[\"abc\", \"def\", \"pqr\"]\n",
    "y = \"\"\n",
    "for i in x:\n",
    "    y = y + i \n",
    "print (y)\n",
    "\n",
    "z= \"--\".join(x)\n",
    "print (z)"
   ]
  }
 ],
 "metadata": {
  "kernelspec": {
   "display_name": "Python 3",
   "language": "python",
   "name": "python3"
  },
  "language_info": {
   "codemirror_mode": {
    "name": "ipython",
    "version": 3
   },
   "file_extension": ".py",
   "mimetype": "text/x-python",
   "name": "python",
   "nbconvert_exporter": "python",
   "pygments_lexer": "ipython3",
   "version": "3.6.8"
  }
 },
 "nbformat": 4,
 "nbformat_minor": 2
}
