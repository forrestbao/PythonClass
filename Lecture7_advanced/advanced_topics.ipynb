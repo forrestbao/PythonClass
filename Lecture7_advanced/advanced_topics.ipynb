{
 "cells": [
  {
   "cell_type": "markdown",
   "metadata": {},
   "source": [
    "# Advanced Topics in Python\n",
    "## Read from text files "
   ]
  },
  {
   "cell_type": "code",
   "execution_count": 4,
   "metadata": {},
   "outputs": [
    {
     "name": "stdout",
     "output_type": "stream",
     "text": [
      "the\n",
      "of\n",
      "and\n"
     ]
    }
   ],
   "source": [
    "# file handler\n",
    "fh = open('google-10000-english.txt', 'r') #'w'\n",
    "content = fh.read() # load the text file as a string \n",
    "fh.close() \n",
    "print (content[:10])"
   ]
  },
  {
   "cell_type": "code",
   "execution_count": 10,
   "metadata": {},
   "outputs": [
    {
     "name": "stdout",
     "output_type": "stream",
     "text": [
      "['the\\n', 'of\\n', 'and\\n', 'to\\n', 'a\\n', 'in\\n', 'for\\n', 'is\\n', 'on\\n', 'that\\n']\n"
     ]
    }
   ],
   "source": [
    "fh = open('google-10000-english.txt', 'r') #'w'\n",
    "content = fh.readlines() # load the text file as a list of strings,\n",
    "# one line per element \n",
    "fh.close() \n",
    "print (content[:10])"
   ]
  },
  {
   "cell_type": "code",
   "execution_count": 6,
   "metadata": {},
   "outputs": [
    {
     "name": "stdout",
     "output_type": "stream",
     "text": [
      "['the', 'of', 'and', 'to', 'a', 'in', 'for', 'is', 'on', 'that']\n"
     ]
    }
   ],
   "source": [
    "new_content = []\n",
    "for dirty_word in content:\n",
    "    new_content.append(dirty_word.strip() ) \n",
    "    # get rid of special \\n, \\t, etc. \n",
    "    \n",
    "print (new_content[:10])"
   ]
  },
  {
   "cell_type": "code",
   "execution_count": 11,
   "metadata": {},
   "outputs": [
    {
     "name": "stdout",
     "output_type": "stream",
     "text": [
      "['the', 'of', 'and', 'to', 'a', 'in', 'for', 'is', 'on', 'that']\n"
     ]
    }
   ],
   "source": [
    "with open('google-10000-english.txt', 'r') as f:\n",
    "    new_content = [i.strip() for i in f.readlines()]\n",
    "print (new_content[:10])"
   ]
  },
  {
   "cell_type": "markdown",
   "metadata": {},
   "source": [
    "## Random numbers"
   ]
  },
  {
   "cell_type": "code",
   "execution_count": 15,
   "metadata": {},
   "outputs": [
    {
     "name": "stdout",
     "output_type": "stream",
     "text": [
      "0\n",
      "1\n",
      "2\n",
      "2\n",
      "0\n",
      "2\n",
      "3\n",
      "2\n",
      "2\n",
      "2\n"
     ]
    }
   ],
   "source": [
    "import random  ## Import only once at the beginning of a script \n",
    "\n",
    "for i in range(10):\n",
    "    print (random.randint(0,3))"
   ]
  },
  {
   "cell_type": "code",
   "execution_count": null,
   "metadata": {},
   "outputs": [],
   "source": []
  }
 ],
 "metadata": {
  "kernelspec": {
   "display_name": "Python 3",
   "language": "python",
   "name": "python3"
  },
  "language_info": {
   "codemirror_mode": {
    "name": "ipython",
    "version": 3
   },
   "file_extension": ".py",
   "mimetype": "text/x-python",
   "name": "python",
   "nbconvert_exporter": "python",
   "pygments_lexer": "ipython3",
   "version": "3.6.7"
  }
 },
 "nbformat": 4,
 "nbformat_minor": 2
}
