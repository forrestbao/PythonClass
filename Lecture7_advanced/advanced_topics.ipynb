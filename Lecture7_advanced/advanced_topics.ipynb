{
 "cells": [
  {
   "cell_type": "markdown",
   "metadata": {},
   "source": [
    "# Advanced Topics in Python\n",
    "\n",
    "# Dictionary "
   ]
  },
  {
   "cell_type": "code",
   "execution_count": 8,
   "metadata": {},
   "outputs": [
    {
     "name": "stdout",
     "output_type": "stream",
     "text": [
      "False\n",
      "True\n",
      "80\n"
     ]
    }
   ],
   "source": [
    "GPA = {'X': 75, 'Y': 85} # key1:value1, key2:value2\n",
    "\n",
    "# print (GPA['X']) # dict_name[key] --> value of the key \n",
    "\n",
    "letter_shift = {'a':'c', 'b':'d', 'c':'e', 'd':'f'}\n",
    "\n",
    "# print (letter_shift['Y'])\n",
    "\n",
    "\n",
    "print ('Y' in letter_shift)\n",
    "print ('b' in letter_shift)\n",
    "\n",
    "\n",
    "# one key maps to only one value \n",
    "\n",
    "x = {'X':90, 'X':80}\n",
    "print (x['X'])"
   ]
  },
  {
   "cell_type": "code",
   "execution_count": 15,
   "metadata": {},
   "outputs": [
    {
     "name": "stdout",
     "output_type": "stream",
     "text": [
      "cdedfdfdfY\n"
     ]
    }
   ],
   "source": [
    "def caeser_encode(x, letter_shift):\n",
    "    return letter_shift[x]\n",
    "\n",
    "X = 'abcbdbdbdY'\n",
    "Y = ''\n",
    "for x in X:\n",
    "    if x in letter_shift:\n",
    "        Y += caeser_encode(x,letter_shift)\n",
    "    else:\n",
    "        Y += x \n",
    "    \n",
    "print (Y)"
   ]
  },
  {
   "cell_type": "code",
   "execution_count": 28,
   "metadata": {},
   "outputs": [
    {
     "name": "stdout",
     "output_type": "stream",
     "text": [
      "90.0\n"
     ]
    }
   ],
   "source": [
    "# Given a dicitonary of student names and grades, find the average grade \n",
    "\n",
    "GPA = {'X':80, 'Y':90, 'Z':100}\n",
    "\n",
    "# for g in GPA.values():\n",
    "#     print (g)\n",
    "    \n",
    "# for n in GPA.keys():\n",
    "#     print (n)\n",
    "    \n",
    "for n,g in GPA.items():\n",
    "    print (\"student\", n, \"'s grade is\", g)\n",
    "    \n",
    "def ave_dict(GPA):\n",
    "    total = 0\n",
    "    num = 0\n",
    "    for grade in GPA.values():\n",
    "        total += grade\n",
    "        num += 1\n",
    "    return total/num\n",
    "\n",
    "print (ave_dict(GPA))"
   ]
  },
  {
   "cell_type": "code",
   "execution_count": 31,
   "metadata": {},
   "outputs": [
    {
     "name": "stdout",
     "output_type": "stream",
     "text": [
      "you sold 2 lbs of  tomato  at  1 /lb\n",
      "you sold 5 lbs of  bean  at  0.5 /lb\n",
      "you sold 10 lbs of  pork  at  2 /lb\n",
      "24.5\n"
     ]
    }
   ],
   "source": [
    "# you operate a small grocery store\n",
    "# tomato, bean, pork \n",
    "price ={'tomato':1, 'bean':0.5, 'pork':2}\n",
    "sales = {'tomato':2, 'bean':5, 'pork': 10}\n",
    "# how much do you make today? \n",
    "\n",
    "def book(price, sales):\n",
    "    total = 0\n",
    "    for name in price.keys():\n",
    "        total += price[name]*sales[name]\n",
    "        print (\"you sold\", sales[name], \"lbs of \", name, \" at \", price[name], \"/lb\")\n",
    "    return total\n",
    "print (book(price, sales))"
   ]
  },
  {
   "cell_type": "markdown",
   "metadata": {},
   "source": [
    "## Tuple"
   ]
  },
  {
   "cell_type": "code",
   "execution_count": null,
   "metadata": {},
   "outputs": [],
   "source": [
    "x = (1,2,3)\n",
    "\n",
    "for e in x:\n",
    "    print (e) \n",
    "    \n",
    "for i in range(len(x)):\n",
    "    x[i]\n",
    "\n",
    "def foo(x):\n",
    "    return x+1, x+2 \n",
    "\n",
    "Y = foo(3)\n",
    "print (Y)\n",
    "\n",
    "\n",
    "a=[3,4,5]\n",
    "a.append(6)\n",
    "a[1] = 100\n",
    "print(a)\n",
    "\n",
    "x[1] = 100\n",
    "\n",
    "\n",
    "\n"
   ]
  },
  {
   "cell_type": "code",
   "execution_count": 19,
   "metadata": {},
   "outputs": [
    {
     "ename": "SyntaxError",
     "evalue": "invalid syntax (<ipython-input-19-474875a4d9b3>, line 14)",
     "output_type": "error",
     "traceback": [
      "\u001b[0;36m  File \u001b[0;32m\"<ipython-input-19-474875a4d9b3>\"\u001b[0;36m, line \u001b[0;32m14\u001b[0m\n\u001b[0;31m    print sheet[(row, column)]\u001b[0m\n\u001b[0m              ^\u001b[0m\n\u001b[0;31mSyntaxError\u001b[0m\u001b[0;31m:\u001b[0m invalid syntax\n"
     ]
    }
   ],
   "source": [
    "sheet={(1,1):\"A\", (1,2):90, (2,1):(1,1), (2,2):(1,1)}\n",
    "\n",
    "sheet[(2,1)]\n",
    "\n",
    "# insert\n",
    "def insert(row, column, value):\n",
    "    sheet[(row, column)] = value\n",
    "    return sheet\n",
    "\n",
    "# print\n",
    "def print(sheet):\n",
    "    for row in range():\n",
    "        for column in range():\n",
    "            print sheet[(row, column)] \n",
    "         \n",
    "# dump\n",
    "def dump(sheet, file):\n",
    "    # save the sheet into a CSV file \n",
    "    # 'A', 80\n",
    "    # 'B', 90\n",
    "    \n",
    "    \n"
   ]
  },
  {
   "cell_type": "markdown",
   "metadata": {},
   "source": [
    "## Read from text files "
   ]
  },
  {
   "cell_type": "code",
   "execution_count": 10,
   "metadata": {},
   "outputs": [
    {
     "name": "stdout",
     "output_type": "stream",
     "text": [
      "the\n",
      "of\n",
      "and\n"
     ]
    }
   ],
   "source": [
    "# file handler\n",
    "fh = open('google-10000-english-usa.txt', 'r') #'w'\n",
    "content = fh.read() # load the text file as a  string \n",
    "fh.close() \n",
    "print (content[:10])"
   ]
  },
  {
   "cell_type": "code",
   "execution_count": 10,
   "metadata": {},
   "outputs": [
    {
     "name": "stdout",
     "output_type": "stream",
     "text": [
      "['the\\n', 'of\\n', 'and\\n', 'to\\n', 'a\\n', 'in\\n', 'for\\n', 'is\\n', 'on\\n', 'that\\n']\n"
     ]
    }
   ],
   "source": [
    "fh = open('google-10000-english-usa.txt', 'r') #'w'\n",
    "content = fh.readlines() # load the text file as a list of strings,\n",
    "# one line per element \n",
    "fh.close() \n",
    "print (content[:10])"
   ]
  },
  {
   "cell_type": "code",
   "execution_count": 6,
   "metadata": {},
   "outputs": [
    {
     "name": "stdout",
     "output_type": "stream",
     "text": [
      "['the', 'of', 'and', 'to', 'a', 'in', 'for', 'is', 'on', 'that']\n"
     ]
    }
   ],
   "source": [
    "new_content = []\n",
    "for dirty_word in content:\n",
    "    new_content.append(dirty_word.strip() ) \n",
    "    # get rid of special \\n, \\t, etc. \n",
    "    \n",
    "print (new_content[:10])"
   ]
  },
  {
   "cell_type": "code",
   "execution_count": 11,
   "metadata": {},
   "outputs": [
    {
     "name": "stdout",
     "output_type": "stream",
     "text": [
      "['the', 'of', 'and', 'to', 'a', 'in', 'for', 'is', 'on', 'that']\n"
     ]
    }
   ],
   "source": [
    "with open('google-10000-english.txt', 'r') as f:\n",
    "    new_content = [i.strip() for i in f.readlines()]\n",
    "print (new_content[:10])"
   ]
  },
  {
   "cell_type": "code",
   "execution_count": 18,
   "metadata": {},
   "outputs": [],
   "source": [
    "fh = open('/home/forrest/3.txt', 'w')\n",
    "fh.write(\"wednesday\\n\")\n",
    "fh.write(\"thursday\")\n",
    "fh.close()"
   ]
  },
  {
   "cell_type": "markdown",
   "metadata": {},
   "source": [
    "## Random numbers"
   ]
  },
  {
   "cell_type": "code",
   "execution_count": 15,
   "metadata": {},
   "outputs": [
    {
     "name": "stdout",
     "output_type": "stream",
     "text": [
      "0\n",
      "1\n",
      "2\n",
      "2\n",
      "0\n",
      "2\n",
      "3\n",
      "2\n",
      "2\n",
      "2\n"
     ]
    }
   ],
   "source": [
    "import random  ## Import only once at the beginning of a script \n",
    "\n",
    "for i in range(10):\n",
    "    print (random.randint(0,3))"
   ]
  },
  {
   "cell_type": "markdown",
   "metadata": {},
   "source": [
    "## `pass`"
   ]
  },
  {
   "cell_type": "code",
   "execution_count": 1,
   "metadata": {},
   "outputs": [],
   "source": [
    "if 1 >2 :\n",
    "    pass # do nothing "
   ]
  },
  {
   "cell_type": "markdown",
   "metadata": {},
   "source": [
    "## 2-D list"
   ]
  },
  {
   "cell_type": "code",
   "execution_count": 5,
   "metadata": {},
   "outputs": [
    {
     "name": "stdout",
     "output_type": "stream",
     "text": [
      "[1, 2]\n",
      "6\n",
      "hello\n"
     ]
    }
   ],
   "source": [
    "L2 = [[1,2], [4,5,6], \"hello\", 1 ]\n",
    "print (L2[0])\n",
    "print (L2[1][2])\n",
    "print (L2[-2])"
   ]
  },
  {
   "cell_type": "code",
   "execution_count": 6,
   "metadata": {},
   "outputs": [
    {
     "name": "stdout",
     "output_type": "stream",
     "text": [
      "[1, 'hello', [4, 5, 6], [1, 2]]\n"
     ]
    }
   ],
   "source": [
    "print (L2[::-1])"
   ]
  },
  {
   "cell_type": "markdown",
   "metadata": {},
   "source": [
    "## Modules "
   ]
  },
  {
   "cell_type": "code",
   "execution_count": 7,
   "metadata": {},
   "outputs": [
    {
     "name": "stdout",
     "output_type": "stream",
     "text": [
      "3\n",
      "[2, 4]\n"
     ]
    }
   ],
   "source": [
    "import numop, listop\n",
    "\n",
    "print (numop.larger(2,3))\n",
    "print (listop.larger([2,4],[0,0,1]))"
   ]
  },
  {
   "cell_type": "code",
   "execution_count": 8,
   "metadata": {},
   "outputs": [
    {
     "name": "stdout",
     "output_type": "stream",
     "text": [
      "['', '/mnt/nsecure/Apps/stanford-corenlp', '/mnt/insecure/Apps/opencv_install/lib/python3.6/dist-packages', '/usr/lib/python36.zip', '/usr/lib/python3.6', '/usr/lib/python3.6/lib-dynload', '/home/forrest/.local/lib/python3.6/site-packages', '/home/forrest/.local/lib/python3.6/site-packages/pyeeg-0.4.4-py3.6.egg', '/usr/local/lib/python3.6/dist-packages', '/usr/lib/python3/dist-packages', '/usr/lib/python3/dist-packages/IPython/extensions', '/home/forrest/.ipython']\n"
     ]
    }
   ],
   "source": []
  },
  {
   "cell_type": "markdown",
   "metadata": {},
   "source": [
    "## String operations "
   ]
  },
  {
   "cell_type": "code",
   "execution_count": 6,
   "metadata": {},
   "outputs": [
    {
     "name": "stdout",
     "output_type": "stream",
     "text": [
      "['abc', 'abc']\n",
      "['abc\\nabc,abc', 'abc']\n"
     ]
    }
   ],
   "source": [
    "print (\"abc\\nabc\".split())\n",
    "print (\"abc\\nabc,abc;abc\".split(\";\"))"
   ]
  },
  {
   "cell_type": "code",
   "execution_count": 14,
   "metadata": {},
   "outputs": [
    {
     "name": "stdout",
     "output_type": "stream",
     "text": [
      "abcabc,abc;abc\n"
     ]
    }
   ],
   "source": [
    "x = \"abcabc,abc;abc   \\n  \"\n",
    "x = x.strip()\n",
    "print (x)"
   ]
  },
  {
   "cell_type": "code",
   "execution_count": 1,
   "metadata": {},
   "outputs": [
    {
     "name": "stdout",
     "output_type": "stream",
     "text": [
      "abcdefpqr\n",
      "abc--def--pqr\n"
     ]
    }
   ],
   "source": [
    "x=[\"abc\", \"def\", \"pqr\"]\n",
    "y = \"\"\n",
    "for i in x:\n",
    "    y = y + i \n",
    "print (y)\n",
    "\n",
    "z= \"--\".join(x)\n",
    "print (z)"
   ]
  },
  {
   "cell_type": "markdown",
   "metadata": {},
   "source": [
    "# Functional programming"
   ]
  },
  {
   "cell_type": "code",
   "execution_count": 44,
   "metadata": {},
   "outputs": [
    {
     "name": "stdout",
     "output_type": "stream",
     "text": [
      "['7', '3', '9', '4', '5', '2']\n"
     ]
    }
   ],
   "source": [
    "a= [7,3,9,4,5,2]\n",
    "\n",
    "c = list(map(str, a))\n",
    "print (c)"
   ]
  },
  {
   "cell_type": "code",
   "execution_count": 22,
   "metadata": {},
   "outputs": [
    {
     "data": {
      "text/plain": [
       "6"
      ]
     },
     "execution_count": 22,
     "metadata": {},
     "output_type": "execute_result"
    }
   ],
   "source": [
    "import operator \n",
    "import functools\n",
    "functools.reduce(operator.add, a)\n",
    "operator.add(2, 4)\n",
    "# this is equivalent to the function below: \n",
    "#def myadd(a,b):\n",
    "#    return a+b "
   ]
  },
  {
   "cell_type": "code",
   "execution_count": 11,
   "metadata": {},
   "outputs": [
    {
     "data": {
      "text/plain": [
       "[8, 1, 16]"
      ]
     },
     "execution_count": 11,
     "metadata": {},
     "output_type": "execute_result"
    }
   ],
   "source": [
    "def foo(a, b):\n",
    "    return a**b\n",
    "\n",
    "list(map(foo, [2, 3,4], [3,0]))\n",
    "list(map(foo, [2, 3,4], [3,0, 2]))"
   ]
  },
  {
   "cell_type": "code",
   "execution_count": 18,
   "metadata": {},
   "outputs": [
    {
     "name": "stdout",
     "output_type": "stream",
     "text": [
      "24.5\n",
      "[2, 2.5, 20]\n",
      "24.5\n"
     ]
    }
   ],
   "source": [
    "price= [1, 0.5, 2]\n",
    "sold = [2,5, 10]\n",
    "# total = 0 \n",
    "# for i in range(len(price)): \n",
    "#     total = total + price[i] * sold[i]\n",
    "# print (total)  \n",
    "\n",
    "L  = list(map(operator.mul, price, sold))\n",
    "print (L)\n",
    "T = functools.reduce(operator.add, L )\n",
    "print (T)"
   ]
  },
  {
   "cell_type": "code",
   "execution_count": 45,
   "metadata": {},
   "outputs": [
    {
     "name": "stdout",
     "output_type": "stream",
     "text": [
      "[1, 2, 3, 5, 7, 11, 13, 17, 19, 23, 29, 31, 37, 41, 43, 47, 53, 59, 61, 67, 71, 73, 79, 83, 89, 97]\n"
     ]
    }
   ],
   "source": [
    "# The filter function\n",
    "# filter a list such that only those True by the first argument of filter \n",
    "# are kept. \n",
    "\n",
    "a = list(range(1, 100))\n",
    "def is_prime(a):\n",
    "    \"\"\"\n",
    "    Return False is a is not a prime number.\n",
    "    Reutrn True if it is. \n",
    "    \"\"\"\n",
    "    for i in range(2, a):\n",
    "        if a% i == 0 :\n",
    "            return False\n",
    "    return True \n",
    "     \n",
    "b = list(filter(is_prime, a))\n",
    "print (b)\n",
    "# b shall be the list of prime numbers between 1 and 99"
   ]
  },
  {
   "cell_type": "code",
   "execution_count": 46,
   "metadata": {},
   "outputs": [
    {
     "name": "stdout",
     "output_type": "stream",
     "text": [
      "[-1, 2, -1, 4, -1, 6, -1, 8, -1, 10, -1, 12, -1, 14, -1, 16, -1, 18, -1, 20, -1, 22, -1, 24, -1, 26, -1, 28, -1, 30, -1, 32, -1, 34, -1, 36, -1, 38, -1, 40, -1, 42, -1, 44, -1, 46, -1, 48, -1, 50, -1, 52, -1, 54, -1, 56, -1, 58, -1, 60, -1, 62, -1, 64, -1, 66, -1, 68, -1, 70, -1, 72, -1, 74, -1, 76, -1, 78, -1, 80, -1, 82, -1, 84, -1, 86, -1, 88, -1, 90, -1, 92, -1, 94, -1, 96, -1, 98, -1, 100]\n",
      "[1, 2, 3, 4, 5, 6, 7, 8, 9, 10, 11, 12, 13, 14, 15, 16, 17, 18, 19, 20, 21, 22, 23, 24, 25, 26, 27, 28, 29, 30, 31, 32, 33, 34, 35, 36, 37, 38, 39, 40, 41, 42, 43, 44, 45, 46, 47, 48, 49, 50, 51, 52, 53, 54, 55, 56, 57, 58, 59, 60, 61, 62, 63, 64, 65, 66, 67, 68, 69, 70, 71, 72, 73, 74, 75, 76, 77, 78, 79, 80, 81, 82, 83, 84, 85, 86, 87, 88, 89, 90, 91, 92, 93, 94, 95, 96, 97, 98, 99, 100]\n"
     ]
    }
   ],
   "source": [
    "# list comprehension \n",
    "d = [i if i%2==0 else -1 for i in range(1, 101) ]\n",
    "print (d)\n",
    "e = [i  for i in range(1, 101)  if is_prime(i)!= None ]\n",
    "print (e)"
   ]
  },
  {
   "cell_type": "code",
   "execution_count": 43,
   "metadata": {},
   "outputs": [
    {
     "data": {
      "text/plain": [
       "[6, 77, 4, 8, 3, 4]"
      ]
     },
     "execution_count": 43,
     "metadata": {},
     "output_type": "execute_result"
    }
   ],
   "source": [
    "# Lambda function \n",
    "# a function without a name \n",
    "\n",
    "list(map(lambda x:x+1, [5,76,3,7,2,3]))\n",
    "\n",
    "def plus1(x):\n",
    "    return x+1\n",
    "map(plus1, [5,76,3,7,2,3])"
   ]
  }
 ],
 "metadata": {
  "kernelspec": {
   "display_name": "Python 3",
   "language": "python",
   "name": "python3"
  },
  "language_info": {
   "codemirror_mode": {
    "name": "ipython",
    "version": 3
   },
   "file_extension": ".py",
   "mimetype": "text/x-python",
   "name": "python",
   "nbconvert_exporter": "python",
   "pygments_lexer": "ipython3",
   "version": "3.6.8"
  }
 },
 "nbformat": 4,
 "nbformat_minor": 2
}
