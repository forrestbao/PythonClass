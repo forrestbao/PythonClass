{
 "cells": [
  {
   "cell_type": "code",
   "execution_count": 1,
   "metadata": {},
   "outputs": [],
   "source": [
    "def crack(msg, filename):\n",
    "    \"\"\"\n",
    "    \n",
    "    input: \n",
    "        msg: a string, which is a encrypted message \n",
    "        filename: a string, which is path to a file containing frequent english words\n",
    "    \"\"\"\n",
    "    dictionary = load_words(filename)\n",
    "    \n",
    "    highest_score = 0\n",
    "    best_decoded_msg = ''\n",
    "    best_shift  =0 \n",
    "     \n",
    "    # for each shift from 0 to 25, \n",
    "    for i in range(26):\n",
    "        # Step 1 : decode the message \n",
    "        decoded_msg = decoder(msg, i)\n",
    "        breakup  = chunk(decoded_msg)\n",
    "        # Step 2 : compute the overlap of words in the decoded message and a dictionary \n",
    "        score = judge(breakup, dictionary) \n",
    "        \n",
    "        # Step 3: If the this decoding is better than the best so far, update the best decoding and shift\n",
    "        if score > highest_score:\n",
    "            highest_score = score\n",
    "            best_decoded_msg = decoded_msg\n",
    "            best_shift = i \n",
    "        \n",
    "    return best_decoded_msg, best_shift \n",
    "\n",
    "    \n"
   ]
  },
  {
   "cell_type": "code",
   "execution_count": 10,
   "metadata": {},
   "outputs": [
    {
     "name": "stdout",
     "output_type": "stream",
     "text": [
      "['the', 'of', 'and', 'to', 'a', 'in', 'for', 'is', 'on', 'that']\n"
     ]
    }
   ],
   "source": [
    "def load_word(filename):\n",
    "    \"\"\"\n",
    "    input:\n",
    "        filename: string, path to a text file \n",
    "    \n",
    "    \"\"\"\n",
    "    handler = open(filename, 'r')\n",
    "    words = handler.readlines()\n",
    "    \n",
    "    newwords = []\n",
    "    \n",
    "    for word in words:\n",
    "        newwords.append(word[:-1])\n",
    "        \n",
    "    return newwords\n",
    "\n",
    "print (load_word('google-10000-english-usa.txt')[:10])"
   ]
  },
  {
   "cell_type": "code",
   "execution_count": 17,
   "metadata": {},
   "outputs": [
    {
     "name": "stdout",
     "output_type": "stream",
     "text": [
      "4\n"
     ]
    }
   ],
   "source": [
    "def chunk(msg):\n",
    "    # \"hello world\" ==> [\"hello\", \"world\"]\n",
    "    breakup = []\n",
    "    temp = \"\"\n",
    "    \n",
    "    msg += \" \"\n",
    "    \n",
    "    for char in msg:\n",
    "        if char == \" \" and temp != \"\":\n",
    "                breakup.append(temp)\n",
    "                temp = \"\"\n",
    "        else: \n",
    "            temp += char\n",
    "        \n",
    "    return breakup \n",
    "\n",
    "def judge(wordlist1, wordlist2):\n",
    "    \"\"\"\n",
    "    return how many words in wordlist2 are also in wordlist 1 \n",
    "    input:\n",
    "        wordlist1: list of string\n",
    "        wordlist2: list of string\n",
    "\n",
    "    \"\"\"\n",
    "    overlap = 0 \n",
    "    for w1 in wordlist1: # check whether w1 is the same as any word w2 in wl2 \n",
    "        for w2 in wordlist2:\n",
    "            if w1==w2:\n",
    "                overlap += 1 \n",
    "                break # break to the innermost loop \n",
    "    return overlap \n",
    "    \n",
    "print (judge(\"i am not happy today\".split(), \"happy today i am\".split()))"
   ]
  },
  {
   "cell_type": "code",
   "execution_count": 18,
   "metadata": {},
   "outputs": [
    {
     "name": "stdout",
     "output_type": "stream",
     "text": [
      "['i', 'am', 'not', 'happy', 'today']\n"
     ]
    }
   ],
   "source": [
    "print (\"i am not happy today\".split())"
   ]
  },
  {
   "cell_type": "code",
   "execution_count": 19,
   "metadata": {},
   "outputs": [],
   "source": [
    "def tictactoe():\n",
    "    X = O = [[0,0,0], [0,0,0], [0,0,0]]\n",
    "    \n",
    "    while result == 0:\n",
    "        X = umv(X,O)\n",
    "        O = cmv(X,O)\n",
    "        result = judge(X,O) # 0, continuing, 1 human wins, 2 computer wins, 3 tie \n",
    "    if result == 1 :\n",
    "        print ('you lost')\n",
    "    elif result == 2 :\n",
    "        print ('you won')\n",
    "    else:\n",
    "        print ('tie')\n",
    "    return result "
   ]
  },
  {
   "cell_type": "code",
   "execution_count": 26,
   "metadata": {},
   "outputs": [
    {
     "name": "stdout",
     "output_type": "stream",
     "text": [
      "X _ O \n",
      "_ O X \n",
      "O _ _ \n"
     ]
    }
   ],
   "source": [
    "def printXO(X,O):\n",
    "    line = \"\"\n",
    "    \n",
    "    for i in range(3):\n",
    "        for j in range(3):\n",
    "            if X[i][j] == 1 :\n",
    "                line += \"X\"\n",
    "            elif O[i][j] == 1 :\n",
    "                line += \"O\"\n",
    "            else:\n",
    "                line += \"_\"\n",
    "            line += \" \"\n",
    "\n",
    "        print (line)\n",
    "        line = \"\"\n",
    "    \n",
    "printXO([[1,0,0],[0,0,1], [0,0,0]], [[0,0,1],[0,1,0], [1,0,0]])"
   ]
  },
  {
   "cell_type": "code",
   "execution_count": null,
   "metadata": {},
   "outputs": [],
   "source": []
  }
 ],
 "metadata": {
  "kernelspec": {
   "display_name": "Python 3",
   "language": "python",
   "name": "python3"
  },
  "language_info": {
   "codemirror_mode": {
    "name": "ipython",
    "version": 3
   },
   "file_extension": ".py",
   "mimetype": "text/x-python",
   "name": "python",
   "nbconvert_exporter": "python",
   "pygments_lexer": "ipython3",
   "version": "3.6.7"
  }
 },
 "nbformat": 4,
 "nbformat_minor": 2
}
