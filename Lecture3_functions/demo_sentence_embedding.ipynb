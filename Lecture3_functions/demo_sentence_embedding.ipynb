{
 "cells": [
  {
   "cell_type": "code",
   "execution_count": 6,
   "metadata": {},
   "outputs": [],
   "source": [
    "import warnings\n",
    "warnings.filterwarnings('ignore')"
   ]
  },
  {
   "cell_type": "code",
   "execution_count": 7,
   "metadata": {},
   "outputs": [],
   "source": [
    "import tensorflow as tf\n",
    "import tensorflow_hub as hub\n",
    "Google_USE = hub.Module(\"https://tfhub.dev/google/universal-sentence-encoder/2\")# Google's universal sentence encoder, DAN version"
   ]
  },
  {
   "cell_type": "code",
   "execution_count": 8,
   "metadata": {},
   "outputs": [],
   "source": [
    "def sentence2vector(x):\n",
    "    \"\"\"convert list of sentences to vectors of floating-point of numbers \n",
    "    \"\"\"\n",
    "    with tf.device(\"/cpu:0\"): \n",
    "        with tf.Session() as session:\n",
    "            session.run([tf.global_variables_initializer(), tf.tables_initializer()])\n",
    "            embeddings = session.run(Google_USE(x))      # numpy.ndarray                                \n",
    "            return embeddings  \n",
    "    \n",
    "def tensor_distance(x,y):\n",
    "    \"\"\"given two 1-D numpy array, return their cosine distance\n",
    "    \"\"\"\n",
    "    s = tf.losses.cosine_distance(tf.nn.l2_normalize(x, 0), tf.nn.l2_normalize(y, 0), dim=0)\n",
    "    distance = tf.Session().run(s)\n",
    "    return distance \n",
    "\n",
    "def cross_compare(V, Sentences = None):\n",
    "    \"\"\"For every possible pair of vectors in V (numpy.narray), print the distance\n",
    "    \"\"\"\n",
    "    (size, _) = V.shape\n",
    "    for i in range(size):\n",
    "        for j in range(i+1, size):\n",
    "            pair_distance = tensor_distance(sentence_vectors[i], sentence_vectors[j])\n",
    "            if Sentences != None:\n",
    "                Msg = Sentences[i] + \" vs. \" + Sentences[j] + \": \" + str(pair_distance)\n",
    "            else:\n",
    "                Msg = str(pair_distance)\n",
    "            print (Msg)"
   ]
  },
  {
   "cell_type": "code",
   "execution_count": 9,
   "metadata": {},
   "outputs": [
    {
     "name": "stdout",
     "output_type": "stream",
     "text": [
      "INFO:tensorflow:Saver not created because there are no variables in the graph to restore\n"
     ]
    }
   ],
   "source": [
    "Sentences = [\"Academia is a lie\", \n",
    "             \"I used to think being a professor was great\",\n",
    "             \"I wasted 5 years on getting a PhD degree\"]\n",
    "sentence_vectors = sentence2vector(Sentences) \n",
    "# Examples given here do not necessarily reflect the opinions of Dr. Bao, \n",
    "# nor Iowa State University of Science and Technology, \n",
    "# nor any sponsors' of Dr. Bao's research, including and especially those of NSF. "
   ]
  },
  {
   "cell_type": "code",
   "execution_count": 10,
   "metadata": {},
   "outputs": [
    {
     "name": "stdout",
     "output_type": "stream",
     "text": [
      "Academia is a lie vs. I used to think being a professor was great: 0.43180817\n",
      "Academia is a lie vs. I wasted 5 years on getting a PhD degree: 0.4526267\n",
      "I used to think being a professor was great vs. I wasted 5 years on getting a PhD degree: 0.37156546\n"
     ]
    }
   ],
   "source": [
    "cross_compare(sentence_vectors, Sentences)"
   ]
  },
  {
   "cell_type": "code",
   "execution_count": null,
   "metadata": {},
   "outputs": [],
   "source": []
  },
  {
   "cell_type": "code",
   "execution_count": null,
   "metadata": {},
   "outputs": [],
   "source": []
  },
  {
   "cell_type": "code",
   "execution_count": null,
   "metadata": {},
   "outputs": [],
   "source": []
  },
  {
   "cell_type": "code",
   "execution_count": null,
   "metadata": {},
   "outputs": [],
   "source": []
  }
 ],
 "metadata": {
  "kernelspec": {
   "display_name": "Python 3",
   "language": "python",
   "name": "python3"
  },
  "language_info": {
   "codemirror_mode": {
    "name": "ipython",
    "version": 3
   },
   "file_extension": ".py",
   "mimetype": "text/x-python",
   "name": "python",
   "nbconvert_exporter": "python",
   "pygments_lexer": "ipython3",
   "version": "3.6.7"
  }
 },
 "nbformat": 4,
 "nbformat_minor": 2
}
