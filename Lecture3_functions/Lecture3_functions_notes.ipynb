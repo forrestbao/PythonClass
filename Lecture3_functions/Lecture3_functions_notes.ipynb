{
 "cells": [
  {
   "cell_type": "markdown",
   "metadata": {},
   "source": [
    "## Why functions\n",
    "\n",
    "Recall the example earlier where we calculate the interest\n",
    "\n",
    "```\n",
    "principal * (1 - interest_rate) ** years  \n",
    "```\n",
    "\n",
    "To save time from typing the same expression, usually lengthy, repetitively, we introduce functions. \n",
    "\n",
    "COmpare this: \n",
    "\n",
    "```\n",
    "total_payment(x,y,z )\n",
    "```\n",
    "\n",
    "Modulization \n",
    "Define/fix-once-use-everywhere1\n",
    "\n",
    "\n",
    "\n",
    "\n",
    "\n",
    "## Functions \n",
    "The template to define Python is:\n",
    "\n",
    "```def func_name(arg1, arg2, ...):\n",
    "    what to do \n",
    "    return something if needed \n",
    "```\n",
    "\n",
    "**scope** of a function/variable \n",
    "\n",
    "**Arguments** and/or **returns** are optional. Return must be an expression, e.g., `return x`, or `return len(x)*x**3`. \n",
    "\n",
    "**Global variable** vs. **local variable**. \n",
    "\n",
    "**Function definition** (the template above, defining what a function does) vs. **function call** (using the function by plugging in the arguments with defined expressions). \n",
    "\n",
    "**Function body**: The part of code that's indented from the `def` line until the next line that is vertically aligned with the `def` line. \n",
    "\n",
    "**return**: leave the function and carry something out...\n",
    "\n",
    "### Allowed function names\n",
    "Same as the naming rules for variable names. A string consists of alphanumerical (a to z, A to Z, and 0 to 9), begin with underline, or alphabet, e.g., `a0b1`, `_nine5`, `AAA`. Counter examples: `0abc`.\n",
    "\n",
    "### Built-in functions\n",
    "Python has some built-in functions, such as `len` and `print` "
   ]
  },
  {
   "cell_type": "code",
   "execution_count": 1,
   "metadata": {},
   "outputs": [
    {
     "name": "stdout",
     "output_type": "stream",
     "text": [
      "21\n",
      "23\n"
     ]
    }
   ],
   "source": [
    "print (len(\"Iowa State University\"))\n",
    "print (len(\"Iowa State University\")+2)"
   ]
  },
  {
   "cell_type": "code",
   "execution_count": 2,
   "metadata": {},
   "outputs": [
    {
     "name": "stdout",
     "output_type": "stream",
     "text": [
      "18\n",
      "18\n"
     ]
    }
   ],
   "source": [
    "def foo(x):  # line 1\n",
    "    x += 1   # line 2\n",
    "    return x*3  # line 3 \n",
    "\n",
    "## This is equivalent to \n",
    "def g00(x):\n",
    "    x += 1 \n",
    "    y = x*3\n",
    "    return y \n",
    "\n",
    "print (foo(5))\n",
    "print (g00(5))"
   ]
  },
  {
   "cell_type": "markdown",
   "metadata": {},
   "source": [
    "Function names and variables names cannot be the same. A newer one will overwrite an older one. For example, if now we let `g00` be an integer 7, then `g00(5)` will lead to an error. "
   ]
  },
  {
   "cell_type": "code",
   "execution_count": 3,
   "metadata": {},
   "outputs": [
    {
     "ename": "TypeError",
     "evalue": "'int' object is not callable",
     "output_type": "error",
     "traceback": [
      "\u001b[0;31m---------------------------------------------------------------------------\u001b[0m",
      "\u001b[0;31mTypeError\u001b[0m                                 Traceback (most recent call last)",
      "\u001b[0;32m<ipython-input-3-279c5315e5aa>\u001b[0m in \u001b[0;36m<module>\u001b[0;34m()\u001b[0m\n\u001b[1;32m      1\u001b[0m \u001b[0mg00\u001b[0m\u001b[0;34m=\u001b[0m\u001b[0;36m7\u001b[0m\u001b[0;34m\u001b[0m\u001b[0;34m\u001b[0m\u001b[0m\n\u001b[0;32m----> 2\u001b[0;31m \u001b[0mg00\u001b[0m\u001b[0;34m(\u001b[0m\u001b[0;36m10\u001b[0m\u001b[0;34m)\u001b[0m\u001b[0;34m\u001b[0m\u001b[0;34m\u001b[0m\u001b[0m\n\u001b[0m",
      "\u001b[0;31mTypeError\u001b[0m: 'int' object is not callable"
     ]
    }
   ],
   "source": [
    "g00=7\n",
    "g00(10)"
   ]
  },
  {
   "cell_type": "markdown",
   "metadata": {},
   "source": [
    "### Function composition\n",
    "Just as you learned in math class, functions can be composed. Let's define a new function `vegas`. "
   ]
  },
  {
   "cell_type": "code",
   "execution_count": null,
   "metadata": {},
   "outputs": [],
   "source": [
    "def vegas(foo):\n",
    "    return foo + 1 \n",
    "\n",
    "print (vegas(1))\n",
    "print (foo(1))"
   ]
  },
  {
   "cell_type": "code",
   "execution_count": 1,
   "metadata": {},
   "outputs": [],
   "source": [
    "def f(x):\n",
    "    print (x+1)\n",
    "    return (x+1)\n",
    "    \n",
    "print (f(3)+2)"
   ]
  },
  {
   "cell_type": "code",
   "execution_count": 4,
   "metadata": {},
   "outputs": [],
   "source": [
    "# Top-down approach \n",
    "\n",
    "def CollectInfo():\n",
    "    Months = input(\"How many months?\")\n",
    "    HV = input(\"How much is the house?\")\n",
    "    IR = input(\"What's the interest rate?\")\n",
    "    Rent = input(\"How much is the rent?\")\n",
    "    HU = input(\"HU?\")\n",
    "    AU = input(\"AU?\")\n",
    "    return Months, HV, IR, Rent, HU, AU \n",
    "\n",
    "def RentorBuy():\n",
    "    Months, HouseValue, InterestRate, Rent, HouseUtil, AptUtil \\\n",
    "                   = CollectInfo()\n",
    "    house_cost = HouseCost (Months, HouseValue, InterestRate, HouseUtil)\n",
    "    apt_cost = RentCost (Months, Rent, AptUtil)\n",
    "    drawWindow(str(house_cost - apt_cost))\n",
    "    return house_cost - apt_cost \n",
    "\n",
    "\n",
    "\n",
    "\n",
    "\n"
   ]
  },
  {
   "cell_type": "code",
   "execution_count": null,
   "metadata": {},
   "outputs": [],
   "source": []
  }
 ],
 "metadata": {
  "kernelspec": {
   "display_name": "Python 3",
   "language": "python",
   "name": "python3"
  },
  "language_info": {
   "codemirror_mode": {
    "name": "ipython",
    "version": 3
   },
   "file_extension": ".py",
   "mimetype": "text/x-python",
   "name": "python",
   "nbconvert_exporter": "python",
   "pygments_lexer": "ipython3",
   "version": "3.6.7"
  }
 },
 "nbformat": 4,
 "nbformat_minor": 2
}
