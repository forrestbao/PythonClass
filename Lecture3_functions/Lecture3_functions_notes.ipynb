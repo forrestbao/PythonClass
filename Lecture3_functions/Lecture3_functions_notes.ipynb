{
 "cells": [
  {
   "cell_type": "markdown",
   "metadata": {},
   "source": [
    "# Why functions\n",
    "\n",
    "Recall the example earlier where we calculate the interest\n",
    "\n",
    "```\n",
    "principal * (1 + interest_rate) ** years  \n",
    "```\n",
    "\n",
    "To save time from typing the same expression, usually lengthy, repetitively, we introduce functions. You may imagine that the relation between a function and a block of code as the relation between a variable and different values it can take. For example, if the expression above is the output of a function `total_payment(x,y,z)`, then plugging in the right 3 variables into the function will give you the total payment. \n",
    "\n",
    "Function introduces several benefits to computer programming:\n",
    "1. It saves time and space to repetitively type the same piece of code. If you wanna change the expression, just change the function definition once, instead of changing all occurences of the expression. \n",
    "2. It breaks a program into parts that are independent to each other but can be pipelined together to achieve a greater task. This idea is called **modularization**. You can replace or update a function without worrying about whether the program will still work as long as the interface between the function to the rest of the program remains. \n",
    "\n",
    "\n",
    "# Functions in math\n",
    "\n",
    "Mathematically, a function is a mapping from variables to variables. In high-school math class, we define function like this $f(x) = x + 2$ with an assumption that $x\\in \\mathbb{R}$, i.e., a real number. The function $f$ maps a real number to a real number, denoted as $f: \\mathbb{R}\\mapsto \\mathbb{R}$. The variable $x$ is called the **argument** (or **input**) which you can treat as a placeholder. The expression $x+1$ is the **definition** of the function $f$.  When the argument is subsituted with a constant, the function outputs a value that can be evaluated by substituting the argument with the constant,  e.g., $f(2) = 2 + 1 = 3$. Of course, the argument can be subsitituted with any expression, e.g., $f(3+1) = f(4) = 4 + 1 = 5$, $f(y^2) = y^2 +1$, or even $f(f(5)) = f (5+1) = (5+1)+1 = 7$. \n",
    "\n",
    "A function can have more than one arguments and more than one outputs. For example, $g(x,y) = x + y $ and $h(x,y) = y - x $. "
   ]
  },
  {
   "cell_type": "markdown",
   "metadata": {},
   "source": [
    "functipn name matters. just like variable name matters\n",
    "\n",
    "not all functions are all called f\n",
    "\n",
    "not all varguments are called x \n",
    "\n",
    "order of arguments\n",
    "\n",
    "f(x,y) = \n",
    "\n",
    "arguments can be variables\n",
    "\n",
    "a=3, b=3\n",
    "\n",
    "you plug expressions into function. so x=5 and x in f(x)=x+2 are different \n",
    "\n"
   ]
  },
  {
   "cell_type": "markdown",
   "metadata": {},
   "source": [
    "# Functions in Python\n",
    "\n",
    "## Function definitions \n",
    "\n",
    "A mathematical function is a relationship between quantities. In programming, it is more modeled as a process of producing an output (could be compound/multi-variate) from an input (could be compound/multi-variate too)\n",
    "\n",
    "Before you can use (technically **call**) a fucntion, the function needs to be defined such that it is known to your computer. \n",
    "\n",
    "The translation from a math function to a Pythonic function is very straightforward. For example, the above function $f(x) = x + 1$ can be turned into Python as:\n",
    "\n",
    "```\n",
    "def f(x):\n",
    "  return x + 1 \n",
    "```\n",
    "\n",
    "In Python, you explicitly state a function definition with the **keyword** `def`, which is followed by the function name. The arguments are listed in a pair of parenthesis following the function name, separated with commas. \n",
    "\n",
    "Then what the function does on the arguments form the **function body**. In Python, you must explictly delimit the function body by **indenting** all lines of it. A line that is vertically aligned with the `def` line means the end of your function definition. \n",
    "\n",
    "The output of a function must be explicitly stated with a **return statement**. The return statement begins with the keyword `return` followed by an expression. \n",
    "\n",
    "Here is one definition of the function to compute the total payment of a loan given the annual interest rate, the principal, and years of the loan:\n",
    "\n",
    "```\n",
    "def total_payment(interest_rate, principal, years):\n",
    "    return principal * (1 + interest_rate) ** years  \n",
    "```\n",
    "\n",
    "Note that the body of a function does not necessarily need to be just one `return` statement. It can be anything allowed. For example, here is another definition of the function `total_payment`:\n",
    "\n",
    "```\n",
    "def total_payment(interest_rate, principal, years):\n",
    "    folds = (1 + interest_rate) ** years)\n",
    "    total_amount = principal * folds \n",
    "    return total_amount \n",
    "```\n",
    "\n",
    "Unlike in math, Python allows a function to have no inputs nor outputs. For example, \n",
    "\n",
    "```\n",
    "def happy():\n",
    "    print (\"I am happy\")\n",
    "    \n",
    "def happy2(x):\n",
    "    print (\"I am happy\"*2)\n",
    "    \n",
    "def happy3():\n",
    "    return 0 \n",
    "```\n",
    "\n",
    "## More examples of functions in Python"
   ]
  },
  {
   "cell_type": "code",
   "execution_count": null,
   "metadata": {},
   "outputs": [],
   "source": [
    "def inch2ftandinch(x):\n",
    "    '''Converting a measurement in inch to how many feet and how many inches\n",
    "    '''\n",
    "    return x//12, x%12"
   ]
  },
  {
   "cell_type": "markdown",
   "metadata": {},
   "source": [
    "## Function calls \n",
    "\n",
    "The process of using a function in computer programming is called a **function call**. To **call a function**, just put an expression in the place of an argument, e.g., \n",
    "\n",
    "```\n",
    "total_payment(0.0425, 100000, 30)\n",
    "```\n",
    "\n",
    "The operation of using an expression in the place of an argument is called **passing** a value to the function. \n",
    "\n",
    "Note that if the expression has no value, i.e., **undefined**, passing it to a function will result an error because the body of the function cannot be execute unless all needed variables have values. \n",
    "\n",
    "Now let's see some examples. "
   ]
  },
  {
   "cell_type": "code",
   "execution_count": 5,
   "metadata": {},
   "outputs": [
    {
     "name": "stdout",
     "output_type": "stream",
     "text": [
      "18\n",
      "18\n"
     ]
    }
   ],
   "source": [
    "def foo(x):  # line 1\n",
    "    x += 1   # line 2\n",
    "    return x*3  # line 3 \n",
    "\n",
    "## This is equivalent to \n",
    "def g00(x):\n",
    "    x += 1 \n",
    "    y = x*3\n",
    "    return y \n",
    "\n",
    "print (foo(5))\n",
    "print (g00(5))"
   ]
  },
  {
   "cell_type": "markdown",
   "metadata": {},
   "source": [
    "Note that the number of arguments in a function call must match that in function definition. Otherwise, you will see an error. "
   ]
  },
  {
   "cell_type": "code",
   "execution_count": 6,
   "metadata": {},
   "outputs": [
    {
     "ename": "TypeError",
     "evalue": "foo() takes 1 positional argument but 2 were given",
     "output_type": "error",
     "traceback": [
      "\u001b[0;31m---------------------------------------------------------------------------\u001b[0m",
      "\u001b[0;31mTypeError\u001b[0m                                 Traceback (most recent call last)",
      "\u001b[0;32m<ipython-input-6-b28e63926ed1>\u001b[0m in \u001b[0;36m<module>\u001b[0;34m()\u001b[0m\n\u001b[0;32m----> 1\u001b[0;31m \u001b[0mfoo\u001b[0m\u001b[0;34m(\u001b[0m\u001b[0;36m10\u001b[0m\u001b[0;34m,\u001b[0m \u001b[0;36m20\u001b[0m\u001b[0;34m)\u001b[0m\u001b[0;34m\u001b[0m\u001b[0;34m\u001b[0m\u001b[0m\n\u001b[0m",
      "\u001b[0;31mTypeError\u001b[0m: foo() takes 1 positional argument but 2 were given"
     ]
    }
   ],
   "source": [
    "foo(10, 20)"
   ]
  },
  {
   "cell_type": "markdown",
   "metadata": {},
   "source": [
    "# Order matters when feeding arguments"
   ]
  },
  {
   "cell_type": "code",
   "execution_count": 13,
   "metadata": {},
   "outputs": [
    {
     "name": "stdout",
     "output_type": "stream",
     "text": [
      "3\n",
      "3\n"
     ]
    }
   ],
   "source": [
    "def fo(x, y):\n",
    "    return x+y \n",
    "\n",
    "a, b = 1, 2\n",
    "print (fo(a, b))\n",
    "\n",
    "\n",
    "a, b = 1, 2\n",
    "print (fo(b, a))"
   ]
  },
  {
   "cell_type": "markdown",
   "metadata": {},
   "source": [
    "# Function name overwriting \n",
    "\n",
    "If your program contains two function definitions of the same function name, then the code below the latter one will call the second function. See the example below. "
   ]
  },
  {
   "cell_type": "code",
   "execution_count": 1,
   "metadata": {},
   "outputs": [
    {
     "name": "stdout",
     "output_type": "stream",
     "text": [
      "5\n",
      "6\n"
     ]
    }
   ],
   "source": [
    "def f1(x):\n",
    "    return x+1\n",
    "    \n",
    "print (f1(4))\n",
    "\n",
    "def f1(x):\n",
    "    return x+2\n",
    "    \n",
    "print (f1(4))    "
   ]
  },
  {
   "cell_type": "markdown",
   "metadata": {},
   "source": [
    "**Note**: You also wanna be careful to not define a function and a variable of the same name. See the example below. "
   ]
  },
  {
   "cell_type": "code",
   "execution_count": 3,
   "metadata": {},
   "outputs": [
    {
     "name": "stdout",
     "output_type": "stream",
     "text": [
      "15\n"
     ]
    },
    {
     "ename": "TypeError",
     "evalue": "'int' object is not callable",
     "output_type": "error",
     "traceback": [
      "\u001b[0;31m---------------------------------------------------------------------------\u001b[0m",
      "\u001b[0;31mTypeError\u001b[0m                                 Traceback (most recent call last)",
      "\u001b[0;32m<ipython-input-3-2d8fd71cf8d8>\u001b[0m in \u001b[0;36m<module>\u001b[0;34m()\u001b[0m\n\u001b[1;32m      6\u001b[0m \u001b[0mf2\u001b[0m \u001b[0;34m=\u001b[0m \u001b[0;36m100\u001b[0m \u001b[0;31m# a variable definition\u001b[0m\u001b[0;34m\u001b[0m\u001b[0;34m\u001b[0m\u001b[0m\n\u001b[1;32m      7\u001b[0m \u001b[0;34m\u001b[0m\u001b[0m\n\u001b[0;32m----> 8\u001b[0;31m \u001b[0mprint\u001b[0m \u001b[0;34m(\u001b[0m\u001b[0mf2\u001b[0m\u001b[0;34m(\u001b[0m\u001b[0;36m5\u001b[0m\u001b[0;34m)\u001b[0m\u001b[0;34m)\u001b[0m\u001b[0;34m\u001b[0m\u001b[0;34m\u001b[0m\u001b[0m\n\u001b[0m",
      "\u001b[0;31mTypeError\u001b[0m: 'int' object is not callable"
     ]
    }
   ],
   "source": [
    "def f2(x): # a function definition \n",
    "    return x+10\n",
    "   \n",
    "print (f2(5))\n",
    "\n",
    "f2 = 100 # a variable definition \n",
    "\n",
    "print (f2(5))"
   ]
  },
  {
   "cell_type": "markdown",
   "metadata": {},
   "source": [
    "# Common mistakes when using functions\n",
    "\n",
    "\n",
    "## Definition without calling\n",
    "\n",
    "A function definition does \"run\" until called. A function itself is just a rule of mapping. It has no value. You use it only by plugging in numbers into it, i.e., calling it with proper arguments. \n",
    "\n",
    "Of course, you can define a function without calling it. It only introduces a block of code that will never be used in your program. But please do not assume that this function will run or give you anything. \n",
    "\n",
    "The standalone program below does NOT calculate the mortgage. "
   ]
  },
  {
   "cell_type": "code",
   "execution_count": null,
   "metadata": {},
   "outputs": [],
   "source": [
    "interete_rate = 0.0425\n",
    "year = 30\n",
    "principal = 1000000\n",
    "\n",
    "def total_payment(interest_rate, year, principal):\n",
    "    return principal * (1 + interest_rate) ** year\n",
    "\n",
    "total_payment"
   ]
  },
  {
   "cell_type": "markdown",
   "metadata": {},
   "source": [
    "## Assuming that the return value is held somewhere without assignment "
   ]
  },
  {
   "cell_type": "code",
   "execution_count": 11,
   "metadata": {},
   "outputs": [
    {
     "data": {
      "text/plain": [
       "3485635.012691447"
      ]
     },
     "execution_count": 11,
     "metadata": {},
     "output_type": "execute_result"
    }
   ],
   "source": [
    "interest_rate = 0.0425\n",
    "year = 30\n",
    "principal = 1000000\n",
    "\n",
    "def total_payment(interest_rate, year, principal):\n",
    "    return principal * (1 + interest_rate) ** year\n",
    "\n",
    "total_payment(interest_rate, year, principal)\n",
    "\n",
    "# what "
   ]
  },
  {
   "cell_type": "markdown",
   "metadata": {},
   "source": [
    "## Scope of a function\n",
    "Let's first see an example. What is the value of the variable `x` (which was 100) after executing the program below? "
   ]
  },
  {
   "cell_type": "code",
   "execution_count": 3,
   "metadata": {},
   "outputs": [
    {
     "name": "stdout",
     "output_type": "stream",
     "text": [
      "100\n"
     ]
    }
   ],
   "source": [
    "def f100(x):\n",
    "    x += 1\n",
    "    return x\n",
    "\n",
    "x = 100\n",
    "y = f100(5)\n",
    "print (x)"
   ]
  },
  {
   "cell_type": "markdown",
   "metadata": {},
   "source": [
    "Why is `x` still 100? Didn't it become 101 in line 2 of the definition of the function `f100`? \n",
    "\n",
    "The reason is that `x` is a **local variable**. Just like in math class, in a function definition, the variable $x$ in $f(x) = x+1$ is just a placeholder to represent any input of the function $f$. The $x$ loses its meaning outside of the function definition. A local variable is a variable that is explicitly listed in the function's argument list, i.e., in the parenthesis after function name in the `def` line. \n",
    "\n",
    "Unlike local variables, a **global variable** has its meaning outside of a function definition. However, Python does not allow access a global variable without expcitly stating so -- which we will skip to avoid confusion for now. See the example below, although there is a global variable `x`, it is still not accessible inside of the function `f200`. "
   ]
  },
  {
   "cell_type": "code",
   "execution_count": 12,
   "metadata": {},
   "outputs": [
    {
     "ename": "UnboundLocalError",
     "evalue": "local variable 'x' referenced before assignment",
     "output_type": "error",
     "traceback": [
      "\u001b[0;31m---------------------------------------------------------------------------\u001b[0m",
      "\u001b[0;31mUnboundLocalError\u001b[0m                         Traceback (most recent call last)",
      "\u001b[0;32m<ipython-input-12-fd378acb0491>\u001b[0m in \u001b[0;36m<module>\u001b[0;34m()\u001b[0m\n\u001b[1;32m      5\u001b[0m     \u001b[0;32mreturn\u001b[0m \u001b[0;36m10\u001b[0m\u001b[0;34m\u001b[0m\u001b[0;34m\u001b[0m\u001b[0m\n\u001b[1;32m      6\u001b[0m \u001b[0;34m\u001b[0m\u001b[0m\n\u001b[0;32m----> 7\u001b[0;31m \u001b[0my\u001b[0m \u001b[0;34m=\u001b[0m \u001b[0mf200\u001b[0m\u001b[0;34m(\u001b[0m\u001b[0;34m)\u001b[0m\u001b[0;34m\u001b[0m\u001b[0;34m\u001b[0m\u001b[0m\n\u001b[0m",
      "\u001b[0;32m<ipython-input-12-fd378acb0491>\u001b[0m in \u001b[0;36mf200\u001b[0;34m()\u001b[0m\n\u001b[1;32m      2\u001b[0m \u001b[0;34m\u001b[0m\u001b[0m\n\u001b[1;32m      3\u001b[0m \u001b[0;32mdef\u001b[0m \u001b[0mf200\u001b[0m\u001b[0;34m(\u001b[0m\u001b[0;34m)\u001b[0m\u001b[0;34m:\u001b[0m\u001b[0;34m\u001b[0m\u001b[0;34m\u001b[0m\u001b[0m\n\u001b[0;32m----> 4\u001b[0;31m     \u001b[0mx\u001b[0m \u001b[0;34m+=\u001b[0m \u001b[0;36m1\u001b[0m\u001b[0;34m\u001b[0m\u001b[0;34m\u001b[0m\u001b[0m\n\u001b[0m\u001b[1;32m      5\u001b[0m     \u001b[0;32mreturn\u001b[0m \u001b[0;36m10\u001b[0m\u001b[0;34m\u001b[0m\u001b[0;34m\u001b[0m\u001b[0m\n\u001b[1;32m      6\u001b[0m \u001b[0;34m\u001b[0m\u001b[0m\n",
      "\u001b[0;31mUnboundLocalError\u001b[0m: local variable 'x' referenced before assignment"
     ]
    }
   ],
   "source": [
    "x = 100\n",
    "\n",
    "def f200():\n",
    "    x += 1\n",
    "    return 10\n",
    "\n",
    "y = f200()"
   ]
  },
  {
   "cell_type": "markdown",
   "metadata": {},
   "source": [
    "(local) variables are also independent of each other in different functions. The same name doesn't mean any connection. Just like in math class, the $x$ in $f(x)= x+1$ and the $x$ in $g(x) = x ^2$ are independent. "
   ]
  },
  {
   "cell_type": "markdown",
   "metadata": {},
   "source": [
    "## Allowed function names\n",
    "Same as the naming rules for variable names. A string consists of alphanumerical (a to z, A to Z, and 0 to 9), begin with underline, or alphabet, e.g., `a0b1`, `_nine5`, `AAA`. Counter examples: `0abc`.\n",
    "\n",
    "## Built-in functions\n",
    "Python has some built-in functions, such as `len`, `print`, and `input`. "
   ]
  },
  {
   "cell_type": "code",
   "execution_count": 1,
   "metadata": {},
   "outputs": [
    {
     "name": "stdout",
     "output_type": "stream",
     "text": [
      "21\n",
      "23\n"
     ]
    }
   ],
   "source": [
    "print (len(\"Iowa State University\"))\n",
    "print (len(\"Iowa State University\")+2)"
   ]
  },
  {
   "cell_type": "code",
   "execution_count": 7,
   "metadata": {},
   "outputs": [
    {
     "name": "stdout",
     "output_type": "stream",
     "text": [
      "type something? 5\n",
      "5\n",
      "10\n"
     ]
    }
   ],
   "source": [
    "x = input(\"type something? \")\n",
    "print (x)\n",
    "print (int(x)+5)"
   ]
  },
  {
   "cell_type": "markdown",
   "metadata": {},
   "source": [
    "## Function composition\n",
    "Just as you learned in math class, functions can be composed. Let's define a new function `vegas`. "
   ]
  },
  {
   "cell_type": "code",
   "execution_count": 2,
   "metadata": {},
   "outputs": [
    {
     "ename": "NameError",
     "evalue": "name 'foo' is not defined",
     "output_type": "error",
     "traceback": [
      "\u001b[0;31m---------------------------------------------------------------------------\u001b[0m",
      "\u001b[0;31mNameError\u001b[0m                                 Traceback (most recent call last)",
      "\u001b[0;32m<ipython-input-2-65bca871ea68>\u001b[0m in \u001b[0;36m<module>\u001b[0;34m()\u001b[0m\n\u001b[1;32m      2\u001b[0m     \u001b[0;32mreturn\u001b[0m \u001b[0mfoo\u001b[0m\u001b[0;34m(\u001b[0m\u001b[0mx\u001b[0m\u001b[0;34m)\u001b[0m \u001b[0;34m+\u001b[0m \u001b[0;36m1\u001b[0m\u001b[0;34m\u001b[0m\u001b[0;34m\u001b[0m\u001b[0m\n\u001b[1;32m      3\u001b[0m \u001b[0;34m\u001b[0m\u001b[0m\n\u001b[0;32m----> 4\u001b[0;31m \u001b[0mprint\u001b[0m \u001b[0;34m(\u001b[0m\u001b[0mvegas\u001b[0m\u001b[0;34m(\u001b[0m\u001b[0;36m1\u001b[0m\u001b[0;34m)\u001b[0m\u001b[0;34m)\u001b[0m\u001b[0;34m\u001b[0m\u001b[0;34m\u001b[0m\u001b[0m\n\u001b[0m\u001b[1;32m      5\u001b[0m \u001b[0mprint\u001b[0m \u001b[0;34m(\u001b[0m\u001b[0mfoo\u001b[0m\u001b[0;34m(\u001b[0m\u001b[0;36m1\u001b[0m\u001b[0;34m)\u001b[0m\u001b[0;34m)\u001b[0m\u001b[0;34m\u001b[0m\u001b[0;34m\u001b[0m\u001b[0m\n",
      "\u001b[0;32m<ipython-input-2-65bca871ea68>\u001b[0m in \u001b[0;36mvegas\u001b[0;34m(x)\u001b[0m\n\u001b[1;32m      1\u001b[0m \u001b[0;32mdef\u001b[0m \u001b[0mvegas\u001b[0m\u001b[0;34m(\u001b[0m\u001b[0mx\u001b[0m\u001b[0;34m)\u001b[0m\u001b[0;34m:\u001b[0m\u001b[0;34m\u001b[0m\u001b[0;34m\u001b[0m\u001b[0m\n\u001b[0;32m----> 2\u001b[0;31m     \u001b[0;32mreturn\u001b[0m \u001b[0mfoo\u001b[0m\u001b[0;34m(\u001b[0m\u001b[0mx\u001b[0m\u001b[0;34m)\u001b[0m \u001b[0;34m+\u001b[0m \u001b[0;36m1\u001b[0m\u001b[0;34m\u001b[0m\u001b[0;34m\u001b[0m\u001b[0m\n\u001b[0m\u001b[1;32m      3\u001b[0m \u001b[0;34m\u001b[0m\u001b[0m\n\u001b[1;32m      4\u001b[0m \u001b[0mprint\u001b[0m \u001b[0;34m(\u001b[0m\u001b[0mvegas\u001b[0m\u001b[0;34m(\u001b[0m\u001b[0;36m1\u001b[0m\u001b[0;34m)\u001b[0m\u001b[0;34m)\u001b[0m\u001b[0;34m\u001b[0m\u001b[0;34m\u001b[0m\u001b[0m\n\u001b[1;32m      5\u001b[0m \u001b[0mprint\u001b[0m \u001b[0;34m(\u001b[0m\u001b[0mfoo\u001b[0m\u001b[0;34m(\u001b[0m\u001b[0;36m1\u001b[0m\u001b[0;34m)\u001b[0m\u001b[0;34m)\u001b[0m\u001b[0;34m\u001b[0m\u001b[0;34m\u001b[0m\u001b[0m\n",
      "\u001b[0;31mNameError\u001b[0m: name 'foo' is not defined"
     ]
    }
   ],
   "source": [
    "def vegas(x):\n",
    "    return foo(x) + 1 \n",
    "\n",
    "print (vegas(1))\n",
    "print (foo(1))"
   ]
  },
  {
   "cell_type": "markdown",
   "metadata": {},
   "source": [
    "And yes you can call the `print` function within a function definition.  Think about the program below, how many lines will be printed on the computer screen? And what are they? "
   ]
  },
  {
   "cell_type": "code",
   "execution_count": 1,
   "metadata": {},
   "outputs": [],
   "source": [
    "def f(x):\n",
    "    print (x+1)\n",
    "    return (x+1)\n",
    "    \n",
    "print (f(3)+2)"
   ]
  },
  {
   "cell_type": "markdown",
   "metadata": {},
   "source": [
    "Discussion about Lab 2: "
   ]
  },
  {
   "cell_type": "code",
   "execution_count": 8,
   "metadata": {},
   "outputs": [],
   "source": [
    "def CollectInfo():\n",
    "    Months = input(\"How many months?\")\n",
    "    HV = input(\"How much is the house?\")\n",
    "    IR = input(\"What's the interest rate?\")\n",
    "    Rent = input(\"How much is the rent?\")\n",
    "    return Months, HV, IR, Rent\n",
    "\n",
    "def RentorBuy():\n",
    "    Months, HouseValue, InterestRate, Rent \\\n",
    "                   = CollectInfo()\n",
    "    house_cost = HouseCost (Months, HouseValue, InterestRate)\n",
    "    apt_cost = RentCost (Months, Rent)\n",
    "    drawWindow(str(house_cost - apt_cost))\n",
    "    return house_cost - apt_cost "
   ]
  },
  {
   "cell_type": "markdown",
   "metadata": {},
   "source": [
    "# Default arguments "
   ]
  },
  {
   "cell_type": "code",
   "execution_count": 8,
   "metadata": {},
   "outputs": [
    {
     "name": "stdout",
     "output_type": "stream",
     "text": [
      "4\n",
      "11\n",
      "8\n",
      "6\n",
      "13\n",
      "10\n"
     ]
    }
   ],
   "source": [
    "def haha(x, y = 1):\n",
    "    return x+y \n",
    "\n",
    "print (haha(3))\n",
    "print (haha(3, y=8))\n",
    "print (haha(3,5))\n",
    "\n",
    "\n",
    "\n",
    "def dudu(x, y = 1, z = 2):\n",
    "    return x+y+z \n",
    "print (dudu(3))\n",
    "print (dudu(3, y=8))\n",
    "print (dudu(3,5))"
   ]
  },
  {
   "cell_type": "code",
   "execution_count": 9,
   "metadata": {},
   "outputs": [
    {
     "ename": "SyntaxError",
     "evalue": "non-default argument follows default argument (<ipython-input-9-b699678e4659>, line 1)",
     "output_type": "error",
     "traceback": [
      "\u001b[0;36m  File \u001b[0;32m\"<ipython-input-9-b699678e4659>\"\u001b[0;36m, line \u001b[0;32m1\u001b[0m\n\u001b[0;31m    def lili(x, y =1, z):\u001b[0m\n\u001b[0m            ^\u001b[0m\n\u001b[0;31mSyntaxError\u001b[0m\u001b[0;31m:\u001b[0m non-default argument follows default argument\n"
     ]
    }
   ],
   "source": [
    "def lili(x, y =1, z):\n",
    "    return x + y + z"
   ]
  },
  {
   "cell_type": "code",
   "execution_count": 12,
   "metadata": {},
   "outputs": [
    {
     "name": "stdout",
     "output_type": "stream",
     "text": [
      "-1\n",
      "Cyclone\n",
      "Cyclone\n",
      "Cyclone\n",
      "5\n"
     ]
    }
   ],
   "source": [
    "def duo(x,y):\n",
    "    return x +y, x-y \n",
    "\n",
    "\n",
    "a, _ = duo(2,3)\n",
    "\n",
    "print (_)\n",
    "\n",
    "\n",
    "for _ in range(3,6):\n",
    "    print (\"Cyclone\")\n",
    "\n",
    "\n",
    "\n",
    "\n",
    "\n",
    "\n",
    "\n"
   ]
  },
  {
   "cell_type": "code",
   "execution_count": null,
   "metadata": {},
   "outputs": [],
   "source": []
  }
 ],
 "metadata": {
  "kernelspec": {
   "display_name": "Python 3",
   "language": "python",
   "name": "python3"
  },
  "language_info": {
   "codemirror_mode": {
    "name": "ipython",
    "version": 3
   },
   "file_extension": ".py",
   "mimetype": "text/x-python",
   "name": "python",
   "nbconvert_exporter": "python",
   "pygments_lexer": "ipython3",
   "version": "3.6.7"
  }
 },
 "nbformat": 4,
 "nbformat_minor": 2
}
